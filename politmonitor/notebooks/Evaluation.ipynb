{
 "cells": [
  {
   "cell_type": "code",
   "execution_count": null,
   "id": "c4252db5",
   "metadata": {},
   "outputs": [],
   "source": [
    "from sklearn.metrics import classification_report\n",
    "import pandas as pd\n",
    "import json as js\n",
    "from ast import literal_eval\n",
    "from pprint import pprint"
   ]
  },
  {
   "cell_type": "markdown",
   "id": "958aff71",
   "metadata": {},
   "source": [
    "## Making a report about the performance per label"
   ]
  },
  {
   "cell_type": "code",
   "execution_count": null,
   "id": "5a10e9a3",
   "metadata": {},
   "outputs": [],
   "source": [
    "# Reading the data\n",
    "prediction_results = pd.read_json('../data/xlm-roberta-base_learning_rate_0.0003batch_size_16weight_decay_0.0--fp16/test_predictions_detailed.json')\n",
    "\n",
    "with open('../utils/label2id.json', 'r') as f:\n",
    "    label2id = js.load(f)\n",
    "\n",
    "del label2id['Diverses']\n",
    "\n",
    "# One hot encoded predictions\n",
    "y_pred = prediction_results.predictions.tolist()\n",
    "\n",
    "# One hot encoded reference labels\n",
    "y_true = prediction_results.reference.tolist()\n",
    "\n",
    "# Names of the labels spelled out\n",
    "target_names = sorted(list(label2id.keys()))"
   ]
  },
  {
   "cell_type": "code",
   "execution_count": null,
   "id": "090bcb2f",
   "metadata": {
    "scrolled": true
   },
   "outputs": [],
   "source": [
    "pprint(classification_report(y_true, y_pred, target_names=target_names, output_dict=True))"
   ]
  },
  {
   "cell_type": "code",
   "execution_count": null,
   "id": "d70e9c22",
   "metadata": {},
   "outputs": [],
   "source": [
    "prediction_results = pd.read_json('../data/xlm-roberta-base_learning_rate_0.0003batch_size_16weight_decay_0.0--fp16/test_predictions_detailed.json')"
   ]
  },
  {
   "cell_type": "code",
   "execution_count": null,
   "id": "df0e50d4",
   "metadata": {},
   "outputs": [],
   "source": [
    "prediction_results.reference.tolist()"
   ]
  },
  {
   "cell_type": "code",
   "execution_count": null,
   "id": "0c4baed9",
   "metadata": {},
   "outputs": [],
   "source": []
  }
 ],
 "metadata": {
  "kernelspec": {
   "display_name": "Python 3 (ipykernel)",
   "language": "python",
   "name": "python3"
  },
  "language_info": {
   "codemirror_mode": {
    "name": "ipython",
    "version": 3
   },
   "file_extension": ".py",
   "mimetype": "text/x-python",
   "name": "python",
   "nbconvert_exporter": "python",
   "pygments_lexer": "ipython3",
   "version": "3.9.16"
  }
 },
 "nbformat": 4,
 "nbformat_minor": 5
}
