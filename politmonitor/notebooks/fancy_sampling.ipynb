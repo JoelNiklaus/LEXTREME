{
 "cells": [
  {
   "cell_type": "code",
   "execution_count": null,
   "metadata": {},
   "outputs": [],
   "source": []
  },
  {
   "cell_type": "code",
   "execution_count": null,
   "metadata": {
    "colab": {
     "base_uri": "https://localhost:8080/",
     "height": 206
    },
    "id": "gaatyULJiOoF",
    "outputId": "6b6e50c7-eacf-42fa-9fef-780209b5806f"
   },
   "outputs": [
    {
     "data": {
      "text/html": [
       "\n",
       "  <div id=\"df-7114da5a-066c-410c-93a6-3ef5294dc825\">\n",
       "    <div class=\"colab-df-container\">\n",
       "      <div>\n",
       "<style scoped>\n",
       "    .dataframe tbody tr th:only-of-type {\n",
       "        vertical-align: middle;\n",
       "    }\n",
       "\n",
       "    .dataframe tbody tr th {\n",
       "        vertical-align: top;\n",
       "    }\n",
       "\n",
       "    .dataframe thead th {\n",
       "        text-align: right;\n",
       "    }\n",
       "</style>\n",
       "<table border=\"1\" class=\"dataframe\">\n",
       "  <thead>\n",
       "    <tr style=\"text-align: right;\">\n",
       "      <th></th>\n",
       "      <th>id</th>\n",
       "      <th>comment_text</th>\n",
       "      <th>toxic</th>\n",
       "      <th>severe_toxic</th>\n",
       "      <th>obscene</th>\n",
       "      <th>threat</th>\n",
       "      <th>insult</th>\n",
       "      <th>identity_hate</th>\n",
       "    </tr>\n",
       "  </thead>\n",
       "  <tbody>\n",
       "    <tr>\n",
       "      <th>0</th>\n",
       "      <td>0000997932d777bf</td>\n",
       "      <td>Explanation\\nWhy the edits made under my usern...</td>\n",
       "      <td>0</td>\n",
       "      <td>0</td>\n",
       "      <td>0</td>\n",
       "      <td>0</td>\n",
       "      <td>0</td>\n",
       "      <td>0</td>\n",
       "    </tr>\n",
       "    <tr>\n",
       "      <th>1</th>\n",
       "      <td>000103f0d9cfb60f</td>\n",
       "      <td>D'aww! He matches this background colour I'm s...</td>\n",
       "      <td>0</td>\n",
       "      <td>0</td>\n",
       "      <td>0</td>\n",
       "      <td>0</td>\n",
       "      <td>0</td>\n",
       "      <td>0</td>\n",
       "    </tr>\n",
       "    <tr>\n",
       "      <th>2</th>\n",
       "      <td>000113f07ec002fd</td>\n",
       "      <td>Hey man, I'm really not trying to edit war. It...</td>\n",
       "      <td>0</td>\n",
       "      <td>0</td>\n",
       "      <td>0</td>\n",
       "      <td>0</td>\n",
       "      <td>0</td>\n",
       "      <td>0</td>\n",
       "    </tr>\n",
       "    <tr>\n",
       "      <th>3</th>\n",
       "      <td>0001b41b1c6bb37e</td>\n",
       "      <td>\"\\nMore\\nI can't make any real suggestions on ...</td>\n",
       "      <td>0</td>\n",
       "      <td>0</td>\n",
       "      <td>0</td>\n",
       "      <td>0</td>\n",
       "      <td>0</td>\n",
       "      <td>0</td>\n",
       "    </tr>\n",
       "    <tr>\n",
       "      <th>4</th>\n",
       "      <td>0001d958c54c6e35</td>\n",
       "      <td>You, sir, are my hero. Any chance you remember...</td>\n",
       "      <td>0</td>\n",
       "      <td>0</td>\n",
       "      <td>0</td>\n",
       "      <td>0</td>\n",
       "      <td>0</td>\n",
       "      <td>0</td>\n",
       "    </tr>\n",
       "  </tbody>\n",
       "</table>\n",
       "</div>\n",
       "      <button class=\"colab-df-convert\" onclick=\"convertToInteractive('df-7114da5a-066c-410c-93a6-3ef5294dc825')\"\n",
       "              title=\"Convert this dataframe to an interactive table.\"\n",
       "              style=\"display:none;\">\n",
       "        \n",
       "  <svg xmlns=\"http://www.w3.org/2000/svg\" height=\"24px\"viewBox=\"0 0 24 24\"\n",
       "       width=\"24px\">\n",
       "    <path d=\"M0 0h24v24H0V0z\" fill=\"none\"/>\n",
       "    <path d=\"M18.56 5.44l.94 2.06.94-2.06 2.06-.94-2.06-.94-.94-2.06-.94 2.06-2.06.94zm-11 1L8.5 8.5l.94-2.06 2.06-.94-2.06-.94L8.5 2.5l-.94 2.06-2.06.94zm10 10l.94 2.06.94-2.06 2.06-.94-2.06-.94-.94-2.06-.94 2.06-2.06.94z\"/><path d=\"M17.41 7.96l-1.37-1.37c-.4-.4-.92-.59-1.43-.59-.52 0-1.04.2-1.43.59L10.3 9.45l-7.72 7.72c-.78.78-.78 2.05 0 2.83L4 21.41c.39.39.9.59 1.41.59.51 0 1.02-.2 1.41-.59l7.78-7.78 2.81-2.81c.8-.78.8-2.07 0-2.86zM5.41 20L4 18.59l7.72-7.72 1.47 1.35L5.41 20z\"/>\n",
       "  </svg>\n",
       "      </button>\n",
       "      \n",
       "  <style>\n",
       "    .colab-df-container {\n",
       "      display:flex;\n",
       "      flex-wrap:wrap;\n",
       "      gap: 12px;\n",
       "    }\n",
       "\n",
       "    .colab-df-convert {\n",
       "      background-color: #E8F0FE;\n",
       "      border: none;\n",
       "      border-radius: 50%;\n",
       "      cursor: pointer;\n",
       "      display: none;\n",
       "      fill: #1967D2;\n",
       "      height: 32px;\n",
       "      padding: 0 0 0 0;\n",
       "      width: 32px;\n",
       "    }\n",
       "\n",
       "    .colab-df-convert:hover {\n",
       "      background-color: #E2EBFA;\n",
       "      box-shadow: 0px 1px 2px rgba(60, 64, 67, 0.3), 0px 1px 3px 1px rgba(60, 64, 67, 0.15);\n",
       "      fill: #174EA6;\n",
       "    }\n",
       "\n",
       "    [theme=dark] .colab-df-convert {\n",
       "      background-color: #3B4455;\n",
       "      fill: #D2E3FC;\n",
       "    }\n",
       "\n",
       "    [theme=dark] .colab-df-convert:hover {\n",
       "      background-color: #434B5C;\n",
       "      box-shadow: 0px 1px 3px 1px rgba(0, 0, 0, 0.15);\n",
       "      filter: drop-shadow(0px 1px 2px rgba(0, 0, 0, 0.3));\n",
       "      fill: #FFFFFF;\n",
       "    }\n",
       "  </style>\n",
       "\n",
       "      <script>\n",
       "        const buttonEl =\n",
       "          document.querySelector('#df-7114da5a-066c-410c-93a6-3ef5294dc825 button.colab-df-convert');\n",
       "        buttonEl.style.display =\n",
       "          google.colab.kernel.accessAllowed ? 'block' : 'none';\n",
       "\n",
       "        async function convertToInteractive(key) {\n",
       "          const element = document.querySelector('#df-7114da5a-066c-410c-93a6-3ef5294dc825');\n",
       "          const dataTable =\n",
       "            await google.colab.kernel.invokeFunction('convertToInteractive',\n",
       "                                                     [key], {});\n",
       "          if (!dataTable) return;\n",
       "\n",
       "          const docLinkHtml = 'Like what you see? Visit the ' +\n",
       "            '<a target=\"_blank\" href=https://colab.research.google.com/notebooks/data_table.ipynb>data table notebook</a>'\n",
       "            + ' to learn more about interactive tables.';\n",
       "          element.innerHTML = '';\n",
       "          dataTable['output_type'] = 'display_data';\n",
       "          await google.colab.output.renderOutput(dataTable, element);\n",
       "          const docLink = document.createElement('div');\n",
       "          docLink.innerHTML = docLinkHtml;\n",
       "          element.appendChild(docLink);\n",
       "        }\n",
       "      </script>\n",
       "    </div>\n",
       "  </div>\n",
       "  "
      ],
      "text/plain": [
       "                 id  ... identity_hate\n",
       "0  0000997932d777bf  ...             0\n",
       "1  000103f0d9cfb60f  ...             0\n",
       "2  000113f07ec002fd  ...             0\n",
       "3  0001b41b1c6bb37e  ...             0\n",
       "4  0001d958c54c6e35  ...             0\n",
       "\n",
       "[5 rows x 8 columns]"
      ]
     },
     "execution_count": 1,
     "metadata": {},
     "output_type": "execute_result"
    }
   ],
   "source": [
    "import numpy as np\n",
    "import pandas as pd\n",
    "import matplotlib.pyplot as plt\n",
    "\n",
    "from scipy.optimize import nnls\n",
    "from tqdm import tqdm\n",
    "\n",
    "# all toxic labels\n",
    "toxic_labels = ['toxic', 'severe_toxic', 'obscene', 'threat', 'insult', 'identity_hate']\n",
    "\n",
    "df = pd.read_csv('train.csv')\n",
    "df.head()"
   ]
  },
  {
   "cell_type": "code",
   "execution_count": null,
   "metadata": {
    "colab": {
     "base_uri": "https://localhost:8080/",
     "height": 283
    },
    "id": "ykI0w6zoot4W",
    "outputId": "2c6994be-7f4f-4102-d40f-371f7f261825"
   },
   "outputs": [
    {
     "data": {
      "text/plain": [
       "<matplotlib.axes._subplots.AxesSubplot at 0x7f9696a62550>"
      ]
     },
     "execution_count": 5,
     "metadata": {},
     "output_type": "execute_result"
    },
    {
     "data": {
      "image/png": "[encoded data removed]",
      "text/plain": [
       "<Figure size 432x288 with 1 Axes>"
      ]
     },
     "metadata": {
      "needs_background": "light"
     },
     "output_type": "display_data"
    }
   ],
   "source": [
    "# histogram of number of labels per examples\n",
    "df_labels = df[toxic_labels]\n",
    "df_labels.sum(axis = 1).plot.hist(log = True, bins = 7)"
   ]
  },
  {
   "cell_type": "code",
   "execution_count": null,
   "metadata": {
    "colab": {
     "base_uri": "https://localhost:8080/",
     "height": 342
    },
    "id": "iP6RbFfcot1i",
    "outputId": "6c68021c-87ae-44a6-bf77-d560e4660639"
   },
   "outputs": [
    {
     "data": {
      "text/plain": [
       "<matplotlib.axes._subplots.AxesSubplot at 0x7f968e91d4d0>"
      ]
     },
     "execution_count": 6,
     "metadata": {},
     "output_type": "execute_result"
    },
    {
     "data": {
      "image/png": "[encoded data removed]",
      "text/plain": [
       "<Figure size 432x288 with 1 Axes>"
      ]
     },
     "metadata": {
      "needs_background": "light"
     },
     "output_type": "display_data"
    }
   ],
   "source": [
    "# get count of each label\n",
    "label_counts = df_labels.sum().to_dict()\n",
    "df_labels[sorted(label_counts.keys(), key = label_counts.get, reverse = True)].sum().plot.bar()"
   ]
  },
  {
   "cell_type": "code",
   "execution_count": null,
   "metadata": {
    "id": "RkVuiK_loty4"
   },
   "outputs": [],
   "source": [
    "def categorical_entropy(df, labels = toxic_labels):\n",
    "    # entropy for labels across the dataset\n",
    "    # p(l) = count(l) / sum(count(l) for l in labels))\n",
    "    # H = sum(p(l) * -log2 p(l) for l in labels)\n",
    "    cat_sums = df[labels].sum()\n",
    "    cat_probs = np.array([cs / cat_sums.sum() for cs in cat_sums])\n",
    "    return np.sum(cat_probs * -np.log2(cat_probs))\n"
   ]
  },
  {
   "cell_type": "code",
   "execution_count": null,
   "metadata": {
    "colab": {
     "base_uri": "https://localhost:8080/"
    },
    "id": "AqhgpSO6otwP",
    "outputId": "c5c50789-d14d-43a7-fe31-c91590422df6"
   },
   "outputs": [
    {
     "data": {
      "text/plain": [
       "1.9735258511168368"
      ]
     },
     "execution_count": 8,
     "metadata": {},
     "output_type": "execute_result"
    }
   ],
   "source": [
    "# entropy for original dataset\n",
    "categorical_entropy(df)"
   ]
  },
  {
   "cell_type": "code",
   "execution_count": null,
   "metadata": {
    "colab": {
     "base_uri": "https://localhost:8080/",
     "height": 237
    },
    "id": "3bV-CxO_otto",
    "outputId": "418a1d1d-2b6e-4ae6-fb51-492af5c67ddf"
   },
   "outputs": [
    {
     "data": {
      "text/html": [
       "<style type=\"text/css\">\n",
       "#T_82488_row0_col0, #T_82488_row1_col1, #T_82488_row2_col2, #T_82488_row3_col3, #T_82488_row4_col4, #T_82488_row5_col5 {\n",
       "  background-color: #b40426;\n",
       "  color: #f1f1f1;\n",
       "}\n",
       "#T_82488_row0_col1 {\n",
       "  background-color: #80a3fa;\n",
       "  color: #f1f1f1;\n",
       "}\n",
       "#T_82488_row0_col2 {\n",
       "  background-color: #f4c5ad;\n",
       "  color: #000000;\n",
       "}\n",
       "#T_82488_row0_col3 {\n",
       "  background-color: #4961d2;\n",
       "  color: #f1f1f1;\n",
       "}\n",
       "#T_82488_row0_col4 {\n",
       "  background-color: #efcebd;\n",
       "  color: #000000;\n",
       "}\n",
       "#T_82488_row0_col5, #T_82488_row5_col2 {\n",
       "  background-color: #7093f3;\n",
       "  color: #f1f1f1;\n",
       "}\n",
       "#T_82488_row1_col0 {\n",
       "  background-color: #7597f6;\n",
       "  color: #f1f1f1;\n",
       "}\n",
       "#T_82488_row1_col2 {\n",
       "  background-color: #a1c0ff;\n",
       "  color: #000000;\n",
       "}\n",
       "#T_82488_row1_col3 {\n",
       "  background-color: #3d50c3;\n",
       "  color: #f1f1f1;\n",
       "}\n",
       "#T_82488_row1_col4 {\n",
       "  background-color: #93b5fe;\n",
       "  color: #000000;\n",
       "}\n",
       "#T_82488_row1_col5 {\n",
       "  background-color: #5977e3;\n",
       "  color: #f1f1f1;\n",
       "}\n",
       "#T_82488_row2_col0 {\n",
       "  background-color: #f3c7b1;\n",
       "  color: #000000;\n",
       "}\n",
       "#T_82488_row2_col1 {\n",
       "  background-color: #a5c3fe;\n",
       "  color: #000000;\n",
       "}\n",
       "#T_82488_row2_col3 {\n",
       "  background-color: #4358cb;\n",
       "  color: #f1f1f1;\n",
       "}\n",
       "#T_82488_row2_col4, #T_82488_row4_col2 {\n",
       "  background-color: #f7ad90;\n",
       "  color: #000000;\n",
       "}\n",
       "#T_82488_row2_col5 {\n",
       "  background-color: #799cf8;\n",
       "  color: #f1f1f1;\n",
       "}\n",
       "#T_82488_row3_col0, #T_82488_row3_col1, #T_82488_row3_col2, #T_82488_row3_col4, #T_82488_row3_col5, #T_82488_row5_col3 {\n",
       "  background-color: #3b4cc0;\n",
       "  color: #f1f1f1;\n",
       "}\n",
       "#T_82488_row4_col0 {\n",
       "  background-color: #efcfbf;\n",
       "  color: #000000;\n",
       "}\n",
       "#T_82488_row4_col1 {\n",
       "  background-color: #9abbff;\n",
       "  color: #000000;\n",
       "}\n",
       "#T_82488_row4_col3 {\n",
       "  background-color: #465ecf;\n",
       "  color: #f1f1f1;\n",
       "}\n",
       "#T_82488_row4_col5 {\n",
       "  background-color: #8db0fe;\n",
       "  color: #000000;\n",
       "}\n",
       "#T_82488_row5_col0 {\n",
       "  background-color: #6384eb;\n",
       "  color: #f1f1f1;\n",
       "}\n",
       "#T_82488_row5_col1 {\n",
       "  background-color: #5572df;\n",
       "  color: #f1f1f1;\n",
       "}\n",
       "#T_82488_row5_col4 {\n",
       "  background-color: #82a6fb;\n",
       "  color: #f1f1f1;\n",
       "}\n",
       "</style>\n",
       "<table id=\"T_82488_\" class=\"dataframe\">\n",
       "  <thead>\n",
       "    <tr>\n",
       "      <th class=\"blank level0\" >&nbsp;</th>\n",
       "      <th class=\"col_heading level0 col0\" >toxic</th>\n",
       "      <th class=\"col_heading level0 col1\" >severe_toxic</th>\n",
       "      <th class=\"col_heading level0 col2\" >obscene</th>\n",
       "      <th class=\"col_heading level0 col3\" >threat</th>\n",
       "      <th class=\"col_heading level0 col4\" >insult</th>\n",
       "      <th class=\"col_heading level0 col5\" >identity_hate</th>\n",
       "    </tr>\n",
       "  </thead>\n",
       "  <tbody>\n",
       "    <tr>\n",
       "      <th id=\"T_82488_level0_row0\" class=\"row_heading level0 row0\" >toxic</th>\n",
       "      <td id=\"T_82488_row0_col0\" class=\"data row0 col0\" >1.000000</td>\n",
       "      <td id=\"T_82488_row0_col1\" class=\"data row0 col1\" >0.308619</td>\n",
       "      <td id=\"T_82488_row0_col2\" class=\"data row0 col2\" >0.676515</td>\n",
       "      <td id=\"T_82488_row0_col3\" class=\"data row0 col3\" >0.157058</td>\n",
       "      <td id=\"T_82488_row0_col4\" class=\"data row0 col4\" >0.647518</td>\n",
       "      <td id=\"T_82488_row0_col5\" class=\"data row0 col5\" >0.266009</td>\n",
       "    </tr>\n",
       "    <tr>\n",
       "      <th id=\"T_82488_level0_row1\" class=\"row_heading level0 row1\" >severe_toxic</th>\n",
       "      <td id=\"T_82488_row1_col0\" class=\"data row1 col0\" >0.308619</td>\n",
       "      <td id=\"T_82488_row1_col1\" class=\"data row1 col1\" >1.000000</td>\n",
       "      <td id=\"T_82488_row1_col2\" class=\"data row1 col2\" >0.403014</td>\n",
       "      <td id=\"T_82488_row1_col3\" class=\"data row1 col3\" >0.123601</td>\n",
       "      <td id=\"T_82488_row1_col4\" class=\"data row1 col4\" >0.375807</td>\n",
       "      <td id=\"T_82488_row1_col5\" class=\"data row1 col5\" >0.201600</td>\n",
       "    </tr>\n",
       "    <tr>\n",
       "      <th id=\"T_82488_level0_row2\" class=\"row_heading level0 row2\" >obscene</th>\n",
       "      <td id=\"T_82488_row2_col0\" class=\"data row2 col0\" >0.676515</td>\n",
       "      <td id=\"T_82488_row2_col1\" class=\"data row2 col1\" >0.403014</td>\n",
       "      <td id=\"T_82488_row2_col2\" class=\"data row2 col2\" >1.000000</td>\n",
       "      <td id=\"T_82488_row2_col3\" class=\"data row2 col3\" >0.141179</td>\n",
       "      <td id=\"T_82488_row2_col4\" class=\"data row2 col4\" >0.741272</td>\n",
       "      <td id=\"T_82488_row2_col5\" class=\"data row2 col5\" >0.286867</td>\n",
       "    </tr>\n",
       "    <tr>\n",
       "      <th id=\"T_82488_level0_row3\" class=\"row_heading level0 row3\" >threat</th>\n",
       "      <td id=\"T_82488_row3_col0\" class=\"data row3 col0\" >0.157058</td>\n",
       "      <td id=\"T_82488_row3_col1\" class=\"data row3 col1\" >0.123601</td>\n",
       "      <td id=\"T_82488_row3_col2\" class=\"data row3 col2\" >0.141179</td>\n",
       "      <td id=\"T_82488_row3_col3\" class=\"data row3 col3\" >1.000000</td>\n",
       "      <td id=\"T_82488_row3_col4\" class=\"data row3 col4\" >0.150022</td>\n",
       "      <td id=\"T_82488_row3_col5\" class=\"data row3 col5\" >0.115128</td>\n",
       "    </tr>\n",
       "    <tr>\n",
       "      <th id=\"T_82488_level0_row4\" class=\"row_heading level0 row4\" >insult</th>\n",
       "      <td id=\"T_82488_row4_col0\" class=\"data row4 col0\" >0.647518</td>\n",
       "      <td id=\"T_82488_row4_col1\" class=\"data row4 col1\" >0.375807</td>\n",
       "      <td id=\"T_82488_row4_col2\" class=\"data row4 col2\" >0.741272</td>\n",
       "      <td id=\"T_82488_row4_col3\" class=\"data row4 col3\" >0.150022</td>\n",
       "      <td id=\"T_82488_row4_col4\" class=\"data row4 col4\" >1.000000</td>\n",
       "      <td id=\"T_82488_row4_col5\" class=\"data row4 col5\" >0.337736</td>\n",
       "    </tr>\n",
       "    <tr>\n",
       "      <th id=\"T_82488_level0_row5\" class=\"row_heading level0 row5\" >identity_hate</th>\n",
       "      <td id=\"T_82488_row5_col0\" class=\"data row5 col0\" >0.266009</td>\n",
       "      <td id=\"T_82488_row5_col1\" class=\"data row5 col1\" >0.201600</td>\n",
       "      <td id=\"T_82488_row5_col2\" class=\"data row5 col2\" >0.286867</td>\n",
       "      <td id=\"T_82488_row5_col3\" class=\"data row5 col3\" >0.115128</td>\n",
       "      <td id=\"T_82488_row5_col4\" class=\"data row5 col4\" >0.337736</td>\n",
       "      <td id=\"T_82488_row5_col5\" class=\"data row5 col5\" >1.000000</td>\n",
       "    </tr>\n",
       "  </tbody>\n",
       "</table>\n"
      ],
      "text/plain": [
       "<pandas.io.formats.style.Styler at 0x7f968e849110>"
      ]
     },
     "execution_count": 9,
     "metadata": {},
     "output_type": "execute_result"
    }
   ],
   "source": [
    "# correlation plot for labels\n",
    "corr = df_labels.corr()\n",
    "corr.style.background_gradient(cmap='coolwarm')"
   ]
  },
  {
   "cell_type": "code",
   "execution_count": null,
   "metadata": {
    "colab": {
     "base_uri": "https://localhost:8080/",
     "height": 237
    },
    "id": "6-4T1bXaotqh",
    "outputId": "bbac1aae-319a-4426-a5f3-818c54a68d18"
   },
   "outputs": [
    {
     "data": {
      "text/html": [
       "<style type=\"text/css\">\n",
       "#T_66452_row0_col0, #T_66452_row0_col1, #T_66452_row1_col1, #T_66452_row2_col2, #T_66452_row3_col3, #T_66452_row4_col4, #T_66452_row5_col5 {\n",
       "  background-color: #b40426;\n",
       "  color: #f1f1f1;\n",
       "}\n",
       "#T_66452_row0_col2 {\n",
       "  background-color: #cb3e38;\n",
       "  color: #f1f1f1;\n",
       "}\n",
       "#T_66452_row0_col3 {\n",
       "  background-color: #cf453c;\n",
       "  color: #f1f1f1;\n",
       "}\n",
       "#T_66452_row0_col4 {\n",
       "  background-color: #cd423b;\n",
       "  color: #f1f1f1;\n",
       "}\n",
       "#T_66452_row0_col5 {\n",
       "  background-color: #d0473d;\n",
       "  color: #f1f1f1;\n",
       "}\n",
       "#T_66452_row1_col0 {\n",
       "  background-color: #516ddb;\n",
       "  color: #f1f1f1;\n",
       "}\n",
       "#T_66452_row1_col2 {\n",
       "  background-color: #6a8bef;\n",
       "  color: #f1f1f1;\n",
       "}\n",
       "#T_66452_row1_col3 {\n",
       "  background-color: #455cce;\n",
       "  color: #f1f1f1;\n",
       "}\n",
       "#T_66452_row1_col4 {\n",
       "  background-color: #6687ed;\n",
       "  color: #f1f1f1;\n",
       "}\n",
       "#T_66452_row1_col5 {\n",
       "  background-color: #6f92f3;\n",
       "  color: #f1f1f1;\n",
       "}\n",
       "#T_66452_row2_col0 {\n",
       "  background-color: #dddcdc;\n",
       "  color: #000000;\n",
       "}\n",
       "#T_66452_row2_col1 {\n",
       "  background-color: #c73635;\n",
       "  color: #f1f1f1;\n",
       "}\n",
       "#T_66452_row2_col3 {\n",
       "  background-color: #e5d8d1;\n",
       "  color: #000000;\n",
       "}\n",
       "#T_66452_row2_col4 {\n",
       "  background-color: #f29072;\n",
       "  color: #f1f1f1;\n",
       "}\n",
       "#T_66452_row2_col5 {\n",
       "  background-color: #f7a889;\n",
       "  color: #000000;\n",
       "}\n",
       "#T_66452_row3_col0, #T_66452_row3_col1, #T_66452_row3_col2, #T_66452_row3_col4, #T_66452_row3_col5, #T_66452_row5_col3 {\n",
       "  background-color: #3b4cc0;\n",
       "  color: #f1f1f1;\n",
       "}\n",
       "#T_66452_row4_col0 {\n",
       "  background-color: #d3dbe7;\n",
       "  color: #000000;\n",
       "}\n",
       "#T_66452_row4_col1 {\n",
       "  background-color: #e36c55;\n",
       "  color: #f1f1f1;\n",
       "}\n",
       "#T_66452_row4_col2 {\n",
       "  background-color: #f7a688;\n",
       "  color: #000000;\n",
       "}\n",
       "#T_66452_row4_col3 {\n",
       "  background-color: #e9d5cb;\n",
       "  color: #000000;\n",
       "}\n",
       "#T_66452_row4_col5 {\n",
       "  background-color: #eb7d62;\n",
       "  color: #f1f1f1;\n",
       "}\n",
       "#T_66452_row5_col0 {\n",
       "  background-color: #4b64d5;\n",
       "  color: #f1f1f1;\n",
       "}\n",
       "#T_66452_row5_col1 {\n",
       "  background-color: #6485ec;\n",
       "  color: #f1f1f1;\n",
       "}\n",
       "#T_66452_row5_col2 {\n",
       "  background-color: #5572df;\n",
       "  color: #f1f1f1;\n",
       "}\n",
       "#T_66452_row5_col4 {\n",
       "  background-color: #5d7ce6;\n",
       "  color: #f1f1f1;\n",
       "}\n",
       "</style>\n",
       "<table id=\"T_66452_\" class=\"dataframe\">\n",
       "  <thead>\n",
       "    <tr>\n",
       "      <th class=\"blank level0\" >&nbsp;</th>\n",
       "      <th class=\"col_heading level0 col0\" >toxic</th>\n",
       "      <th class=\"col_heading level0 col1\" >severe_toxic</th>\n",
       "      <th class=\"col_heading level0 col2\" >obscene</th>\n",
       "      <th class=\"col_heading level0 col3\" >threat</th>\n",
       "      <th class=\"col_heading level0 col4\" >insult</th>\n",
       "      <th class=\"col_heading level0 col5\" >identity_hate</th>\n",
       "    </tr>\n",
       "  </thead>\n",
       "  <tbody>\n",
       "    <tr>\n",
       "      <th id=\"T_66452_level0_row0\" class=\"row_heading level0 row0\" >toxic</th>\n",
       "      <td id=\"T_66452_row0_col0\" class=\"data row0 col0\" >1.000000</td>\n",
       "      <td id=\"T_66452_row0_col1\" class=\"data row0 col1\" >1.000000</td>\n",
       "      <td id=\"T_66452_row0_col2\" class=\"data row0 col2\" >0.938099</td>\n",
       "      <td id=\"T_66452_row0_col3\" class=\"data row0 col3\" >0.939331</td>\n",
       "      <td id=\"T_66452_row0_col4\" class=\"data row0 col4\" >0.932335</td>\n",
       "      <td id=\"T_66452_row0_col5\" class=\"data row0 col5\" >0.926690</td>\n",
       "    </tr>\n",
       "    <tr>\n",
       "      <th id=\"T_66452_level0_row1\" class=\"row_heading level0 row1\" >severe_toxic</th>\n",
       "      <td id=\"T_66452_row1_col0\" class=\"data row1 col0\" >0.104289</td>\n",
       "      <td id=\"T_66452_row1_col1\" class=\"data row1 col1\" >1.000000</td>\n",
       "      <td id=\"T_66452_row1_col2\" class=\"data row1 col2\" >0.179548</td>\n",
       "      <td id=\"T_66452_row1_col3\" class=\"data row1 col3\" >0.234310</td>\n",
       "      <td id=\"T_66452_row1_col4\" class=\"data row1 col4\" >0.174051</td>\n",
       "      <td id=\"T_66452_row1_col5\" class=\"data row1 col5\" >0.222776</td>\n",
       "    </tr>\n",
       "    <tr>\n",
       "      <th id=\"T_66452_level0_row2\" class=\"row_heading level0 row2\" >obscene</th>\n",
       "      <td id=\"T_66452_row2_col0\" class=\"data row2 col0\" >0.518242</td>\n",
       "      <td id=\"T_66452_row2_col1\" class=\"data row2 col1\" >0.951097</td>\n",
       "      <td id=\"T_66452_row2_col2\" class=\"data row2 col2\" >1.000000</td>\n",
       "      <td id=\"T_66452_row2_col3\" class=\"data row2 col3\" >0.629707</td>\n",
       "      <td id=\"T_66452_row2_col4\" class=\"data row2 col4\" >0.781389</td>\n",
       "      <td id=\"T_66452_row2_col5\" class=\"data row2 col5\" >0.734520</td>\n",
       "    </tr>\n",
       "    <tr>\n",
       "      <th id=\"T_66452_level0_row3\" class=\"row_heading level0 row3\" >threat</th>\n",
       "      <td id=\"T_66452_row3_col0\" class=\"data row3 col0\" >0.029358</td>\n",
       "      <td id=\"T_66452_row3_col1\" class=\"data row3 col1\" >0.070219</td>\n",
       "      <td id=\"T_66452_row3_col2\" class=\"data row3 col2\" >0.035626</td>\n",
       "      <td id=\"T_66452_row3_col3\" class=\"data row3 col3\" >1.000000</td>\n",
       "      <td id=\"T_66452_row3_col4\" class=\"data row3 col4\" >0.038974</td>\n",
       "      <td id=\"T_66452_row3_col5\" class=\"data row3 col5\" >0.069751</td>\n",
       "    </tr>\n",
       "    <tr>\n",
       "      <th id=\"T_66452_level0_row4\" class=\"row_heading level0 row4\" >insult</th>\n",
       "      <td id=\"T_66452_row4_col0\" class=\"data row4 col0\" >0.480188</td>\n",
       "      <td id=\"T_66452_row4_col1\" class=\"data row4 col1\" >0.859561</td>\n",
       "      <td id=\"T_66452_row4_col2\" class=\"data row4 col2\" >0.728489</td>\n",
       "      <td id=\"T_66452_row4_col3\" class=\"data row4 col3\" >0.642259</td>\n",
       "      <td id=\"T_66452_row4_col4\" class=\"data row4 col4\" >1.000000</td>\n",
       "      <td id=\"T_66452_row4_col5\" class=\"data row4 col5\" >0.825623</td>\n",
       "    </tr>\n",
       "    <tr>\n",
       "      <th id=\"T_66452_level0_row5\" class=\"row_heading level0 row5\" >identity_hate</th>\n",
       "      <td id=\"T_66452_row5_col0\" class=\"data row5 col0\" >0.085131</td>\n",
       "      <td id=\"T_66452_row5_col1\" class=\"data row5 col1\" >0.196238</td>\n",
       "      <td id=\"T_66452_row5_col2\" class=\"data row5 col2\" >0.122145</td>\n",
       "      <td id=\"T_66452_row5_col3\" class=\"data row5 col3\" >0.205021</td>\n",
       "      <td id=\"T_66452_row5_col4\" class=\"data row5 col4\" >0.147264</td>\n",
       "      <td id=\"T_66452_row5_col5\" class=\"data row5 col5\" >1.000000</td>\n",
       "    </tr>\n",
       "  </tbody>\n",
       "</table>\n"
      ],
      "text/plain": [
       "<pandas.io.formats.style.Styler at 0x7f968e092750>"
      ]
     },
     "execution_count": 10,
     "metadata": {},
     "output_type": "execute_result"
    }
   ],
   "source": [
    "# conditional probability matrix\n",
    "def build_conditional_prob_matrix(df, labels):\n",
    "    cooc = df[labels].values.T.dot(df[labels].values)\n",
    "    cooc_norm = cooc.copy().astype(np.float32)\n",
    "    for i in range(cooc_norm.shape[0]):\n",
    "        cooc_norm[:, i] /= cooc[i, i]\n",
    "    return cooc_norm\n",
    "\n",
    "cooc_norm = build_conditional_prob_matrix(df, toxic_labels)\n",
    "cooc_df = pd.DataFrame(cooc_norm, columns = toxic_labels, index = toxic_labels)\n",
    "cooc_df.style.background_gradient(cmap = 'coolwarm')"
   ]
  },
  {
   "cell_type": "code",
   "execution_count": null,
   "metadata": {
    "colab": {
     "base_uri": "https://localhost:8080/",
     "height": 339
    },
    "id": "uITJgt1gotkR",
    "outputId": "8979e465-49da-4761-e832-1ba88b8e4159"
   },
   "outputs": [
    {
     "data": {
      "text/plain": [
       "<matplotlib.axes._subplots.AxesSubplot at 0x7f968e0408d0>"
      ]
     },
     "execution_count": 11,
     "metadata": {},
     "output_type": "execute_result"
    },
    {
     "data": {
      "image/png": "[encoded data removed]",
      "text/plain": [
       "<Figure size 432x288 with 1 Axes>"
      ]
     },
     "metadata": {
      "needs_background": "light"
     },
     "output_type": "display_data"
    }
   ],
   "source": [
    "# counts per label for examples that have severe_toxic label\n",
    "df[df['severe_toxic'] == 1][sorted(label_counts.keys(), key = label_counts.get, reverse = True)].sum().plot.bar()"
   ]
  },
  {
   "cell_type": "code",
   "execution_count": null,
   "metadata": {
    "colab": {
     "base_uri": "https://localhost:8080/"
    },
    "id": "bTgmBrLhotZW",
    "outputId": "cacb3c84-47e4-47f3-c87a-0d1d4f8fb6cd"
   },
   "outputs": [
    {
     "name": "stdout",
     "output_type": "stream",
     "text": [
      "600\n"
     ]
    },
    {
     "data": {
      "text/plain": [
       "toxic            574\n",
       "severe_toxic     198\n",
       "obscene          467\n",
       "threat           124\n",
       "insult           450\n",
       "identity_hate    180\n",
       "dtype: int64"
      ]
     },
     "execution_count": 12,
     "metadata": {},
     "output_type": "execute_result"
    }
   ],
   "source": [
    "# naive sampling method\n",
    "# pick N examples for each label and concat\n",
    "def naive_sample(df, labels, target_count):\n",
    "    df_subs = []\n",
    "    for label in labels:\n",
    "        sub_df = df[df[label] == 1]\n",
    "        df_subs.append(sub_df.sample(target_count, \n",
    "                                     replace = len(sub_df) < target_count))\n",
    "    sampled_df = pd.concat(df_subs)\n",
    "    return sampled_df\n",
    "\n",
    "TARGET_COUNT = 100\n",
    "\n",
    "sampled_df = naive_sample(df, toxic_labels, TARGET_COUNT)\n",
    "sampled_df_labels = sampled_df[toxic_labels]\n",
    "print(len(sampled_df))\n",
    "sampled_df_labels.sum()"
   ]
  },
  {
   "cell_type": "code",
   "execution_count": null,
   "metadata": {
    "colab": {
     "base_uri": "https://localhost:8080/",
     "height": 342
    },
    "id": "Y1FPQ0E2pTrU",
    "outputId": "7ae2f371-a133-4c2a-e889-947b28d5916a"
   },
   "outputs": [
    {
     "data": {
      "text/plain": [
       "<matplotlib.axes._subplots.AxesSubplot at 0x7f968df5f890>"
      ]
     },
     "execution_count": 13,
     "metadata": {},
     "output_type": "execute_result"
    },
    {
     "data": {
      "image/png": "[encoded data removed]",
      "text/plain": [
       "<Figure size 432x288 with 1 Axes>"
      ]
     },
     "metadata": {
      "needs_background": "light"
     },
     "output_type": "display_data"
    }
   ],
   "source": [
    "# counts for naive sampling method\n",
    "label_counts = sampled_df_labels[toxic_labels].sum().to_dict()\n",
    "sampled_df_labels[sorted(label_counts.keys(), key = label_counts.get, reverse = True)].sum().plot.bar()"
   ]
  },
  {
   "cell_type": "code",
   "execution_count": null,
   "metadata": {
    "colab": {
     "base_uri": "https://localhost:8080/"
    },
    "id": "u3wlDxMOpToc",
    "outputId": "0958cc95-3195-44f6-9ca0-12702c1a2c6c"
   },
   "outputs": [
    {
     "data": {
      "text/plain": [
       "2.386042706325761"
      ]
     },
     "execution_count": 14,
     "metadata": {},
     "output_type": "execute_result"
    }
   ],
   "source": [
    "# entropy for sampled dataset. A little higher than the original dataset\n",
    "categorical_entropy(sampled_df)"
   ]
  },
  {
   "cell_type": "code",
   "execution_count": null,
   "metadata": {
    "colab": {
     "base_uri": "https://localhost:8080/"
    },
    "id": "baVC93yvpTll",
    "outputId": "f7def24d-5fe9-41e5-b889-f87e2bd96511"
   },
   "outputs": [
    {
     "data": {
      "text/plain": [
       "array([ 0, 33,  0, 67,  0, 45], dtype=int32)"
      ]
     },
     "execution_count": 15,
     "metadata": {},
     "output_type": "execute_result"
    }
   ],
   "source": [
    "# the \"\"\"optimal\"\"\" number of samples per label, given NNLS\n",
    "target_counts = [TARGET_COUNT for _ in toxic_labels]\n",
    "optimal_samples, residuals = nnls(cooc_norm, target_counts)\n",
    "optimal_samples = optimal_samples.round().astype(np.int32)\n",
    "optimal_samples"
   ]
  },
  {
   "cell_type": "code",
   "execution_count": null,
   "metadata": {
    "colab": {
     "base_uri": "https://localhost:8080/"
    },
    "id": "In3AQijZpTc-",
    "outputId": "66119e24-0b01-4e63-9f8d-820f68e53737"
   },
   "outputs": [
    {
     "name": "stdout",
     "output_type": "stream",
     "text": [
      "146\n"
     ]
    },
    {
     "data": {
      "text/plain": [
       "toxic            135\n",
       "severe_toxic      54\n",
       "obscene          106\n",
       "threat            74\n",
       "insult           104\n",
       "identity_hate     61\n",
       "dtype: int64"
      ]
     },
     "execution_count": 16,
     "metadata": {},
     "output_type": "execute_result"
    }
   ],
   "source": [
    "# using NNLS, sampling the dataset\n",
    "def fancy_sample(df, labels, target_count, cond_prob):\n",
    "    target_counts = np.array([target_count for _ in labels])\n",
    "    optimal_samples, residuals = nnls(cond_prob, target_counts)\n",
    "    optimal_samples = np.ceil(optimal_samples).astype(np.int32)\n",
    "\n",
    "    df_subs = []\n",
    "    for i, label in enumerate(labels):\n",
    "        sub_df = df[df[label] == 1]\n",
    "        df_subs.append(sub_df.sample(optimal_samples[i], \n",
    "                                     replace = len(sub_df) < optimal_samples[i]))\n",
    "    sampled_df = pd.concat(df_subs)\n",
    "    return sampled_df\n",
    "\n",
    "resampled_df = fancy_sample(df, toxic_labels, 100, cooc_norm)\n",
    "resampled_df_labels = resampled_df[toxic_labels]\n",
    "print(len(resampled_df))\n",
    "resampled_df_labels.sum()"
   ]
  },
  {
   "cell_type": "code",
   "execution_count": null,
   "metadata": {
    "colab": {
     "base_uri": "https://localhost:8080/",
     "height": 340
    },
    "id": "G2b4k7Q4pgBy",
    "outputId": "edabcf3a-aed2-4502-cc7a-d3317ff207cb"
   },
   "outputs": [
    {
     "data": {
      "text/plain": [
       "<matplotlib.axes._subplots.AxesSubplot at 0x7f968dee7f10>"
      ]
     },
     "execution_count": 17,
     "metadata": {},
     "output_type": "execute_result"
    },
    {
     "data": {
      "image/png": "[encoded data removed]",
      "text/plain": [
       "<Figure size 432x288 with 1 Axes>"
      ]
     },
     "metadata": {
      "needs_background": "light"
     },
     "output_type": "display_data"
    }
   ],
   "source": [
    "# counts for fancy sampling method\n",
    "resampled_df[sorted(label_counts.keys(), key = label_counts.get, reverse = True)].sum().plot.bar()"
   ]
  },
  {
   "cell_type": "code",
   "execution_count": null,
   "metadata": {
    "colab": {
     "base_uri": "https://localhost:8080/",
     "height": 518
    },
    "id": "_R57YrEGvAAC",
    "outputId": "0c8c7656-f0a1-41eb-866c-857a42060ded"
   },
   "outputs": [
    {
     "data": {
      "text/plain": [
       "<matplotlib.axes._subplots.AxesSubplot at 0x7f968b07e510>"
      ]
     },
     "execution_count": 33,
     "metadata": {},
     "output_type": "execute_result"
    },
    {
     "data": {
      "image/png": "[encoded data removed]",
      "text/plain": [
       "<Figure size 1080x504 with 2 Axes>"
      ]
     },
     "metadata": {
      "needs_background": "light"
     },
     "output_type": "display_data"
    }
   ],
   "source": [
    "fig, axs = plt.subplots(1, 2, figsize=(15,7))\n",
    "sampled_df_labels[sorted(label_counts.keys(), key = label_counts.get, reverse = True)].sum().plot.bar(ax = axs[0], title = 'Naive')\n",
    "resampled_df[sorted(label_counts.keys(), key = label_counts.get, reverse = True)].sum().plot.bar(ax = axs[1], title = 'Fancy')"
   ]
  },
  {
   "cell_type": "code",
   "execution_count": null,
   "metadata": {
    "colab": {
     "base_uri": "https://localhost:8080/"
    },
    "id": "8ug4f-1Jpf8d",
    "outputId": "54abce9e-f86d-4334-83a2-8c309c55312f"
   },
   "outputs": [
    {
     "data": {
      "text/plain": [
       "2.5112317814311114"
      ]
     },
     "execution_count": 18,
     "metadata": {},
     "output_type": "execute_result"
    }
   ],
   "source": [
    "# entropy for fancy sampling method. Higher than original and naive\n",
    "categorical_entropy(resampled_df)"
   ]
  },
  {
   "cell_type": "code",
   "execution_count": null,
   "metadata": {
    "colab": {
     "base_uri": "https://localhost:8080/"
    },
    "id": "MaeC3DUDpfzV",
    "outputId": "0a7e66be-cbe7-4c9d-f1ee-32e56a2974a4"
   },
   "outputs": [
    {
     "name": "stderr",
     "output_type": "stream",
     "text": [
      "100%|██████████| 1000/1000 [00:24<00:00, 41.56it/s]\n",
      "100%|██████████| 1000/1000 [00:22<00:00, 44.27it/s]\n"
     ]
    }
   ],
   "source": [
    "# 1000 iterations of each sampling method\n",
    "naive_H, fancy_H = [], []\n",
    "for i in tqdm(range(1000)):\n",
    "    sampled_df = naive_sample(df, toxic_labels, 100)\n",
    "    H = categorical_entropy(sampled_df, labels = toxic_labels) \n",
    "    naive_H.append(H)\n",
    "\n",
    "for i in tqdm(range(1000)):\n",
    "    sampled_df = fancy_sample(df, toxic_labels, 100, cooc_norm)\n",
    "    H = categorical_entropy(sampled_df, labels = toxic_labels) \n",
    "    fancy_H.append(H)\n",
    "    "
   ]
  },
  {
   "cell_type": "code",
   "execution_count": null,
   "metadata": {
    "colab": {
     "base_uri": "https://localhost:8080/"
    },
    "id": "tQ5_upLkppED",
    "outputId": "274141f7-4001-400c-b3e7-1cffe4f33fdd"
   },
   "outputs": [
    {
     "data": {
      "text/plain": [
       "2.3808926305485683"
      ]
     },
     "execution_count": 20,
     "metadata": {},
     "output_type": "execute_result"
    }
   ],
   "source": [
    "np.mean(naive_H)"
   ]
  },
  {
   "cell_type": "code",
   "execution_count": null,
   "metadata": {
    "colab": {
     "base_uri": "https://localhost:8080/"
    },
    "id": "UZrZDFS0po9S",
    "outputId": "9a221157-d99a-456e-a9db-3f1ca4668055"
   },
   "outputs": [
    {
     "data": {
      "text/plain": [
       "2.516067036969578"
      ]
     },
     "execution_count": 21,
     "metadata": {},
     "output_type": "execute_result"
    }
   ],
   "source": [
    "np.mean(fancy_H)"
   ]
  },
  {
   "cell_type": "code",
   "execution_count": null,
   "metadata": {
    "colab": {
     "base_uri": "https://localhost:8080/",
     "height": 283
    },
    "id": "vczAEcd9pmPE",
    "outputId": "60208d85-09bf-4563-a087-397f2fa764d5"
   },
   "outputs": [
    {
     "data": {
      "text/plain": [
       "<matplotlib.axes._subplots.AxesSubplot at 0x7f968d3d82d0>"
      ]
     },
     "execution_count": 22,
     "metadata": {},
     "output_type": "execute_result"
    },
    {
     "data": {
      "image/png": "[encoded data removed]",
      "text/plain": [
       "<Figure size 432x288 with 1 Axes>"
      ]
     },
     "metadata": {
      "needs_background": "light"
     },
     "output_type": "display_data"
    }
   ],
   "source": [
    "# histogram of entropy values for each method. Fancy is clearly greater\n",
    "hist_df = pd.DataFrame(data = {'fancy_sample' : fancy_H, 'naive_sample' : naive_H})\n",
    "hist_df.plot.hist()"
   ]
  }
 ],
 "metadata": {
  "colab": {
   "provenance": []
  },
  "kernelspec": {
   "display_name": "Python 3",
   "language": "python",
   "name": "python3"
  },
  "language_info": {
   "codemirror_mode": {
    "name": "ipython",
    "version": 3
   },
   "file_extension": ".py",
   "mimetype": "text/x-python",
   "name": "python",
   "nbconvert_exporter": "python",
   "pygments_lexer": "ipython3",
   "version": "3.8.3"
  }
 },
 "nbformat": 4,
 "nbformat_minor": 1
}
