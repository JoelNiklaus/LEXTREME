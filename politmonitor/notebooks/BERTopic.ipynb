{
 "cells": [
  {
   "cell_type": "code",
   "execution_count": 1,
   "id": "840425b7",
   "metadata": {},
   "outputs": [
    {
     "name": "stderr",
     "output_type": "stream",
     "text": [
      "/Users/vetonmatoshi/opt/anaconda3/envs/politmonitor/lib/python3.9/site-packages/tqdm/auto.py:22: TqdmWarning: IProgress not found. Please update jupyter and ipywidgets. See https://ipywidgets.readthedocs.io/en/stable/user_install.html\n",
      "  from .autonotebook import tqdm as notebook_tqdm\n"
     ]
    }
   ],
   "source": [
    "import sys\n",
    "from bertopic import BERTopic\n",
    "sys.path.append('../code/')\n",
    "from training_data_handler import TrainingDataHandler\n"
   ]
  },
  {
   "cell_type": "code",
   "execution_count": 2,
   "id": "ced1a23a",
   "metadata": {},
   "outputs": [],
   "source": [
    "tdh = TrainingDataHandler()"
   ]
  },
  {
   "cell_type": "code",
   "execution_count": 3,
   "id": "16df9170",
   "metadata": {},
   "outputs": [],
   "source": [
    "language = 'de'\n",
    "tdh.get_training_data(language=language, affair_text_scope=['zh','ch'], affair_attachment_category='Text 1', running_mode='experimental')"
   ]
  },
  {
   "cell_type": "code",
   "execution_count": 4,
   "id": "51116a52",
   "metadata": {},
   "outputs": [],
   "source": [
    "#from sklearn.datasets import fetch_20newsgroups\n",
    "\n",
    "docs = tdh.training_data_df.text.tolist() #[:1000]\n"
   ]
  },
  {
   "cell_type": "code",
   "execution_count": 5,
   "id": "c8f5ad08",
   "metadata": {
    "scrolled": true
   },
   "outputs": [
    {
     "name": "stderr",
     "output_type": "stream",
     "text": [
      "[nltk_data] Downloading package stopwords to\n",
      "[nltk_data]     /Users/vetonmatoshi/nltk_data...\n",
      "[nltk_data]   Package stopwords is already up-to-date!\n",
      "No sentence-transformers model found with name /Users/vetonmatoshi/.cache/torch/sentence_transformers/T-Systems-onsite_cross-en-de-roberta-sentence-transformer. Creating a new one with MEAN pooling.\n"
     ]
    },
    {
     "ename": "NameError",
     "evalue": "name 'embeddings' is not defined",
     "output_type": "error",
     "traceback": [
      "\u001b[0;31m---------------------------------------------------------------------------\u001b[0m",
      "\u001b[0;31mNameError\u001b[0m                                 Traceback (most recent call last)",
      "Cell \u001b[0;32mIn[5], line 26\u001b[0m\n\u001b[1;32m     21\u001b[0m topic_model \u001b[38;5;241m=\u001b[39m BERTopic(vectorizer_model\u001b[38;5;241m=\u001b[39mvectorizer_model, embedding_model\u001b[38;5;241m=\u001b[39msentence_model)\n\u001b[1;32m     23\u001b[0m \u001b[38;5;66;03m#embeddings = sentence_model.encode(docs, show_progress_bar=True)\u001b[39;00m\n\u001b[1;32m     24\u001b[0m \n\u001b[1;32m     25\u001b[0m \u001b[38;5;66;03m# Train BERTopic\u001b[39;00m\n\u001b[0;32m---> 26\u001b[0m topic_model \u001b[38;5;241m=\u001b[39m BERTopic()\u001b[38;5;241m.\u001b[39mfit(docs, \u001b[43membeddings\u001b[49m)\n\u001b[1;32m     28\u001b[0m \u001b[38;5;66;03m# Reduce dimensionality of embeddings, this step is optional\u001b[39;00m\n\u001b[1;32m     29\u001b[0m reduced_embeddings \u001b[38;5;241m=\u001b[39m UMAP(n_neighbors\u001b[38;5;241m=\u001b[39m\u001b[38;5;241m2\u001b[39m, n_components\u001b[38;5;241m=\u001b[39m\u001b[38;5;241m2\u001b[39m, metric\u001b[38;5;241m=\u001b[39m\u001b[38;5;124m'\u001b[39m\u001b[38;5;124meuclidean\u001b[39m\u001b[38;5;124m'\u001b[39m)\u001b[38;5;241m.\u001b[39mfit_transform(embeddings)\n",
      "\u001b[0;31mNameError\u001b[0m: name 'embeddings' is not defined"
     ]
    }
   ],
   "source": [
    "from sklearn.datasets import fetch_20newsgroups\n",
    "from sentence_transformers import SentenceTransformer\n",
    "from bertopic import BERTopic\n",
    "from umap import UMAP\n",
    "\n",
    "from sklearn.feature_extraction.text import CountVectorizer\n",
    "import nltk\n",
    "nltk.download('stopwords')\n",
    "from nltk.corpus import stopwords\n",
    "from sentence_transformers import SentenceTransformer\n",
    "\n",
    "german_stop_words = stopwords.words('german')\n",
    "\n",
    "\n",
    "# Prepare embeddings\n",
    "#docs = fetch_20newsgroups(subset='all',  remove=('headers', 'footers', 'quotes'))['data']\n",
    "sentence_model = SentenceTransformer('T-Systems-onsite/cross-en-de-roberta-sentence-transformer')\n",
    "\n",
    "vectorizer_model = CountVectorizer(stop_words=german_stop_words)\n",
    "\n",
    "topic_model = BERTopic(vectorizer_model=vectorizer_model, embedding_model=sentence_model)\n",
    "\n",
    "#embeddings = sentence_model.encode(docs, show_progress_bar=True)\n",
    "\n",
    "# Train BERTopic\n",
    "topic_model = BERTopic().fit(docs, embeddings)\n",
    "\n",
    "# Reduce dimensionality of embeddings, this step is optional\n",
    "reduced_embeddings = UMAP(n_neighbors=2, n_components=2, metric='euclidean').fit_transform(embeddings)\n",
    "\n",
    "# Run the visualization with the original embeddings\n",
    "topic_model.visualize_documents(docs, embeddings=embeddings)\n",
    "\n",
    "# Or, if you have reduced the original embeddings already:\n",
    "topic_model.visualize_documents(docs, reduced_embeddings=embeddings)\n"
   ]
  },
  {
   "cell_type": "code",
   "execution_count": 14,
   "id": "5d99356e",
   "metadata": {},
   "outputs": [
    {
     "name": "stderr",
     "output_type": "stream",
     "text": [
      "No sentence-transformers model found with name /Users/vetonmatoshi/.cache/torch/sentence_transformers/T-Systems-onsite_cross-en-de-roberta-sentence-transformer. Creating a new one with MEAN pooling.\n",
      "\n",
      "KeyboardInterrupt\n",
      "\n"
     ]
    }
   ],
   "source": [
    "from sklearn.feature_extraction.text import CountVectorizer\n",
    "from nltk.corpus import stopwords\n",
    "from sentence_transformers import SentenceTransformer\n",
    "\n",
    "\n",
    "\n",
    "german_stop_words = stopwords.words('german')\n",
    "\n",
    "sentence_model = SentenceTransformer('T-Systems-onsite/cross-en-de-roberta-sentence-transformer')\n",
    "\n",
    "\n",
    "vectorizer_model = CountVectorizer(stop_words=german_stop_words)\n",
    "\n",
    "topic_model = BERTopic(vectorizer_model=vectorizer_model, embedding_model=sentence_model)\n",
    "topics, probs = topic_model.fit_transform(docs)"
   ]
  },
  {
   "cell_type": "code",
   "execution_count": null,
   "id": "74894b88",
   "metadata": {},
   "outputs": [],
   "source": [
    "#topic_model.reduce_topics(docs, nr_topics=50)"
   ]
  },
  {
   "cell_type": "code",
   "execution_count": 28,
   "id": "5c588c77",
   "metadata": {},
   "outputs": [],
   "source": [
    "import pandas as pd\n",
    "docs_df = pd.DataFrame([{'body':x} for x in docs])\n",
    "docs_df.to_json('/Users/vetonmatoshi/Downloads/test_data.jsonl', lines=True, orient=\"records\", force_ascii=False)"
   ]
  },
  {
   "cell_type": "code",
   "execution_count": null,
   "id": "a2e5e023",
   "metadata": {},
   "outputs": [],
   "source": []
  }
 ],
 "metadata": {
  "kernelspec": {
   "display_name": "Python 3 (ipykernel)",
   "language": "python",
   "name": "python3"
  },
  "language_info": {
   "codemirror_mode": {
    "name": "ipython",
    "version": 3
   },
   "file_extension": ".py",
   "mimetype": "text/x-python",
   "name": "python",
   "nbconvert_exporter": "python",
   "pygments_lexer": "ipython3",
   "version": "3.9.16"
  }
 },
 "nbformat": 4,
 "nbformat_minor": 5
}
