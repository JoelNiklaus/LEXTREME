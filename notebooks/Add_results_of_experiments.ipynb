{
 "cells": [
  {
   "cell_type": "code",
   "execution_count": 1,
   "id": "9865b280",
   "metadata": {},
   "outputs": [],
   "source": [
    "import pandas as pd\n",
    "from copy import deepcopy\n",
    "import re\n",
    "from ast import literal_eval\n",
    "import numpy as np\n",
    "from collections import defaultdict"
   ]
  },
  {
   "cell_type": "code",
   "execution_count": 2,
   "id": "99ae44cd",
   "metadata": {},
   "outputs": [],
   "source": [
    "df = pd.read_json('overview_of_results.jsonl',lines=True)\n",
    "df = df.drop_duplicates(['name_or_path','predict/_accuracy_normalized','seed','finetuning_task'])\n",
    "df_copy = deepcopy(df)"
   ]
  },
  {
   "cell_type": "code",
   "execution_count": 3,
   "id": "97bbf264",
   "metadata": {
    "scrolled": true
   },
   "outputs": [
    {
     "data": {
      "text/plain": [
       "523    0.294781\n",
       "Name: en_predict/_macro-f1, dtype: float64"
      ]
     },
     "execution_count": 3,
     "metadata": {},
     "output_type": "execute_result"
    }
   ],
   "source": [
    "df[(df.finetuning_task=='all_languages_covid19_emergency_event') & (df.name_or_path=='microsoft/mdeberta-v3-base') & (df.seed==4)]['en_predict/_macro-f1']"
   ]
  },
  {
   "cell_type": "code",
   "execution_count": 4,
   "id": "802aa067",
   "metadata": {},
   "outputs": [],
   "source": [
    "df_final = list()\n",
    "for r in df.to_dict(orient='records'):\n",
    "    r_copy = deepcopy(r)\n",
    "    for k in r.keys():\n",
    "        if k.endswith('_score'):\n",
    "            r_copy[re.sub('_score','',k)]=r[k]\n",
    "    df_final.append(r_copy)"
   ]
  },
  {
   "cell_type": "code",
   "execution_count": 5,
   "id": "fe29e872",
   "metadata": {},
   "outputs": [],
   "source": [
    "df_final = pd.DataFrame(df_final)"
   ]
  },
  {
   "cell_type": "code",
   "execution_count": 6,
   "id": "d3415f15",
   "metadata": {},
   "outputs": [
    {
     "data": {
      "text/html": [
       "<div>\n",
       "<style scoped>\n",
       "    .dataframe tbody tr th:only-of-type {\n",
       "        vertical-align: middle;\n",
       "    }\n",
       "\n",
       "    .dataframe tbody tr th {\n",
       "        vertical-align: top;\n",
       "    }\n",
       "\n",
       "    .dataframe thead th {\n",
       "        text-align: right;\n",
       "    }\n",
       "</style>\n",
       "<table border=\"1\" class=\"dataframe\">\n",
       "  <thead>\n",
       "    <tr style=\"text-align: right;\">\n",
       "      <th></th>\n",
       "      <th>eval_weighted-recall_score</th>\n",
       "      <th>eval_weighted-recall</th>\n",
       "    </tr>\n",
       "  </thead>\n",
       "  <tbody>\n",
       "    <tr>\n",
       "      <th>0</th>\n",
       "      <td>0.725265</td>\n",
       "      <td>0.725265</td>\n",
       "    </tr>\n",
       "    <tr>\n",
       "      <th>1</th>\n",
       "      <td>0.725265</td>\n",
       "      <td>0.725265</td>\n",
       "    </tr>\n",
       "    <tr>\n",
       "      <th>2</th>\n",
       "      <td>0.730943</td>\n",
       "      <td>0.730943</td>\n",
       "    </tr>\n",
       "    <tr>\n",
       "      <th>3</th>\n",
       "      <td>0.730943</td>\n",
       "      <td>0.730943</td>\n",
       "    </tr>\n",
       "    <tr>\n",
       "      <th>4</th>\n",
       "      <td>0.703396</td>\n",
       "      <td>0.703396</td>\n",
       "    </tr>\n",
       "  </tbody>\n",
       "</table>\n",
       "</div>"
      ],
      "text/plain": [
       "   eval_weighted-recall_score  eval_weighted-recall\n",
       "0                    0.725265              0.725265\n",
       "1                    0.725265              0.725265\n",
       "2                    0.730943              0.730943\n",
       "3                    0.730943              0.730943\n",
       "4                    0.703396              0.703396"
      ]
     },
     "execution_count": 6,
     "metadata": {},
     "output_type": "execute_result"
    }
   ],
   "source": [
    "df_final[['eval_weighted-recall_score','eval_weighted-recall']].head()"
   ]
  },
  {
   "cell_type": "code",
   "execution_count": 7,
   "id": "9b87ff65",
   "metadata": {},
   "outputs": [],
   "source": [
    "df_final = df_final[[c for c in df_final.columns.tolist() if c.endswith('_score')==False]]\n",
    "df_final = df_final[df_final.finetuning_task.isnull()==False]\n"
   ]
  },
  {
   "cell_type": "code",
   "execution_count": 8,
   "id": "98477af3",
   "metadata": {},
   "outputs": [],
   "source": [
    "#Add language column\n",
    "df_final['language']=df_final.finetuning_task.apply(lambda x: x.split('_')[0])"
   ]
  },
  {
   "cell_type": "code",
   "execution_count": 9,
   "id": "1205b018",
   "metadata": {},
   "outputs": [
    {
     "name": "stdout",
     "output_type": "stream",
     "text": [
      "{'ro', 'de', 'lv', 'da', 'mt', 'pt', 'et', 'cs', 'sk', 'nl', 'bg', 'lt', 'fr', 'fi', 'nb', 'it', 'es', 'el', 'hu', 'sv', 'en', 'ga', 'pl'}\n"
     ]
    }
   ],
   "source": [
    "all_languages = set()\n",
    "for c in df_final.columns:\n",
    "    if bool(re.search(r'\\w+_predict/','{}'.format(c))):\n",
    "        language = c.split('_')[0]\n",
    "        all_languages.add(language)\n",
    "print(all_languages)"
   ]
  },
  {
   "cell_type": "code",
   "execution_count": 10,
   "id": "773a257a",
   "metadata": {},
   "outputs": [],
   "source": [
    "# rename some columns\n",
    "df_final = df_final.rename(columns={'name_or_path': 'pretraining_results','epoch':'number_of_epochs'})\n",
    "\n",
    "def rename_name_of_task(finetuning_task:str):\n",
    "    if 'all_languages_' in finetuning_task:\n",
    "        return re.sub('all_languages_','',finetuning_task)\n",
    "    else:\n",
    "        return '_'.join(finetuning_task.split('_')[1:])\n",
    "    \n",
    "df_final['finetuning_task']=df_final.finetuning_task.apply(lambda x: rename_name_of_task(x))\n",
    "    "
   ]
  },
  {
   "cell_type": "code",
   "execution_count": 11,
   "id": "4be2e400",
   "metadata": {},
   "outputs": [],
   "source": [
    "#Keep only predict columns\n",
    "\n",
    "def is_important_column(column_name:str):\n",
    "    if column_name in ['finetuning_task','language','seed','pretraining_results','number_of_epochs']:\n",
    "        return True\n",
    "    elif bool(re.search(r'predict.*(f1|precision|recall|accuracy)',column_name)):\n",
    "        return True\n",
    "    else:\n",
    "        return False\n",
    "    \n",
    "df_final = df_final[[c for c in df_final.columns if is_important_column(c)==True]]"
   ]
  },
  {
   "cell_type": "code",
   "execution_count": 12,
   "id": "8122ee7e",
   "metadata": {},
   "outputs": [],
   "source": [
    "mapping_columns = ['language', 'finetuning_task', 'task_category', 'literature', 'code', 'processing steps', 'pretraining_type', 'pretraining_subtype', 'pretraining_results', 'pretraining_procedure', 'language_for_pretraining', 'pretraining_on_legal_domain_data', 'NLP_technique_global', 'NLP_technique_specific', 'input', 'labels_considered', 'number_of_labels', 'hyperparameter_tuning', 'hyperparameter_tuning_method', 'hyperparamters', 'metric_for_best_model', 'number_of_runs','number_of_epochs','seed','dataset_for_testing', 'n-fold cross-validation', 'final_score_calculation', 'evaluation_guidelines/method', 'code_to_obtain_scores', 'NER: partial_overlapping_allowed', 'macro-precision', 'macro-recall', 'macro-f1', 'micro-precision', 'micro-recall', 'micro-f1', 'precision', 'recall', 'f1', 'accuracy_normalized']"
   ]
  },
  {
   "cell_type": "code",
   "execution_count": 13,
   "id": "879b4715",
   "metadata": {},
   "outputs": [],
   "source": [
    "our_results = list()\n",
    "for ft in df.finetuning_task.unique():\n",
    "    multi_lingual_df = df_final #[df_final.language=='all']\n",
    "    multi_lingual_df.dropna(how='all', axis=1, inplace=True)\n",
    "    multi_lingual_df = multi_lingual_df.rename(columns=lambda x: re.sub('predict\\/_','',x))\n",
    "    for r in multi_lingual_df.to_dict(orient='records'):\n",
    "        entry = r\n",
    "        for col in mapping_columns:\n",
    "            if col not in entry.keys():\n",
    "                entry[col]=''\n",
    "        \n",
    "        our_results.append(r)\n",
    "our_results_df = pd.DataFrame(our_results)\n",
    "\n",
    "\n",
    "#Removing all the results that are specific for one language\n",
    "for l in all_languages:\n",
    "    our_results_df = our_results_df[[col for col in our_results_df.columns if col.startswith(l+'_')==False]]\n",
    "our_results_df = our_results_df.drop_duplicates(['finetuning_task','pretraining_results','seed','macro-precision', 'macro-recall', 'macro-f1'])\n",
    "remaining_columns = [col for col in our_results_df.columns.tolist() if col not in mapping_columns]\n",
    "remaining_columns = [col for col in remaining_columns if bool(re.search('(accuracy|precision|recall|f1|seed|epoch)',col))]\n",
    "#Remove all results from validation and train\n",
    "remaining_columns = [col for col in remaining_columns if bool(re.search('(eval_|train_)',col))==False]\n",
    "\n",
    "our_results_df = our_results_df[mapping_columns+remaining_columns]\n",
    "our_results_df['dataset_for_testing']='test dataset'\n"
   ]
  },
  {
   "cell_type": "code",
   "execution_count": 14,
   "id": "f92057e6",
   "metadata": {
    "scrolled": true
   },
   "outputs": [
    {
     "data": {
      "text/plain": [
       "['ADDRESS_f1',\n",
       " 'ADDRESS_precision',\n",
       " 'ADDRESS_recall',\n",
       " 'AMOUNT_f1',\n",
       " 'AMOUNT_precision',\n",
       " 'AMOUNT_recall',\n",
       " 'B-JURISPRUDENCIA_f1',\n",
       " 'B-JURISPRUDENCIA_precision',\n",
       " 'B-JURISPRUDENCIA_recall',\n",
       " 'B-LEGISLACAO_f1',\n",
       " 'B-LEGISLACAO_precision',\n",
       " 'B-LEGISLACAO_recall',\n",
       " 'B-LOCAL_f1',\n",
       " 'B-LOCAL_precision',\n",
       " 'B-LOCAL_recall',\n",
       " 'B-ORGANIZACAO_f1',\n",
       " 'B-ORGANIZACAO_precision',\n",
       " 'B-ORGANIZACAO_recall',\n",
       " 'B-PESSOA_f1',\n",
       " 'B-PESSOA_precision',\n",
       " 'B-PESSOA_recall',\n",
       " 'B-TEMPO_f1',\n",
       " 'B-TEMPO_precision',\n",
       " 'B-TEMPO_recall',\n",
       " 'DATE_f1',\n",
       " 'DATE_precision',\n",
       " 'DATE_recall',\n",
       " 'FACILITY_f1',\n",
       " 'FACILITY_precision',\n",
       " 'FACILITY_recall',\n",
       " 'GPE_f1',\n",
       " 'GPE_precision',\n",
       " 'GPE_recall',\n",
       " 'I-JURISPRUDENCIA_f1',\n",
       " 'I-JURISPRUDENCIA_precision',\n",
       " 'I-JURISPRUDENCIA_recall',\n",
       " 'I-LEGISLACAO_f1',\n",
       " 'I-LEGISLACAO_precision',\n",
       " 'I-LEGISLACAO_recall',\n",
       " 'I-LOCAL_f1',\n",
       " 'I-LOCAL_precision',\n",
       " 'I-LOCAL_recall',\n",
       " 'I-ORGANIZACAO_f1',\n",
       " 'I-ORGANIZACAO_precision',\n",
       " 'I-ORGANIZACAO_recall',\n",
       " 'I-PESSOA_f1',\n",
       " 'I-PESSOA_precision',\n",
       " 'I-PESSOA_recall',\n",
       " 'I-TEMPO_f1',\n",
       " 'I-TEMPO_precision',\n",
       " 'I-TEMPO_recall',\n",
       " 'LEG-REFS_f1',\n",
       " 'LEG-REFS_precision',\n",
       " 'LEG-REFS_recall',\n",
       " 'LEGAL_f1',\n",
       " 'LEGAL_precision',\n",
       " 'LEGAL_recall',\n",
       " 'LOCATION-NAT_f1',\n",
       " 'LOCATION-NAT_precision',\n",
       " 'LOCATION-NAT_recall',\n",
       " 'LOCATION-UNK_f1',\n",
       " 'LOCATION-UNK_precision',\n",
       " 'LOCATION-UNK_recall',\n",
       " 'LOC_f1',\n",
       " 'LOC_precision',\n",
       " 'LOC_recall',\n",
       " 'NER: partial_overlapping_allowed',\n",
       " 'NLP_technique_global',\n",
       " 'NLP_technique_specific',\n",
       " 'ORGANISATION_f1',\n",
       " 'ORGANISATION_precision',\n",
       " 'ORGANISATION_recall',\n",
       " 'ORG_f1',\n",
       " 'ORG_precision',\n",
       " 'ORG_recall',\n",
       " 'O_f1',\n",
       " 'O_precision',\n",
       " 'O_recall',\n",
       " 'PERSON_f1',\n",
       " 'PERSON_precision',\n",
       " 'PERSON_recall',\n",
       " 'PER_f1',\n",
       " 'PER_precision',\n",
       " 'PER_recall',\n",
       " 'PUBLIC-DOCS_f1',\n",
       " 'PUBLIC-DOCS_precision',\n",
       " 'PUBLIC-DOCS_recall',\n",
       " 'TIME_f1',\n",
       " 'TIME_precision',\n",
       " 'TIME_recall',\n",
       " 'accuracy_normalized',\n",
       " 'accuracy_not_normalized',\n",
       " 'age_f1',\n",
       " 'age_precision',\n",
       " 'age_recall',\n",
       " 'city_f1',\n",
       " 'city_precision',\n",
       " 'city_recall',\n",
       " 'code',\n",
       " 'code_to_obtain_scores',\n",
       " 'country_f1',\n",
       " 'country_precision',\n",
       " 'country_recall',\n",
       " 'dataset_for_testing',\n",
       " 'day_f1',\n",
       " 'day_precision',\n",
       " 'day_recall',\n",
       " 'ethnic category_f1',\n",
       " 'ethnic category_precision',\n",
       " 'ethnic category_recall',\n",
       " 'evaluation_guidelines/method',\n",
       " 'f1',\n",
       " 'family name_f1',\n",
       " 'family name_precision',\n",
       " 'family name_recall',\n",
       " 'final_score_calculation',\n",
       " 'finetuning_task',\n",
       " 'hyperparameter_tuning',\n",
       " 'hyperparameter_tuning_method',\n",
       " 'hyperparamters',\n",
       " 'initial name_f1',\n",
       " 'initial name_precision',\n",
       " 'initial name_recall',\n",
       " 'input',\n",
       " 'labels_considered',\n",
       " 'language',\n",
       " 'language_for_pretraining',\n",
       " 'literature',\n",
       " 'macro-f1',\n",
       " 'macro-precision',\n",
       " 'macro-recall',\n",
       " 'marital status_f1',\n",
       " 'marital status_precision',\n",
       " 'marital status_recall',\n",
       " 'metric_for_best_model',\n",
       " 'micro-f1',\n",
       " 'micro-precision',\n",
       " 'micro-recall',\n",
       " 'month_f1',\n",
       " 'month_precision',\n",
       " 'month_recall',\n",
       " 'n-fold cross-validation',\n",
       " 'nationality_f1',\n",
       " 'nationality_precision',\n",
       " 'nationality_recall',\n",
       " 'number_of_epochs',\n",
       " 'number_of_labels',\n",
       " 'number_of_runs',\n",
       " 'o_f1',\n",
       " 'o_precision',\n",
       " 'o_recall',\n",
       " 'place_f1',\n",
       " 'place_precision',\n",
       " 'place_recall',\n",
       " 'precision',\n",
       " 'pretraining_on_legal_domain_data',\n",
       " 'pretraining_procedure',\n",
       " 'pretraining_results',\n",
       " 'pretraining_subtype',\n",
       " 'pretraining_type',\n",
       " 'processing steps',\n",
       " 'profession_f1',\n",
       " 'profession_precision',\n",
       " 'profession_recall',\n",
       " 'recall',\n",
       " 'role_f1',\n",
       " 'role_precision',\n",
       " 'role_recall',\n",
       " 'seed',\n",
       " 'task_category',\n",
       " 'territory_f1',\n",
       " 'territory_precision',\n",
       " 'territory_recall',\n",
       " 'title_f1',\n",
       " 'title_precision',\n",
       " 'title_recall',\n",
       " 'type_f1',\n",
       " 'type_precision',\n",
       " 'type_recall',\n",
       " 'unit_f1',\n",
       " 'unit_precision',\n",
       " 'unit_recall',\n",
       " 'url_f1',\n",
       " 'url_precision',\n",
       " 'url_recall',\n",
       " 'value_f1',\n",
       " 'value_precision',\n",
       " 'value_recall',\n",
       " 'weighted-f1',\n",
       " 'weighted-precision',\n",
       " 'weighted-recall',\n",
       " 'year_f1',\n",
       " 'year_precision',\n",
       " 'year_recall']"
      ]
     },
     "execution_count": 14,
     "metadata": {},
     "output_type": "execute_result"
    }
   ],
   "source": [
    "sorted(our_results_df.columns.tolist())"
   ]
  },
  {
   "cell_type": "code",
   "execution_count": 15,
   "id": "d6a34078",
   "metadata": {
    "scrolled": true
   },
   "outputs": [
    {
     "name": "stderr",
     "output_type": "stream",
     "text": [
      "/Users/test/opt/anaconda3/envs/bfh/lib/python3.9/site-packages/pandas/core/frame.py:5176: SettingWithCopyWarning: \n",
      "A value is trying to be set on a copy of a slice from a DataFrame\n",
      "\n",
      "See the caveats in the documentation: https://pandas.pydata.org/pandas-docs/stable/user_guide/indexing.html#returning-a-view-versus-a-copy\n",
      "  return super().fillna(\n"
     ]
    },
    {
     "name": "stdout",
     "output_type": "stream",
     "text": [
      "macro-precision 0.7484524340750001 [0.7421947678, 0.7408932278, 0.759109231, 0.7516125097]\n",
      "0.7484524340750001\n",
      "macro-recall 0.746087793925 [0.7485784847, 0.7468784962, 0.7462221446, 0.7426720502]\n",
      "0.746087793925\n",
      "macro-f1 0.746601546175 [0.745332038, 0.7420129283, 0.752082074, 0.7469791444]\n",
      "0.746601546175\n",
      "micro-precision 0.82179987005 [0.8200129955000001, 0.8151397011, 0.8284600390000001, 0.8235867446]\n",
      "0.82179987005\n",
      "micro-recall 0.82179987005 [0.8200129955000001, 0.8151397011, 0.8284600390000001, 0.8235867446]\n",
      "0.82179987005\n",
      "micro-f1 0.82179987005 [0.8200129955000001, 0.8151397011, 0.8284600390000001, 0.8235867446]\n",
      "0.82179987005\n",
      "accuracy_normalized 0.82179987005 [0.8200129955000001, 0.8151397011, 0.8284600390000001, 0.8235867446]\n",
      "0.82179987005\n",
      "accuracy_not_normalized 2529.5 [2524.0, 2509.0, 2550.0, 2535.0]\n",
      "2529.5\n",
      "weighted-f1 0.82191631995 [0.8203592969, 0.8162518093000001, 0.8278511403000001, 0.8232030333]\n",
      "0.82191631995\n",
      "weighted-precision 0.8228853164250001 [0.8207471194, 0.8194763701000001, 0.8282614648000001, 0.8230563114]\n",
      "0.8228853164250001\n",
      "weighted-recall 0.82179987005 [0.8200129955000001, 0.8151397011, 0.8284600390000001, 0.8235867446]\n",
      "0.82179987005\n"
     ]
    }
   ],
   "source": [
    "results_with_mean_values = list()\n",
    "for ft in our_results_df.finetuning_task.unique():\n",
    "    for pr in our_results_df.pretraining_results.unique():\n",
    "        df_sub = our_results_df[(our_results_df.finetuning_task==ft) & (our_results_df.pretraining_results==pr)]\n",
    "        df_sub.fillna('',inplace=True)\n",
    "        df_sub_as_dict_first_row = deepcopy(df_sub.to_dict(orient='records')[0])\n",
    "        relevant_scores = [col for col in df_sub.columns if bool(re.search('(accuracy|precision|recall|f1)',col))]\n",
    "        for rs in relevant_scores:\n",
    "            if len([x for x in df_sub[rs].tolist() if type(x)==float])==4:\n",
    "                mean_value = df_sub[rs].mean()\n",
    "                df_sub_as_dict_first_row[rs]=mean_value\n",
    "                df_sub_as_dict_first_row['seed']='mean'\n",
    "                df_sub_as_dict_first_row['number_of_epochs']=''\n",
    "                if ft=='german_argument_mining' and pr=='distilbert-base-multilingual-cased':\n",
    "                    print(rs,mean_value,df_sub[rs].tolist())\n",
    "                    print(df_sub_as_dict_first_row[rs])\n",
    "\n",
    "        results_with_mean_values.append(df_sub_as_dict_first_row)\n",
    "        \n",
    "results_with_mean_values_df = pd.DataFrame(results_with_mean_values)\n"
   ]
  },
  {
   "cell_type": "code",
   "execution_count": 16,
   "id": "d22a1021",
   "metadata": {},
   "outputs": [],
   "source": [
    "our_results_df_final = pd.concat([results_with_mean_values_df,our_results_df])"
   ]
  },
  {
   "cell_type": "code",
   "execution_count": 17,
   "id": "38b94439",
   "metadata": {},
   "outputs": [],
   "source": [
    "our_results_df_final.to_excel('our_results.xlsx', index=False)"
   ]
  },
  {
   "cell_type": "code",
   "execution_count": null,
   "id": "da4ac110",
   "metadata": {},
   "outputs": [],
   "source": []
  },
  {
   "cell_type": "code",
   "execution_count": null,
   "id": "3940f527",
   "metadata": {},
   "outputs": [],
   "source": []
  },
  {
   "cell_type": "code",
   "execution_count": null,
   "id": "0e2265ba",
   "metadata": {},
   "outputs": [],
   "source": []
  },
  {
   "cell_type": "code",
   "execution_count": null,
   "id": "15c4dd5e",
   "metadata": {},
   "outputs": [],
   "source": []
  },
  {
   "cell_type": "code",
   "execution_count": null,
   "id": "162fe2f3",
   "metadata": {},
   "outputs": [],
   "source": []
  },
  {
   "cell_type": "code",
   "execution_count": null,
   "id": "3fecc820",
   "metadata": {},
   "outputs": [],
   "source": []
  },
  {
   "cell_type": "code",
   "execution_count": null,
   "id": "0ab51fef",
   "metadata": {},
   "outputs": [],
   "source": []
  }
 ],
 "metadata": {
  "kernelspec": {
   "display_name": "Python 3 (ipykernel)",
   "language": "python",
   "name": "python3"
  },
  "language_info": {
   "codemirror_mode": {
    "name": "ipython",
    "version": 3
   },
   "file_extension": ".py",
   "mimetype": "text/x-python",
   "name": "python",
   "nbconvert_exporter": "python",
   "pygments_lexer": "ipython3",
   "version": "3.9.12"
  }
 },
 "nbformat": 4,
 "nbformat_minor": 5
}
