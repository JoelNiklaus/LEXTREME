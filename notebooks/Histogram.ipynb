{
 "cells": [
  {
   "cell_type": "code",
   "execution_count": null,
   "id": "1cb0289d",
   "metadata": {},
   "outputs": [],
   "source": [
    "import pandas as pd\n",
    "from datasets import load_dataset\n",
    "from matplotlib import pyplot as plt\n",
    "import numpy as np\n",
    "from ast import literal_eval"
   ]
  },
  {
   "cell_type": "code",
   "execution_count": null,
   "id": "b0282ac9",
   "metadata": {},
   "outputs": [],
   "source": [
    "lextreme_datasets = ['brazilian_court_decisions_judgment', 'brazilian_court_decisions_unanimity', 'swiss_judgment_prediction', 'german_argument_mining', 'greek_legal_code_volume', 'greek_legal_code_chapter', 'greek_legal_code_subject', 'online_terms_of_service_unfairness_levels', 'online_terms_of_service_clause_topics', 'covid19_emergency_event', 'multi_eurlex_level_1', 'lener_br', 'legalnero', 'greek_legal_ner', 'mapa_coarse', 'mapa_fine']"
   ]
  },
  {
   "cell_type": "code",
   "execution_count": null,
   "id": "4af5359a",
   "metadata": {
    "scrolled": true
   },
   "outputs": [],
   "source": [
    "def split_into_languages(dataset):\n",
    "    dataset_new = list()\n",
    "    \n",
    "    dataset_df = pd.DataFrame(dataset)\n",
    "    \n",
    "    for item in dataset_df.to_dict(orient='records'):\n",
    "        labels = item['label']\n",
    "        for language, document in literal_eval(item['input']).items():\n",
    "            if document is not None:\n",
    "                item_new = dict()\n",
    "                item_new['language']=language\n",
    "                item_new['input']=str(document)\n",
    "                item_new['label']=labels\n",
    "                dataset_new.append(item_new)\n",
    "    \n",
    "    dataset_new = pd.DataFrame(dataset_new)\n",
    "    \n",
    "    \n",
    "    return  dataset_new\n",
    "\n",
    "\n",
    "def create_histogram(dataset_name):\n",
    "    dataset = load_dataset(\"joelito/lextreme\",dataset_name)\n",
    "\n",
    "    all_data_as_df = list()\n",
    "\n",
    "    for split in ['train','validation','test']:\n",
    "        df = pd.DataFrame(dataset[split])\n",
    "        all_data_as_df.append(df)\n",
    "        \n",
    "\n",
    "    all_data_as_df = pd.concat(all_data_as_df)\n",
    "    \n",
    "    if dataset_name.startswith('multi_eurlex'):\n",
    "        all_data_as_df = split_into_languages(all_data_as_df)\n",
    "        \n",
    "    try:\n",
    "        all_data_as_df['input_split']=all_data_as_df.input.apply(lambda x:str(x).split())\n",
    "    except:\n",
    "        all_data_as_df['input_split']=all_data_as_df.input.apply(lambda x:len(x))\n",
    "    all_data_as_df['input_split_length']=all_data_as_df.input_split.apply(lambda x:len(x))\n",
    "\n",
    "    plt.figure(figsize=(20,10))\n",
    "    ax = all_data_as_df.input_split_length.plot.hist(grid=True, bins=100)\n",
    "    start, end = ax.get_xlim()\n",
    "    ax.bis=round(end/20,0)\n",
    "    ax.xaxis.set_ticks(np.arange(0, end, round(end/20,0)))\n",
    "    plt.xlabel('Length of input', fontsize=16)\n",
    "    plt.ylabel('Frequency of length value', fontsize=16)\n",
    "    plt.title(dataset_name, fontsize=16)\n",
    "    plt.savefig('histogram_'+'_'.join(dataset_name.split())+'.jpg')\n"
   ]
  },
  {
   "cell_type": "code",
   "execution_count": null,
   "id": "e43873a3",
   "metadata": {
    "scrolled": false
   },
   "outputs": [],
   "source": [
    "for ds in lextreme_datasets:\n",
    "    create_histogram(ds)"
   ]
  },
  {
   "cell_type": "code",
   "execution_count": null,
   "id": "72130adf",
   "metadata": {},
   "outputs": [],
   "source": []
  },
  {
   "cell_type": "code",
   "execution_count": null,
   "id": "e4541aa9",
   "metadata": {},
   "outputs": [],
   "source": []
  }
 ],
 "metadata": {
  "kernelspec": {
   "display_name": "Python 3 (ipykernel)",
   "language": "python",
   "name": "python3"
  },
  "language_info": {
   "codemirror_mode": {
    "name": "ipython",
    "version": 3
   },
   "file_extension": ".py",
   "mimetype": "text/x-python",
   "name": "python",
   "nbconvert_exporter": "python",
   "pygments_lexer": "ipython3",
   "version": "3.9.12"
  }
 },
 "nbformat": 4,
 "nbformat_minor": 5
}
