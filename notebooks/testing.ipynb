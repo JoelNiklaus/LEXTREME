{
 "cells": [
  {
   "cell_type": "code",
   "execution_count": 1,
   "outputs": [
    {
     "data": {
      "text/plain": "Downloading pytorch_model.bin:   0%|          | 0.00/3.41G [00:00<?, ?B/s]",
      "application/vnd.jupyter.widget-view+json": {
       "version_major": 2,
       "version_minor": 0,
       "model_id": "847d9396409f4db281c6c8aabe00ec4a"
      }
     },
     "metadata": {},
     "output_type": "display_data"
    },
    {
     "name": "stderr",
     "output_type": "stream",
     "text": [
      "Some weights of the model checkpoint at facebook/xmod-base were not used when initializing XmodModel: ['lm_head.layer_norm.bias', 'lm_head.layer_norm.weight', 'lm_head.bias', 'lm_head.dense.bias', 'lm_head.dense.weight']\n",
      "- This IS expected if you are initializing XmodModel from the checkpoint of a model trained on another task or with another architecture (e.g. initializing a BertForSequenceClassification model from a BertForPreTraining model).\n",
      "- This IS NOT expected if you are initializing XmodModel from the checkpoint of a model that you expect to be exactly identical (initializing a BertForSequenceClassification model from a BertForSequenceClassification model).\n"
     ]
    }
   ],
   "source": [
    "from transformers import XmodModel\n",
    "\n",
    "model = XmodModel.from_pretrained(\"facebook/xmod-base\")\n",
    "model.set_default_language(\"en_XX\")"
   ],
   "metadata": {
    "collapsed": false,
    "ExecuteTime": {
     "start_time": "2023-04-27T09:25:27.647989Z",
     "end_time": "2023-04-27T09:27:08.984924Z"
    }
   }
  },
  {
   "cell_type": "code",
   "execution_count": 2,
   "outputs": [
    {
     "data": {
      "text/plain": "XmodConfig {\n  \"_name_or_path\": \"facebook/xmod-base\",\n  \"adapter_layer_norm\": false,\n  \"adapter_reduction_factor\": 2,\n  \"adapter_reuse_layer_norm\": true,\n  \"architectures\": [\n    \"XmodForMaskedLM\"\n  ],\n  \"attention_probs_dropout_prob\": 0.1,\n  \"bos_token_id\": 0,\n  \"classifier_dropout\": null,\n  \"default_language\": \"en_XX\",\n  \"eos_token_id\": 2,\n  \"hidden_act\": \"gelu\",\n  \"hidden_dropout_prob\": 0.1,\n  \"hidden_size\": 768,\n  \"initializer_range\": 0.02,\n  \"intermediate_size\": 3072,\n  \"languages\": [\n    \"en_XX\",\n    \"id_ID\",\n    \"vi_VN\",\n    \"ru_RU\",\n    \"fa_IR\",\n    \"sv_SE\",\n    \"ja_XX\",\n    \"fr_XX\",\n    \"de_DE\",\n    \"ro_RO\",\n    \"ko_KR\",\n    \"hu_HU\",\n    \"es_XX\",\n    \"fi_FI\",\n    \"uk_UA\",\n    \"da_DK\",\n    \"pt_XX\",\n    \"no_XX\",\n    \"th_TH\",\n    \"pl_PL\",\n    \"bg_BG\",\n    \"nl_XX\",\n    \"zh_CN\",\n    \"he_IL\",\n    \"el_GR\",\n    \"it_IT\",\n    \"sk_SK\",\n    \"hr_HR\",\n    \"tr_TR\",\n    \"ar_AR\",\n    \"cs_CZ\",\n    \"lt_LT\",\n    \"hi_IN\",\n    \"zh_TW\",\n    \"ca_ES\",\n    \"ms_MY\",\n    \"sl_SI\",\n    \"lv_LV\",\n    \"ta_IN\",\n    \"bn_IN\",\n    \"et_EE\",\n    \"az_AZ\",\n    \"sq_AL\",\n    \"sr_RS\",\n    \"kk_KZ\",\n    \"ka_GE\",\n    \"tl_XX\",\n    \"ur_PK\",\n    \"is_IS\",\n    \"hy_AM\",\n    \"ml_IN\",\n    \"mk_MK\",\n    \"be_BY\",\n    \"la_VA\",\n    \"te_IN\",\n    \"eu_ES\",\n    \"gl_ES\",\n    \"mn_MN\",\n    \"kn_IN\",\n    \"ne_NP\",\n    \"sw_KE\",\n    \"si_LK\",\n    \"mr_IN\",\n    \"af_ZA\",\n    \"gu_IN\",\n    \"cy_GB\",\n    \"eo_EO\",\n    \"km_KH\",\n    \"ky_KG\",\n    \"uz_UZ\",\n    \"ps_AF\",\n    \"pa_IN\",\n    \"ga_IE\",\n    \"ha_NG\",\n    \"am_ET\",\n    \"lo_LA\",\n    \"ku_TR\",\n    \"so_SO\",\n    \"my_MM\",\n    \"or_IN\",\n    \"sa_IN\"\n  ],\n  \"layer_norm_eps\": 1e-05,\n  \"ln_before_adapter\": true,\n  \"max_position_embeddings\": 514,\n  \"model_type\": \"xmod\",\n  \"num_attention_heads\": 12,\n  \"num_hidden_layers\": 12,\n  \"pad_token_id\": 1,\n  \"position_embedding_type\": \"absolute\",\n  \"pre_norm\": false,\n  \"torch_dtype\": \"float32\",\n  \"transformers_version\": \"4.28.1\",\n  \"type_vocab_size\": 1,\n  \"use_cache\": true,\n  \"vocab_size\": 250002\n}"
     },
     "execution_count": 2,
     "metadata": {},
     "output_type": "execute_result"
    }
   ],
   "source": [
    "model.config"
   ],
   "metadata": {
    "collapsed": false,
    "ExecuteTime": {
     "start_time": "2023-04-27T09:27:08.977692Z",
     "end_time": "2023-04-27T09:27:08.987478Z"
    }
   }
  },
  {
   "cell_type": "code",
   "execution_count": 2,
   "outputs": [],
   "source": [],
   "metadata": {
    "collapsed": false,
    "ExecuteTime": {
     "start_time": "2023-04-27T09:31:24.462727Z",
     "end_time": "2023-04-27T09:31:24.786484Z"
    }
   }
  },
  {
   "cell_type": "code",
   "execution_count": null,
   "outputs": [],
   "source": [],
   "metadata": {
    "collapsed": false
   }
  }
 ],
 "metadata": {
  "kernelspec": {
   "display_name": "Python 3",
   "language": "python",
   "name": "python3"
  },
  "language_info": {
   "codemirror_mode": {
    "name": "ipython",
    "version": 2
   },
   "file_extension": ".py",
   "mimetype": "text/x-python",
   "name": "python",
   "nbconvert_exporter": "python",
   "pygments_lexer": "ipython2",
   "version": "2.7.6"
  }
 },
 "nbformat": 4,
 "nbformat_minor": 0
}
