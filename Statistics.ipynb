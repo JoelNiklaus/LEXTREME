{
 "cells": [
  {
   "cell_type": "code",
   "execution_count": 10,
   "id": "ff6a6d5b",
   "metadata": {},
   "outputs": [],
   "source": [
    "import json as js\n",
    "import pandas as pd\n",
    "from datasets import load_dataset, Dataset\n",
    "from tqdm import tqdm\n",
    "tqdm.pandas()\n",
    "from ast import literal_eval\n",
    "from traceback import print_exc"
   ]
  },
  {
   "cell_type": "code",
   "execution_count": 2,
   "id": "053f2626",
   "metadata": {},
   "outputs": [],
   "source": [
    "with open(\"meta_infos.json\", \"r\") as f:\n",
    "    meta_infos = js.load(f)"
   ]
  },
  {
   "cell_type": "code",
   "execution_count": 3,
   "id": "bd15366f",
   "metadata": {},
   "outputs": [],
   "source": [
    "def split_into_languages(dataset):\n",
    "    dataset_new = list()\n",
    "\n",
    "    dataset_df = pd.DataFrame(dataset)\n",
    "\n",
    "    for item in dataset_df.to_dict(orient='records'):\n",
    "        labels = item['label']\n",
    "        for language, document in literal_eval(item['input']).items():\n",
    "            if document is not None:\n",
    "                item_new = dict()\n",
    "                item_new['language'] = language\n",
    "                item_new['input'] = str(document)\n",
    "                item_new['label'] = labels\n",
    "                dataset_new.append(item_new)\n",
    "\n",
    "    dataset_new = pd.DataFrame(dataset_new)\n",
    "\n",
    "    dataset_new = Dataset.from_pandas(dataset_new)\n",
    "    \n",
    "    return dataset_new"
   ]
  },
  {
   "cell_type": "code",
   "execution_count": 21,
   "id": "0efd7e30",
   "metadata": {},
   "outputs": [
    {
     "name": "stderr",
     "output_type": "stream",
     "text": [
      "Found cached dataset lextreme (/Users/vetonmatoshi/.cache/huggingface/datasets/joelito___lextreme/brazilian_court_decisions_judgment/1.0.0/43e5402e22c4ffbf0de470c8e84115dfed02ba82d1f3dad643bbf67fd9b8b415)\n"
     ]
    },
    {
     "data": {
      "text/plain": [
       "Dataset({\n",
       "    features: ['input', 'label', 'language'],\n",
       "    num_rows: 3234\n",
       "})"
      ]
     },
     "execution_count": 21,
     "metadata": {},
     "output_type": "execute_result"
    }
   ],
   "source": [
    "dataset = load_dataset(\"joelito/lextreme\", 'brazilian_court_decisions_judgment', split='train')\n",
    "dataset"
   ]
  },
  {
   "cell_type": "code",
   "execution_count": 23,
   "id": "f6dffe89",
   "metadata": {},
   "outputs": [
    {
     "data": {
      "text/plain": [
       "1"
      ]
     },
     "execution_count": 23,
     "metadata": {},
     "output_type": "execute_result"
    }
   ],
   "source": [
    "dataset['label'][0]"
   ]
  },
  {
   "cell_type": "code",
   "execution_count": 33,
   "id": "44fa912f",
   "metadata": {},
   "outputs": [],
   "source": [
    "def get_number_of_labels(dataset_object):\n",
    "    \n",
    "    labels = dataset_object['label']\n",
    "    if type(labels[0])==list:\n",
    "        labels = [item for sublist in labels for item in sublist]\n",
    "        labels = set(labels)\n",
    "    else:\n",
    "        labels = set(labels)\n",
    "    return labels\n"
   ]
  },
  {
   "cell_type": "code",
   "execution_count": 36,
   "id": "e18bd079",
   "metadata": {
    "scrolled": true
   },
   "outputs": [],
   "source": [
    "def get_sample_size(finetuning_task,language, template):\n",
    "    for split in ['train', 'validation', 'test']:\n",
    "        try:\n",
    "            dataset = load_dataset(\"joelito/lextreme\", finetuning_task, split=split)\n",
    "\n",
    "            if 'multi_eurlex' in finetuning_task:\n",
    "                dataset = split_into_languages(dataset)\n",
    "\n",
    "            if language==\"all\":\n",
    "                return len(dataset['input'])\n",
    "            else:\n",
    "                dataset = pd.DataFrame(dataset)\n",
    "                dataset = dataset[dataset.language==language]\n",
    "                number_of_examples =  dataset.shape[0]\n",
    "                dataset = Dataset.from_pandas(dataset)\n",
    "                labels = get_number_of_labels(dataset)\n",
    "                template_item = dict()\n",
    "                template_item['finetuning_task']=finetuning_task\n",
    "                template_item['split']=split\n",
    "                template_item['language']=language\n",
    "                template_item['number_of_examples']=number_of_examples\n",
    "                template_item['number_of_labels']=len(labels)\n",
    "                #template_item['labels']=labels\n",
    "                template.append(template_item)\n",
    "        except Exception as e:\n",
    "            print(finetuning_task, split, language)\n",
    "            print_exc()"
   ]
  },
  {
   "cell_type": "code",
   "execution_count": null,
   "id": "a936440d",
   "metadata": {
    "scrolled": false
   },
   "outputs": [
    {
     "name": "stdout",
     "output_type": "stream",
     "text": [
      "brazilian_court_decisions_judgment\n"
     ]
    },
    {
     "name": "stderr",
     "output_type": "stream",
     "text": [
      "Found cached dataset lextreme (/Users/vetonmatoshi/.cache/huggingface/datasets/joelito___lextreme/brazilian_court_decisions_judgment/1.0.0/43e5402e22c4ffbf0de470c8e84115dfed02ba82d1f3dad643bbf67fd9b8b415)\n",
      "Found cached dataset lextreme (/Users/vetonmatoshi/.cache/huggingface/datasets/joelito___lextreme/brazilian_court_decisions_judgment/1.0.0/43e5402e22c4ffbf0de470c8e84115dfed02ba82d1f3dad643bbf67fd9b8b415)\n",
      "Found cached dataset lextreme (/Users/vetonmatoshi/.cache/huggingface/datasets/joelito___lextreme/brazilian_court_decisions_judgment/1.0.0/43e5402e22c4ffbf0de470c8e84115dfed02ba82d1f3dad643bbf67fd9b8b415)\n"
     ]
    },
    {
     "name": "stdout",
     "output_type": "stream",
     "text": [
      "brazilian_court_decisions_unanimity\n"
     ]
    },
    {
     "name": "stderr",
     "output_type": "stream",
     "text": [
      "Found cached dataset lextreme (/Users/vetonmatoshi/.cache/huggingface/datasets/joelito___lextreme/brazilian_court_decisions_unanimity/1.0.0/43e5402e22c4ffbf0de470c8e84115dfed02ba82d1f3dad643bbf67fd9b8b415)\n",
      "Found cached dataset lextreme (/Users/vetonmatoshi/.cache/huggingface/datasets/joelito___lextreme/brazilian_court_decisions_unanimity/1.0.0/43e5402e22c4ffbf0de470c8e84115dfed02ba82d1f3dad643bbf67fd9b8b415)\n",
      "Found cached dataset lextreme (/Users/vetonmatoshi/.cache/huggingface/datasets/joelito___lextreme/brazilian_court_decisions_unanimity/1.0.0/43e5402e22c4ffbf0de470c8e84115dfed02ba82d1f3dad643bbf67fd9b8b415)\n"
     ]
    },
    {
     "name": "stdout",
     "output_type": "stream",
     "text": [
      "german_argument_mining\n"
     ]
    },
    {
     "name": "stderr",
     "output_type": "stream",
     "text": [
      "Found cached dataset lextreme (/Users/vetonmatoshi/.cache/huggingface/datasets/joelito___lextreme/german_argument_mining/1.0.0/43e5402e22c4ffbf0de470c8e84115dfed02ba82d1f3dad643bbf67fd9b8b415)\n",
      "Found cached dataset lextreme (/Users/vetonmatoshi/.cache/huggingface/datasets/joelito___lextreme/german_argument_mining/1.0.0/43e5402e22c4ffbf0de470c8e84115dfed02ba82d1f3dad643bbf67fd9b8b415)\n",
      "Found cached dataset lextreme (/Users/vetonmatoshi/.cache/huggingface/datasets/joelito___lextreme/german_argument_mining/1.0.0/43e5402e22c4ffbf0de470c8e84115dfed02ba82d1f3dad643bbf67fd9b8b415)\n"
     ]
    },
    {
     "name": "stdout",
     "output_type": "stream",
     "text": [
      "greek_legal_code_chapter\n"
     ]
    },
    {
     "name": "stderr",
     "output_type": "stream",
     "text": [
      "Found cached dataset lextreme (/Users/vetonmatoshi/.cache/huggingface/datasets/joelito___lextreme/greek_legal_code_chapter/1.0.0/43e5402e22c4ffbf0de470c8e84115dfed02ba82d1f3dad643bbf67fd9b8b415)\n",
      "Found cached dataset lextreme (/Users/vetonmatoshi/.cache/huggingface/datasets/joelito___lextreme/greek_legal_code_chapter/1.0.0/43e5402e22c4ffbf0de470c8e84115dfed02ba82d1f3dad643bbf67fd9b8b415)\n",
      "Found cached dataset lextreme (/Users/vetonmatoshi/.cache/huggingface/datasets/joelito___lextreme/greek_legal_code_chapter/1.0.0/43e5402e22c4ffbf0de470c8e84115dfed02ba82d1f3dad643bbf67fd9b8b415)\n"
     ]
    },
    {
     "name": "stdout",
     "output_type": "stream",
     "text": [
      "greek_legal_code_subject\n"
     ]
    },
    {
     "name": "stderr",
     "output_type": "stream",
     "text": [
      "Found cached dataset lextreme (/Users/vetonmatoshi/.cache/huggingface/datasets/joelito___lextreme/greek_legal_code_subject/1.0.0/43e5402e22c4ffbf0de470c8e84115dfed02ba82d1f3dad643bbf67fd9b8b415)\n",
      "Found cached dataset lextreme (/Users/vetonmatoshi/.cache/huggingface/datasets/joelito___lextreme/greek_legal_code_subject/1.0.0/43e5402e22c4ffbf0de470c8e84115dfed02ba82d1f3dad643bbf67fd9b8b415)\n",
      "Found cached dataset lextreme (/Users/vetonmatoshi/.cache/huggingface/datasets/joelito___lextreme/greek_legal_code_subject/1.0.0/43e5402e22c4ffbf0de470c8e84115dfed02ba82d1f3dad643bbf67fd9b8b415)\n"
     ]
    },
    {
     "name": "stdout",
     "output_type": "stream",
     "text": [
      "greek_legal_code_volume\n"
     ]
    },
    {
     "name": "stderr",
     "output_type": "stream",
     "text": [
      "Found cached dataset lextreme (/Users/vetonmatoshi/.cache/huggingface/datasets/joelito___lextreme/greek_legal_code_volume/1.0.0/43e5402e22c4ffbf0de470c8e84115dfed02ba82d1f3dad643bbf67fd9b8b415)\n",
      "Found cached dataset lextreme (/Users/vetonmatoshi/.cache/huggingface/datasets/joelito___lextreme/greek_legal_code_volume/1.0.0/43e5402e22c4ffbf0de470c8e84115dfed02ba82d1f3dad643bbf67fd9b8b415)\n",
      "Found cached dataset lextreme (/Users/vetonmatoshi/.cache/huggingface/datasets/joelito___lextreme/greek_legal_code_volume/1.0.0/43e5402e22c4ffbf0de470c8e84115dfed02ba82d1f3dad643bbf67fd9b8b415)\n"
     ]
    },
    {
     "name": "stdout",
     "output_type": "stream",
     "text": [
      "swiss_judgment_prediction\n"
     ]
    },
    {
     "name": "stderr",
     "output_type": "stream",
     "text": [
      "Found cached dataset lextreme (/Users/vetonmatoshi/.cache/huggingface/datasets/joelito___lextreme/swiss_judgment_prediction/1.0.0/43e5402e22c4ffbf0de470c8e84115dfed02ba82d1f3dad643bbf67fd9b8b415)\n",
      "Found cached dataset lextreme (/Users/vetonmatoshi/.cache/huggingface/datasets/joelito___lextreme/swiss_judgment_prediction/1.0.0/43e5402e22c4ffbf0de470c8e84115dfed02ba82d1f3dad643bbf67fd9b8b415)\n",
      "Found cached dataset lextreme (/Users/vetonmatoshi/.cache/huggingface/datasets/joelito___lextreme/swiss_judgment_prediction/1.0.0/43e5402e22c4ffbf0de470c8e84115dfed02ba82d1f3dad643bbf67fd9b8b415)\n",
      "Found cached dataset lextreme (/Users/vetonmatoshi/.cache/huggingface/datasets/joelito___lextreme/swiss_judgment_prediction/1.0.0/43e5402e22c4ffbf0de470c8e84115dfed02ba82d1f3dad643bbf67fd9b8b415)\n",
      "Found cached dataset lextreme (/Users/vetonmatoshi/.cache/huggingface/datasets/joelito___lextreme/swiss_judgment_prediction/1.0.0/43e5402e22c4ffbf0de470c8e84115dfed02ba82d1f3dad643bbf67fd9b8b415)\n",
      "Found cached dataset lextreme (/Users/vetonmatoshi/.cache/huggingface/datasets/joelito___lextreme/swiss_judgment_prediction/1.0.0/43e5402e22c4ffbf0de470c8e84115dfed02ba82d1f3dad643bbf67fd9b8b415)\n",
      "Found cached dataset lextreme (/Users/vetonmatoshi/.cache/huggingface/datasets/joelito___lextreme/swiss_judgment_prediction/1.0.0/43e5402e22c4ffbf0de470c8e84115dfed02ba82d1f3dad643bbf67fd9b8b415)\n",
      "Found cached dataset lextreme (/Users/vetonmatoshi/.cache/huggingface/datasets/joelito___lextreme/swiss_judgment_prediction/1.0.0/43e5402e22c4ffbf0de470c8e84115dfed02ba82d1f3dad643bbf67fd9b8b415)\n",
      "Found cached dataset lextreme (/Users/vetonmatoshi/.cache/huggingface/datasets/joelito___lextreme/swiss_judgment_prediction/1.0.0/43e5402e22c4ffbf0de470c8e84115dfed02ba82d1f3dad643bbf67fd9b8b415)\n",
      "Found cached dataset lextreme (/Users/vetonmatoshi/.cache/huggingface/datasets/joelito___lextreme/swiss_judgment_prediction/1.0.0/43e5402e22c4ffbf0de470c8e84115dfed02ba82d1f3dad643bbf67fd9b8b415)\n",
      "Found cached dataset lextreme (/Users/vetonmatoshi/.cache/huggingface/datasets/joelito___lextreme/swiss_judgment_prediction/1.0.0/43e5402e22c4ffbf0de470c8e84115dfed02ba82d1f3dad643bbf67fd9b8b415)\n"
     ]
    },
    {
     "name": "stdout",
     "output_type": "stream",
     "text": [
      "online_terms_of_service_unfairness_levels\n"
     ]
    },
    {
     "name": "stderr",
     "output_type": "stream",
     "text": [
      "Found cached dataset lextreme (/Users/vetonmatoshi/.cache/huggingface/datasets/joelito___lextreme/online_terms_of_service_unfairness_levels/1.0.0/43e5402e22c4ffbf0de470c8e84115dfed02ba82d1f3dad643bbf67fd9b8b415)\n",
      "Found cached dataset lextreme (/Users/vetonmatoshi/.cache/huggingface/datasets/joelito___lextreme/online_terms_of_service_unfairness_levels/1.0.0/43e5402e22c4ffbf0de470c8e84115dfed02ba82d1f3dad643bbf67fd9b8b415)\n",
      "Found cached dataset lextreme (/Users/vetonmatoshi/.cache/huggingface/datasets/joelito___lextreme/online_terms_of_service_unfairness_levels/1.0.0/43e5402e22c4ffbf0de470c8e84115dfed02ba82d1f3dad643bbf67fd9b8b415)\n",
      "Found cached dataset lextreme (/Users/vetonmatoshi/.cache/huggingface/datasets/joelito___lextreme/online_terms_of_service_unfairness_levels/1.0.0/43e5402e22c4ffbf0de470c8e84115dfed02ba82d1f3dad643bbf67fd9b8b415)\n",
      "Found cached dataset lextreme (/Users/vetonmatoshi/.cache/huggingface/datasets/joelito___lextreme/online_terms_of_service_unfairness_levels/1.0.0/43e5402e22c4ffbf0de470c8e84115dfed02ba82d1f3dad643bbf67fd9b8b415)\n",
      "Found cached dataset lextreme (/Users/vetonmatoshi/.cache/huggingface/datasets/joelito___lextreme/online_terms_of_service_unfairness_levels/1.0.0/43e5402e22c4ffbf0de470c8e84115dfed02ba82d1f3dad643bbf67fd9b8b415)\n",
      "Found cached dataset lextreme (/Users/vetonmatoshi/.cache/huggingface/datasets/joelito___lextreme/online_terms_of_service_unfairness_levels/1.0.0/43e5402e22c4ffbf0de470c8e84115dfed02ba82d1f3dad643bbf67fd9b8b415)\n",
      "Found cached dataset lextreme (/Users/vetonmatoshi/.cache/huggingface/datasets/joelito___lextreme/online_terms_of_service_unfairness_levels/1.0.0/43e5402e22c4ffbf0de470c8e84115dfed02ba82d1f3dad643bbf67fd9b8b415)\n",
      "Found cached dataset lextreme (/Users/vetonmatoshi/.cache/huggingface/datasets/joelito___lextreme/online_terms_of_service_unfairness_levels/1.0.0/43e5402e22c4ffbf0de470c8e84115dfed02ba82d1f3dad643bbf67fd9b8b415)\n",
      "Found cached dataset lextreme (/Users/vetonmatoshi/.cache/huggingface/datasets/joelito___lextreme/online_terms_of_service_unfairness_levels/1.0.0/43e5402e22c4ffbf0de470c8e84115dfed02ba82d1f3dad643bbf67fd9b8b415)\n",
      "Found cached dataset lextreme (/Users/vetonmatoshi/.cache/huggingface/datasets/joelito___lextreme/online_terms_of_service_unfairness_levels/1.0.0/43e5402e22c4ffbf0de470c8e84115dfed02ba82d1f3dad643bbf67fd9b8b415)\n",
      "Found cached dataset lextreme (/Users/vetonmatoshi/.cache/huggingface/datasets/joelito___lextreme/online_terms_of_service_unfairness_levels/1.0.0/43e5402e22c4ffbf0de470c8e84115dfed02ba82d1f3dad643bbf67fd9b8b415)\n",
      "Found cached dataset lextreme (/Users/vetonmatoshi/.cache/huggingface/datasets/joelito___lextreme/online_terms_of_service_unfairness_levels/1.0.0/43e5402e22c4ffbf0de470c8e84115dfed02ba82d1f3dad643bbf67fd9b8b415)\n",
      "Found cached dataset lextreme (/Users/vetonmatoshi/.cache/huggingface/datasets/joelito___lextreme/online_terms_of_service_unfairness_levels/1.0.0/43e5402e22c4ffbf0de470c8e84115dfed02ba82d1f3dad643bbf67fd9b8b415)\n"
     ]
    },
    {
     "name": "stdout",
     "output_type": "stream",
     "text": [
      "online_terms_of_service_clause_topics\n"
     ]
    },
    {
     "name": "stderr",
     "output_type": "stream",
     "text": [
      "Found cached dataset lextreme (/Users/vetonmatoshi/.cache/huggingface/datasets/joelito___lextreme/online_terms_of_service_clause_topics/1.0.0/43e5402e22c4ffbf0de470c8e84115dfed02ba82d1f3dad643bbf67fd9b8b415)\n",
      "Found cached dataset lextreme (/Users/vetonmatoshi/.cache/huggingface/datasets/joelito___lextreme/online_terms_of_service_clause_topics/1.0.0/43e5402e22c4ffbf0de470c8e84115dfed02ba82d1f3dad643bbf67fd9b8b415)\n",
      "Found cached dataset lextreme (/Users/vetonmatoshi/.cache/huggingface/datasets/joelito___lextreme/online_terms_of_service_clause_topics/1.0.0/43e5402e22c4ffbf0de470c8e84115dfed02ba82d1f3dad643bbf67fd9b8b415)\n",
      "Found cached dataset lextreme (/Users/vetonmatoshi/.cache/huggingface/datasets/joelito___lextreme/online_terms_of_service_clause_topics/1.0.0/43e5402e22c4ffbf0de470c8e84115dfed02ba82d1f3dad643bbf67fd9b8b415)\n",
      "Found cached dataset lextreme (/Users/vetonmatoshi/.cache/huggingface/datasets/joelito___lextreme/online_terms_of_service_clause_topics/1.0.0/43e5402e22c4ffbf0de470c8e84115dfed02ba82d1f3dad643bbf67fd9b8b415)\n",
      "Found cached dataset lextreme (/Users/vetonmatoshi/.cache/huggingface/datasets/joelito___lextreme/online_terms_of_service_clause_topics/1.0.0/43e5402e22c4ffbf0de470c8e84115dfed02ba82d1f3dad643bbf67fd9b8b415)\n",
      "Found cached dataset lextreme (/Users/vetonmatoshi/.cache/huggingface/datasets/joelito___lextreme/online_terms_of_service_clause_topics/1.0.0/43e5402e22c4ffbf0de470c8e84115dfed02ba82d1f3dad643bbf67fd9b8b415)\n",
      "Found cached dataset lextreme (/Users/vetonmatoshi/.cache/huggingface/datasets/joelito___lextreme/online_terms_of_service_clause_topics/1.0.0/43e5402e22c4ffbf0de470c8e84115dfed02ba82d1f3dad643bbf67fd9b8b415)\n",
      "Found cached dataset lextreme (/Users/vetonmatoshi/.cache/huggingface/datasets/joelito___lextreme/online_terms_of_service_clause_topics/1.0.0/43e5402e22c4ffbf0de470c8e84115dfed02ba82d1f3dad643bbf67fd9b8b415)\n",
      "Found cached dataset lextreme (/Users/vetonmatoshi/.cache/huggingface/datasets/joelito___lextreme/online_terms_of_service_clause_topics/1.0.0/43e5402e22c4ffbf0de470c8e84115dfed02ba82d1f3dad643bbf67fd9b8b415)\n",
      "Found cached dataset lextreme (/Users/vetonmatoshi/.cache/huggingface/datasets/joelito___lextreme/online_terms_of_service_clause_topics/1.0.0/43e5402e22c4ffbf0de470c8e84115dfed02ba82d1f3dad643bbf67fd9b8b415)\n",
      "Found cached dataset lextreme (/Users/vetonmatoshi/.cache/huggingface/datasets/joelito___lextreme/online_terms_of_service_clause_topics/1.0.0/43e5402e22c4ffbf0de470c8e84115dfed02ba82d1f3dad643bbf67fd9b8b415)\n",
      "Found cached dataset lextreme (/Users/vetonmatoshi/.cache/huggingface/datasets/joelito___lextreme/online_terms_of_service_clause_topics/1.0.0/43e5402e22c4ffbf0de470c8e84115dfed02ba82d1f3dad643bbf67fd9b8b415)\n"
     ]
    },
    {
     "name": "stdout",
     "output_type": "stream",
     "text": [
      "covid19_emergency_event\n"
     ]
    },
    {
     "name": "stderr",
     "output_type": "stream",
     "text": [
      "Found cached dataset lextreme (/Users/vetonmatoshi/.cache/huggingface/datasets/joelito___lextreme/covid19_emergency_event/1.0.0/43e5402e22c4ffbf0de470c8e84115dfed02ba82d1f3dad643bbf67fd9b8b415)\n",
      "Found cached dataset lextreme (/Users/vetonmatoshi/.cache/huggingface/datasets/joelito___lextreme/covid19_emergency_event/1.0.0/43e5402e22c4ffbf0de470c8e84115dfed02ba82d1f3dad643bbf67fd9b8b415)\n",
      "Found cached dataset lextreme (/Users/vetonmatoshi/.cache/huggingface/datasets/joelito___lextreme/covid19_emergency_event/1.0.0/43e5402e22c4ffbf0de470c8e84115dfed02ba82d1f3dad643bbf67fd9b8b415)\n",
      "Found cached dataset lextreme (/Users/vetonmatoshi/.cache/huggingface/datasets/joelito___lextreme/covid19_emergency_event/1.0.0/43e5402e22c4ffbf0de470c8e84115dfed02ba82d1f3dad643bbf67fd9b8b415)\n",
      "Found cached dataset lextreme (/Users/vetonmatoshi/.cache/huggingface/datasets/joelito___lextreme/covid19_emergency_event/1.0.0/43e5402e22c4ffbf0de470c8e84115dfed02ba82d1f3dad643bbf67fd9b8b415)\n",
      "Found cached dataset lextreme (/Users/vetonmatoshi/.cache/huggingface/datasets/joelito___lextreme/covid19_emergency_event/1.0.0/43e5402e22c4ffbf0de470c8e84115dfed02ba82d1f3dad643bbf67fd9b8b415)\n",
      "Found cached dataset lextreme (/Users/vetonmatoshi/.cache/huggingface/datasets/joelito___lextreme/covid19_emergency_event/1.0.0/43e5402e22c4ffbf0de470c8e84115dfed02ba82d1f3dad643bbf67fd9b8b415)\n",
      "Found cached dataset lextreme (/Users/vetonmatoshi/.cache/huggingface/datasets/joelito___lextreme/covid19_emergency_event/1.0.0/43e5402e22c4ffbf0de470c8e84115dfed02ba82d1f3dad643bbf67fd9b8b415)\n",
      "Found cached dataset lextreme (/Users/vetonmatoshi/.cache/huggingface/datasets/joelito___lextreme/covid19_emergency_event/1.0.0/43e5402e22c4ffbf0de470c8e84115dfed02ba82d1f3dad643bbf67fd9b8b415)\n",
      "Found cached dataset lextreme (/Users/vetonmatoshi/.cache/huggingface/datasets/joelito___lextreme/covid19_emergency_event/1.0.0/43e5402e22c4ffbf0de470c8e84115dfed02ba82d1f3dad643bbf67fd9b8b415)\n",
      "Found cached dataset lextreme (/Users/vetonmatoshi/.cache/huggingface/datasets/joelito___lextreme/covid19_emergency_event/1.0.0/43e5402e22c4ffbf0de470c8e84115dfed02ba82d1f3dad643bbf67fd9b8b415)\n",
      "Found cached dataset lextreme (/Users/vetonmatoshi/.cache/huggingface/datasets/joelito___lextreme/covid19_emergency_event/1.0.0/43e5402e22c4ffbf0de470c8e84115dfed02ba82d1f3dad643bbf67fd9b8b415)\n",
      "Found cached dataset lextreme (/Users/vetonmatoshi/.cache/huggingface/datasets/joelito___lextreme/covid19_emergency_event/1.0.0/43e5402e22c4ffbf0de470c8e84115dfed02ba82d1f3dad643bbf67fd9b8b415)\n",
      "Found cached dataset lextreme (/Users/vetonmatoshi/.cache/huggingface/datasets/joelito___lextreme/covid19_emergency_event/1.0.0/43e5402e22c4ffbf0de470c8e84115dfed02ba82d1f3dad643bbf67fd9b8b415)\n",
      "Found cached dataset lextreme (/Users/vetonmatoshi/.cache/huggingface/datasets/joelito___lextreme/covid19_emergency_event/1.0.0/43e5402e22c4ffbf0de470c8e84115dfed02ba82d1f3dad643bbf67fd9b8b415)\n",
      "Found cached dataset lextreme (/Users/vetonmatoshi/.cache/huggingface/datasets/joelito___lextreme/covid19_emergency_event/1.0.0/43e5402e22c4ffbf0de470c8e84115dfed02ba82d1f3dad643bbf67fd9b8b415)\n",
      "Found cached dataset lextreme (/Users/vetonmatoshi/.cache/huggingface/datasets/joelito___lextreme/covid19_emergency_event/1.0.0/43e5402e22c4ffbf0de470c8e84115dfed02ba82d1f3dad643bbf67fd9b8b415)\n",
      "Found cached dataset lextreme (/Users/vetonmatoshi/.cache/huggingface/datasets/joelito___lextreme/covid19_emergency_event/1.0.0/43e5402e22c4ffbf0de470c8e84115dfed02ba82d1f3dad643bbf67fd9b8b415)\n",
      "Found cached dataset lextreme (/Users/vetonmatoshi/.cache/huggingface/datasets/joelito___lextreme/covid19_emergency_event/1.0.0/43e5402e22c4ffbf0de470c8e84115dfed02ba82d1f3dad643bbf67fd9b8b415)\n",
      "Found cached dataset lextreme (/Users/vetonmatoshi/.cache/huggingface/datasets/joelito___lextreme/covid19_emergency_event/1.0.0/43e5402e22c4ffbf0de470c8e84115dfed02ba82d1f3dad643bbf67fd9b8b415)\n",
      "Found cached dataset lextreme (/Users/vetonmatoshi/.cache/huggingface/datasets/joelito___lextreme/covid19_emergency_event/1.0.0/43e5402e22c4ffbf0de470c8e84115dfed02ba82d1f3dad643bbf67fd9b8b415)\n",
      "Found cached dataset lextreme (/Users/vetonmatoshi/.cache/huggingface/datasets/joelito___lextreme/covid19_emergency_event/1.0.0/43e5402e22c4ffbf0de470c8e84115dfed02ba82d1f3dad643bbf67fd9b8b415)\n"
     ]
    },
    {
     "name": "stdout",
     "output_type": "stream",
     "text": [
      "multi_eurlex_level_1\n"
     ]
    },
    {
     "name": "stderr",
     "output_type": "stream",
     "text": [
      "Found cached dataset lextreme (/Users/vetonmatoshi/.cache/huggingface/datasets/joelito___lextreme/multi_eurlex_level_1/1.0.0/43e5402e22c4ffbf0de470c8e84115dfed02ba82d1f3dad643bbf67fd9b8b415)\n",
      "Found cached dataset lextreme (/Users/vetonmatoshi/.cache/huggingface/datasets/joelito___lextreme/multi_eurlex_level_1/1.0.0/43e5402e22c4ffbf0de470c8e84115dfed02ba82d1f3dad643bbf67fd9b8b415)\n",
      "Found cached dataset lextreme (/Users/vetonmatoshi/.cache/huggingface/datasets/joelito___lextreme/multi_eurlex_level_1/1.0.0/43e5402e22c4ffbf0de470c8e84115dfed02ba82d1f3dad643bbf67fd9b8b415)\n",
      "Found cached dataset lextreme (/Users/vetonmatoshi/.cache/huggingface/datasets/joelito___lextreme/multi_eurlex_level_1/1.0.0/43e5402e22c4ffbf0de470c8e84115dfed02ba82d1f3dad643bbf67fd9b8b415)\n",
      "Found cached dataset lextreme (/Users/vetonmatoshi/.cache/huggingface/datasets/joelito___lextreme/multi_eurlex_level_1/1.0.0/43e5402e22c4ffbf0de470c8e84115dfed02ba82d1f3dad643bbf67fd9b8b415)\n",
      "Found cached dataset lextreme (/Users/vetonmatoshi/.cache/huggingface/datasets/joelito___lextreme/multi_eurlex_level_1/1.0.0/43e5402e22c4ffbf0de470c8e84115dfed02ba82d1f3dad643bbf67fd9b8b415)\n",
      "Found cached dataset lextreme (/Users/vetonmatoshi/.cache/huggingface/datasets/joelito___lextreme/multi_eurlex_level_1/1.0.0/43e5402e22c4ffbf0de470c8e84115dfed02ba82d1f3dad643bbf67fd9b8b415)\n",
      "Found cached dataset lextreme (/Users/vetonmatoshi/.cache/huggingface/datasets/joelito___lextreme/multi_eurlex_level_1/1.0.0/43e5402e22c4ffbf0de470c8e84115dfed02ba82d1f3dad643bbf67fd9b8b415)\n",
      "Found cached dataset lextreme (/Users/vetonmatoshi/.cache/huggingface/datasets/joelito___lextreme/multi_eurlex_level_1/1.0.0/43e5402e22c4ffbf0de470c8e84115dfed02ba82d1f3dad643bbf67fd9b8b415)\n",
      "Found cached dataset lextreme (/Users/vetonmatoshi/.cache/huggingface/datasets/joelito___lextreme/multi_eurlex_level_1/1.0.0/43e5402e22c4ffbf0de470c8e84115dfed02ba82d1f3dad643bbf67fd9b8b415)\n",
      "Found cached dataset lextreme (/Users/vetonmatoshi/.cache/huggingface/datasets/joelito___lextreme/multi_eurlex_level_1/1.0.0/43e5402e22c4ffbf0de470c8e84115dfed02ba82d1f3dad643bbf67fd9b8b415)\n",
      "Found cached dataset lextreme (/Users/vetonmatoshi/.cache/huggingface/datasets/joelito___lextreme/multi_eurlex_level_1/1.0.0/43e5402e22c4ffbf0de470c8e84115dfed02ba82d1f3dad643bbf67fd9b8b415)\n",
      "Found cached dataset lextreme (/Users/vetonmatoshi/.cache/huggingface/datasets/joelito___lextreme/multi_eurlex_level_1/1.0.0/43e5402e22c4ffbf0de470c8e84115dfed02ba82d1f3dad643bbf67fd9b8b415)\n",
      "Found cached dataset lextreme (/Users/vetonmatoshi/.cache/huggingface/datasets/joelito___lextreme/multi_eurlex_level_1/1.0.0/43e5402e22c4ffbf0de470c8e84115dfed02ba82d1f3dad643bbf67fd9b8b415)\n",
      "Found cached dataset lextreme (/Users/vetonmatoshi/.cache/huggingface/datasets/joelito___lextreme/multi_eurlex_level_1/1.0.0/43e5402e22c4ffbf0de470c8e84115dfed02ba82d1f3dad643bbf67fd9b8b415)\n",
      "Found cached dataset lextreme (/Users/vetonmatoshi/.cache/huggingface/datasets/joelito___lextreme/multi_eurlex_level_1/1.0.0/43e5402e22c4ffbf0de470c8e84115dfed02ba82d1f3dad643bbf67fd9b8b415)\n",
      "Found cached dataset lextreme (/Users/vetonmatoshi/.cache/huggingface/datasets/joelito___lextreme/multi_eurlex_level_1/1.0.0/43e5402e22c4ffbf0de470c8e84115dfed02ba82d1f3dad643bbf67fd9b8b415)\n",
      "Found cached dataset lextreme (/Users/vetonmatoshi/.cache/huggingface/datasets/joelito___lextreme/multi_eurlex_level_1/1.0.0/43e5402e22c4ffbf0de470c8e84115dfed02ba82d1f3dad643bbf67fd9b8b415)\n",
      "Found cached dataset lextreme (/Users/vetonmatoshi/.cache/huggingface/datasets/joelito___lextreme/multi_eurlex_level_1/1.0.0/43e5402e22c4ffbf0de470c8e84115dfed02ba82d1f3dad643bbf67fd9b8b415)\n",
      "Found cached dataset lextreme (/Users/vetonmatoshi/.cache/huggingface/datasets/joelito___lextreme/multi_eurlex_level_1/1.0.0/43e5402e22c4ffbf0de470c8e84115dfed02ba82d1f3dad643bbf67fd9b8b415)\n",
      "Found cached dataset lextreme (/Users/vetonmatoshi/.cache/huggingface/datasets/joelito___lextreme/multi_eurlex_level_1/1.0.0/43e5402e22c4ffbf0de470c8e84115dfed02ba82d1f3dad643bbf67fd9b8b415)\n",
      "Found cached dataset lextreme (/Users/vetonmatoshi/.cache/huggingface/datasets/joelito___lextreme/multi_eurlex_level_1/1.0.0/43e5402e22c4ffbf0de470c8e84115dfed02ba82d1f3dad643bbf67fd9b8b415)\n",
      "Found cached dataset lextreme (/Users/vetonmatoshi/.cache/huggingface/datasets/joelito___lextreme/multi_eurlex_level_1/1.0.0/43e5402e22c4ffbf0de470c8e84115dfed02ba82d1f3dad643bbf67fd9b8b415)\n",
      "Found cached dataset lextreme (/Users/vetonmatoshi/.cache/huggingface/datasets/joelito___lextreme/multi_eurlex_level_1/1.0.0/43e5402e22c4ffbf0de470c8e84115dfed02ba82d1f3dad643bbf67fd9b8b415)\n",
      "Found cached dataset lextreme (/Users/vetonmatoshi/.cache/huggingface/datasets/joelito___lextreme/multi_eurlex_level_1/1.0.0/43e5402e22c4ffbf0de470c8e84115dfed02ba82d1f3dad643bbf67fd9b8b415)\n",
      "Found cached dataset lextreme (/Users/vetonmatoshi/.cache/huggingface/datasets/joelito___lextreme/multi_eurlex_level_1/1.0.0/43e5402e22c4ffbf0de470c8e84115dfed02ba82d1f3dad643bbf67fd9b8b415)\n",
      "Found cached dataset lextreme (/Users/vetonmatoshi/.cache/huggingface/datasets/joelito___lextreme/multi_eurlex_level_1/1.0.0/43e5402e22c4ffbf0de470c8e84115dfed02ba82d1f3dad643bbf67fd9b8b415)\n",
      "Found cached dataset lextreme (/Users/vetonmatoshi/.cache/huggingface/datasets/joelito___lextreme/multi_eurlex_level_1/1.0.0/43e5402e22c4ffbf0de470c8e84115dfed02ba82d1f3dad643bbf67fd9b8b415)\n",
      "Found cached dataset lextreme (/Users/vetonmatoshi/.cache/huggingface/datasets/joelito___lextreme/multi_eurlex_level_1/1.0.0/43e5402e22c4ffbf0de470c8e84115dfed02ba82d1f3dad643bbf67fd9b8b415)\n",
      "Found cached dataset lextreme (/Users/vetonmatoshi/.cache/huggingface/datasets/joelito___lextreme/multi_eurlex_level_1/1.0.0/43e5402e22c4ffbf0de470c8e84115dfed02ba82d1f3dad643bbf67fd9b8b415)\n",
      "Found cached dataset lextreme (/Users/vetonmatoshi/.cache/huggingface/datasets/joelito___lextreme/multi_eurlex_level_1/1.0.0/43e5402e22c4ffbf0de470c8e84115dfed02ba82d1f3dad643bbf67fd9b8b415)\n",
      "Found cached dataset lextreme (/Users/vetonmatoshi/.cache/huggingface/datasets/joelito___lextreme/multi_eurlex_level_1/1.0.0/43e5402e22c4ffbf0de470c8e84115dfed02ba82d1f3dad643bbf67fd9b8b415)\n",
      "Found cached dataset lextreme (/Users/vetonmatoshi/.cache/huggingface/datasets/joelito___lextreme/multi_eurlex_level_1/1.0.0/43e5402e22c4ffbf0de470c8e84115dfed02ba82d1f3dad643bbf67fd9b8b415)\n",
      "Found cached dataset lextreme (/Users/vetonmatoshi/.cache/huggingface/datasets/joelito___lextreme/multi_eurlex_level_1/1.0.0/43e5402e22c4ffbf0de470c8e84115dfed02ba82d1f3dad643bbf67fd9b8b415)\n",
      "Found cached dataset lextreme (/Users/vetonmatoshi/.cache/huggingface/datasets/joelito___lextreme/multi_eurlex_level_1/1.0.0/43e5402e22c4ffbf0de470c8e84115dfed02ba82d1f3dad643bbf67fd9b8b415)\n",
      "Found cached dataset lextreme (/Users/vetonmatoshi/.cache/huggingface/datasets/joelito___lextreme/multi_eurlex_level_1/1.0.0/43e5402e22c4ffbf0de470c8e84115dfed02ba82d1f3dad643bbf67fd9b8b415)\n",
      "Found cached dataset lextreme (/Users/vetonmatoshi/.cache/huggingface/datasets/joelito___lextreme/multi_eurlex_level_1/1.0.0/43e5402e22c4ffbf0de470c8e84115dfed02ba82d1f3dad643bbf67fd9b8b415)\n",
      "Found cached dataset lextreme (/Users/vetonmatoshi/.cache/huggingface/datasets/joelito___lextreme/multi_eurlex_level_1/1.0.0/43e5402e22c4ffbf0de470c8e84115dfed02ba82d1f3dad643bbf67fd9b8b415)\n",
      "Found cached dataset lextreme (/Users/vetonmatoshi/.cache/huggingface/datasets/joelito___lextreme/multi_eurlex_level_1/1.0.0/43e5402e22c4ffbf0de470c8e84115dfed02ba82d1f3dad643bbf67fd9b8b415)\n",
      "Found cached dataset lextreme (/Users/vetonmatoshi/.cache/huggingface/datasets/joelito___lextreme/multi_eurlex_level_1/1.0.0/43e5402e22c4ffbf0de470c8e84115dfed02ba82d1f3dad643bbf67fd9b8b415)\n",
      "Found cached dataset lextreme (/Users/vetonmatoshi/.cache/huggingface/datasets/joelito___lextreme/multi_eurlex_level_1/1.0.0/43e5402e22c4ffbf0de470c8e84115dfed02ba82d1f3dad643bbf67fd9b8b415)\n",
      "Found cached dataset lextreme (/Users/vetonmatoshi/.cache/huggingface/datasets/joelito___lextreme/multi_eurlex_level_1/1.0.0/43e5402e22c4ffbf0de470c8e84115dfed02ba82d1f3dad643bbf67fd9b8b415)\n",
      "Found cached dataset lextreme (/Users/vetonmatoshi/.cache/huggingface/datasets/joelito___lextreme/multi_eurlex_level_1/1.0.0/43e5402e22c4ffbf0de470c8e84115dfed02ba82d1f3dad643bbf67fd9b8b415)\n"
     ]
    },
    {
     "name": "stderr",
     "output_type": "stream",
     "text": [
      "Found cached dataset lextreme (/Users/vetonmatoshi/.cache/huggingface/datasets/joelito___lextreme/multi_eurlex_level_1/1.0.0/43e5402e22c4ffbf0de470c8e84115dfed02ba82d1f3dad643bbf67fd9b8b415)\n",
      "Found cached dataset lextreme (/Users/vetonmatoshi/.cache/huggingface/datasets/joelito___lextreme/multi_eurlex_level_1/1.0.0/43e5402e22c4ffbf0de470c8e84115dfed02ba82d1f3dad643bbf67fd9b8b415)\n",
      "Found cached dataset lextreme (/Users/vetonmatoshi/.cache/huggingface/datasets/joelito___lextreme/multi_eurlex_level_1/1.0.0/43e5402e22c4ffbf0de470c8e84115dfed02ba82d1f3dad643bbf67fd9b8b415)\n",
      "Found cached dataset lextreme (/Users/vetonmatoshi/.cache/huggingface/datasets/joelito___lextreme/multi_eurlex_level_1/1.0.0/43e5402e22c4ffbf0de470c8e84115dfed02ba82d1f3dad643bbf67fd9b8b415)\n",
      "Found cached dataset lextreme (/Users/vetonmatoshi/.cache/huggingface/datasets/joelito___lextreme/multi_eurlex_level_1/1.0.0/43e5402e22c4ffbf0de470c8e84115dfed02ba82d1f3dad643bbf67fd9b8b415)\n",
      "Found cached dataset lextreme (/Users/vetonmatoshi/.cache/huggingface/datasets/joelito___lextreme/multi_eurlex_level_1/1.0.0/43e5402e22c4ffbf0de470c8e84115dfed02ba82d1f3dad643bbf67fd9b8b415)\n",
      "Found cached dataset lextreme (/Users/vetonmatoshi/.cache/huggingface/datasets/joelito___lextreme/multi_eurlex_level_1/1.0.0/43e5402e22c4ffbf0de470c8e84115dfed02ba82d1f3dad643bbf67fd9b8b415)\n",
      "Found cached dataset lextreme (/Users/vetonmatoshi/.cache/huggingface/datasets/joelito___lextreme/multi_eurlex_level_1/1.0.0/43e5402e22c4ffbf0de470c8e84115dfed02ba82d1f3dad643bbf67fd9b8b415)\n",
      "Found cached dataset lextreme (/Users/vetonmatoshi/.cache/huggingface/datasets/joelito___lextreme/multi_eurlex_level_1/1.0.0/43e5402e22c4ffbf0de470c8e84115dfed02ba82d1f3dad643bbf67fd9b8b415)\n",
      "Found cached dataset lextreme (/Users/vetonmatoshi/.cache/huggingface/datasets/joelito___lextreme/multi_eurlex_level_1/1.0.0/43e5402e22c4ffbf0de470c8e84115dfed02ba82d1f3dad643bbf67fd9b8b415)\n",
      "Found cached dataset lextreme (/Users/vetonmatoshi/.cache/huggingface/datasets/joelito___lextreme/multi_eurlex_level_1/1.0.0/43e5402e22c4ffbf0de470c8e84115dfed02ba82d1f3dad643bbf67fd9b8b415)\n",
      "Found cached dataset lextreme (/Users/vetonmatoshi/.cache/huggingface/datasets/joelito___lextreme/multi_eurlex_level_1/1.0.0/43e5402e22c4ffbf0de470c8e84115dfed02ba82d1f3dad643bbf67fd9b8b415)\n",
      "Found cached dataset lextreme (/Users/vetonmatoshi/.cache/huggingface/datasets/joelito___lextreme/multi_eurlex_level_1/1.0.0/43e5402e22c4ffbf0de470c8e84115dfed02ba82d1f3dad643bbf67fd9b8b415)\n",
      "Found cached dataset lextreme (/Users/vetonmatoshi/.cache/huggingface/datasets/joelito___lextreme/multi_eurlex_level_1/1.0.0/43e5402e22c4ffbf0de470c8e84115dfed02ba82d1f3dad643bbf67fd9b8b415)\n",
      "Found cached dataset lextreme (/Users/vetonmatoshi/.cache/huggingface/datasets/joelito___lextreme/multi_eurlex_level_1/1.0.0/43e5402e22c4ffbf0de470c8e84115dfed02ba82d1f3dad643bbf67fd9b8b415)\n",
      "Found cached dataset lextreme (/Users/vetonmatoshi/.cache/huggingface/datasets/joelito___lextreme/multi_eurlex_level_1/1.0.0/43e5402e22c4ffbf0de470c8e84115dfed02ba82d1f3dad643bbf67fd9b8b415)\n",
      "Found cached dataset lextreme (/Users/vetonmatoshi/.cache/huggingface/datasets/joelito___lextreme/multi_eurlex_level_1/1.0.0/43e5402e22c4ffbf0de470c8e84115dfed02ba82d1f3dad643bbf67fd9b8b415)\n",
      "Found cached dataset lextreme (/Users/vetonmatoshi/.cache/huggingface/datasets/joelito___lextreme/multi_eurlex_level_1/1.0.0/43e5402e22c4ffbf0de470c8e84115dfed02ba82d1f3dad643bbf67fd9b8b415)\n",
      "Found cached dataset lextreme (/Users/vetonmatoshi/.cache/huggingface/datasets/joelito___lextreme/multi_eurlex_level_1/1.0.0/43e5402e22c4ffbf0de470c8e84115dfed02ba82d1f3dad643bbf67fd9b8b415)\n",
      "Found cached dataset lextreme (/Users/vetonmatoshi/.cache/huggingface/datasets/joelito___lextreme/multi_eurlex_level_1/1.0.0/43e5402e22c4ffbf0de470c8e84115dfed02ba82d1f3dad643bbf67fd9b8b415)\n",
      "Found cached dataset lextreme (/Users/vetonmatoshi/.cache/huggingface/datasets/joelito___lextreme/multi_eurlex_level_1/1.0.0/43e5402e22c4ffbf0de470c8e84115dfed02ba82d1f3dad643bbf67fd9b8b415)\n",
      "Found cached dataset lextreme (/Users/vetonmatoshi/.cache/huggingface/datasets/joelito___lextreme/multi_eurlex_level_1/1.0.0/43e5402e22c4ffbf0de470c8e84115dfed02ba82d1f3dad643bbf67fd9b8b415)\n",
      "Found cached dataset lextreme (/Users/vetonmatoshi/.cache/huggingface/datasets/joelito___lextreme/multi_eurlex_level_1/1.0.0/43e5402e22c4ffbf0de470c8e84115dfed02ba82d1f3dad643bbf67fd9b8b415)\n",
      "Found cached dataset lextreme (/Users/vetonmatoshi/.cache/huggingface/datasets/joelito___lextreme/multi_eurlex_level_1/1.0.0/43e5402e22c4ffbf0de470c8e84115dfed02ba82d1f3dad643bbf67fd9b8b415)\n",
      "Found cached dataset lextreme (/Users/vetonmatoshi/.cache/huggingface/datasets/joelito___lextreme/multi_eurlex_level_1/1.0.0/43e5402e22c4ffbf0de470c8e84115dfed02ba82d1f3dad643bbf67fd9b8b415)\n",
      "Found cached dataset lextreme (/Users/vetonmatoshi/.cache/huggingface/datasets/joelito___lextreme/multi_eurlex_level_1/1.0.0/43e5402e22c4ffbf0de470c8e84115dfed02ba82d1f3dad643bbf67fd9b8b415)\n",
      "Found cached dataset lextreme (/Users/vetonmatoshi/.cache/huggingface/datasets/joelito___lextreme/multi_eurlex_level_1/1.0.0/43e5402e22c4ffbf0de470c8e84115dfed02ba82d1f3dad643bbf67fd9b8b415)\n"
     ]
    },
    {
     "name": "stdout",
     "output_type": "stream",
     "text": [
      "multi_eurlex_level_2\n"
     ]
    },
    {
     "name": "stderr",
     "output_type": "stream",
     "text": [
      "Found cached dataset lextreme (/Users/vetonmatoshi/.cache/huggingface/datasets/joelito___lextreme/multi_eurlex_level_2/1.0.0/43e5402e22c4ffbf0de470c8e84115dfed02ba82d1f3dad643bbf67fd9b8b415)\n",
      "Found cached dataset lextreme (/Users/vetonmatoshi/.cache/huggingface/datasets/joelito___lextreme/multi_eurlex_level_2/1.0.0/43e5402e22c4ffbf0de470c8e84115dfed02ba82d1f3dad643bbf67fd9b8b415)\n",
      "Found cached dataset lextreme (/Users/vetonmatoshi/.cache/huggingface/datasets/joelito___lextreme/multi_eurlex_level_2/1.0.0/43e5402e22c4ffbf0de470c8e84115dfed02ba82d1f3dad643bbf67fd9b8b415)\n",
      "Found cached dataset lextreme (/Users/vetonmatoshi/.cache/huggingface/datasets/joelito___lextreme/multi_eurlex_level_2/1.0.0/43e5402e22c4ffbf0de470c8e84115dfed02ba82d1f3dad643bbf67fd9b8b415)\n",
      "Found cached dataset lextreme (/Users/vetonmatoshi/.cache/huggingface/datasets/joelito___lextreme/multi_eurlex_level_2/1.0.0/43e5402e22c4ffbf0de470c8e84115dfed02ba82d1f3dad643bbf67fd9b8b415)\n",
      "Found cached dataset lextreme (/Users/vetonmatoshi/.cache/huggingface/datasets/joelito___lextreme/multi_eurlex_level_2/1.0.0/43e5402e22c4ffbf0de470c8e84115dfed02ba82d1f3dad643bbf67fd9b8b415)\n",
      "Found cached dataset lextreme (/Users/vetonmatoshi/.cache/huggingface/datasets/joelito___lextreme/multi_eurlex_level_2/1.0.0/43e5402e22c4ffbf0de470c8e84115dfed02ba82d1f3dad643bbf67fd9b8b415)\n",
      "Found cached dataset lextreme (/Users/vetonmatoshi/.cache/huggingface/datasets/joelito___lextreme/multi_eurlex_level_2/1.0.0/43e5402e22c4ffbf0de470c8e84115dfed02ba82d1f3dad643bbf67fd9b8b415)\n",
      "Found cached dataset lextreme (/Users/vetonmatoshi/.cache/huggingface/datasets/joelito___lextreme/multi_eurlex_level_2/1.0.0/43e5402e22c4ffbf0de470c8e84115dfed02ba82d1f3dad643bbf67fd9b8b415)\n",
      "Found cached dataset lextreme (/Users/vetonmatoshi/.cache/huggingface/datasets/joelito___lextreme/multi_eurlex_level_2/1.0.0/43e5402e22c4ffbf0de470c8e84115dfed02ba82d1f3dad643bbf67fd9b8b415)\n",
      "Found cached dataset lextreme (/Users/vetonmatoshi/.cache/huggingface/datasets/joelito___lextreme/multi_eurlex_level_2/1.0.0/43e5402e22c4ffbf0de470c8e84115dfed02ba82d1f3dad643bbf67fd9b8b415)\n",
      "Found cached dataset lextreme (/Users/vetonmatoshi/.cache/huggingface/datasets/joelito___lextreme/multi_eurlex_level_2/1.0.0/43e5402e22c4ffbf0de470c8e84115dfed02ba82d1f3dad643bbf67fd9b8b415)\n",
      "Found cached dataset lextreme (/Users/vetonmatoshi/.cache/huggingface/datasets/joelito___lextreme/multi_eurlex_level_2/1.0.0/43e5402e22c4ffbf0de470c8e84115dfed02ba82d1f3dad643bbf67fd9b8b415)\n",
      "Found cached dataset lextreme (/Users/vetonmatoshi/.cache/huggingface/datasets/joelito___lextreme/multi_eurlex_level_2/1.0.0/43e5402e22c4ffbf0de470c8e84115dfed02ba82d1f3dad643bbf67fd9b8b415)\n",
      "Found cached dataset lextreme (/Users/vetonmatoshi/.cache/huggingface/datasets/joelito___lextreme/multi_eurlex_level_2/1.0.0/43e5402e22c4ffbf0de470c8e84115dfed02ba82d1f3dad643bbf67fd9b8b415)\n",
      "Found cached dataset lextreme (/Users/vetonmatoshi/.cache/huggingface/datasets/joelito___lextreme/multi_eurlex_level_2/1.0.0/43e5402e22c4ffbf0de470c8e84115dfed02ba82d1f3dad643bbf67fd9b8b415)\n",
      "Found cached dataset lextreme (/Users/vetonmatoshi/.cache/huggingface/datasets/joelito___lextreme/multi_eurlex_level_2/1.0.0/43e5402e22c4ffbf0de470c8e84115dfed02ba82d1f3dad643bbf67fd9b8b415)\n",
      "Found cached dataset lextreme (/Users/vetonmatoshi/.cache/huggingface/datasets/joelito___lextreme/multi_eurlex_level_2/1.0.0/43e5402e22c4ffbf0de470c8e84115dfed02ba82d1f3dad643bbf67fd9b8b415)\n",
      "Found cached dataset lextreme (/Users/vetonmatoshi/.cache/huggingface/datasets/joelito___lextreme/multi_eurlex_level_2/1.0.0/43e5402e22c4ffbf0de470c8e84115dfed02ba82d1f3dad643bbf67fd9b8b415)\n",
      "Found cached dataset lextreme (/Users/vetonmatoshi/.cache/huggingface/datasets/joelito___lextreme/multi_eurlex_level_2/1.0.0/43e5402e22c4ffbf0de470c8e84115dfed02ba82d1f3dad643bbf67fd9b8b415)\n",
      "Found cached dataset lextreme (/Users/vetonmatoshi/.cache/huggingface/datasets/joelito___lextreme/multi_eurlex_level_2/1.0.0/43e5402e22c4ffbf0de470c8e84115dfed02ba82d1f3dad643bbf67fd9b8b415)\n",
      "Found cached dataset lextreme (/Users/vetonmatoshi/.cache/huggingface/datasets/joelito___lextreme/multi_eurlex_level_2/1.0.0/43e5402e22c4ffbf0de470c8e84115dfed02ba82d1f3dad643bbf67fd9b8b415)\n",
      "Found cached dataset lextreme (/Users/vetonmatoshi/.cache/huggingface/datasets/joelito___lextreme/multi_eurlex_level_2/1.0.0/43e5402e22c4ffbf0de470c8e84115dfed02ba82d1f3dad643bbf67fd9b8b415)\n",
      "Found cached dataset lextreme (/Users/vetonmatoshi/.cache/huggingface/datasets/joelito___lextreme/multi_eurlex_level_2/1.0.0/43e5402e22c4ffbf0de470c8e84115dfed02ba82d1f3dad643bbf67fd9b8b415)\n",
      "Found cached dataset lextreme (/Users/vetonmatoshi/.cache/huggingface/datasets/joelito___lextreme/multi_eurlex_level_2/1.0.0/43e5402e22c4ffbf0de470c8e84115dfed02ba82d1f3dad643bbf67fd9b8b415)\n",
      "Found cached dataset lextreme (/Users/vetonmatoshi/.cache/huggingface/datasets/joelito___lextreme/multi_eurlex_level_2/1.0.0/43e5402e22c4ffbf0de470c8e84115dfed02ba82d1f3dad643bbf67fd9b8b415)\n",
      "Found cached dataset lextreme (/Users/vetonmatoshi/.cache/huggingface/datasets/joelito___lextreme/multi_eurlex_level_2/1.0.0/43e5402e22c4ffbf0de470c8e84115dfed02ba82d1f3dad643bbf67fd9b8b415)\n",
      "Found cached dataset lextreme (/Users/vetonmatoshi/.cache/huggingface/datasets/joelito___lextreme/multi_eurlex_level_2/1.0.0/43e5402e22c4ffbf0de470c8e84115dfed02ba82d1f3dad643bbf67fd9b8b415)\n"
     ]
    }
   ],
   "source": [
    "template_list = list()\n",
    "\n",
    "for task, languages in meta_infos[\"task_language_mapping\"].items():\n",
    "    print(task)\n",
    "    if len(languages)>1:\n",
    "        languages.append('all')\n",
    "    for lang in languages:\n",
    "        get_sample_size(task, lang, template_list)"
   ]
  },
  {
   "cell_type": "code",
   "execution_count": null,
   "id": "310ea1b5",
   "metadata": {},
   "outputs": [],
   "source": [
    "template = pd.DataFrame(template_list)"
   ]
  },
  {
   "cell_type": "code",
   "execution_count": null,
   "id": "1ebfb7d0",
   "metadata": {
    "scrolled": true
   },
   "outputs": [],
   "source": [
    "template.to_excel('/Users/test/Downloads/overview_sizes.xlsx', index=False)\n",
    "\n"
   ]
  },
  {
   "cell_type": "code",
   "execution_count": null,
   "id": "a762c414",
   "metadata": {},
   "outputs": [],
   "source": []
  }
 ],
 "metadata": {
  "kernelspec": {
   "display_name": "Python 3 (ipykernel)",
   "language": "python",
   "name": "python3"
  },
  "language_info": {
   "codemirror_mode": {
    "name": "ipython",
    "version": 3
   },
   "file_extension": ".py",
   "mimetype": "text/x-python",
   "name": "python",
   "nbconvert_exporter": "python",
   "pygments_lexer": "ipython3",
   "version": "3.9.15"
  }
 },
 "nbformat": 4,
 "nbformat_minor": 5
}
