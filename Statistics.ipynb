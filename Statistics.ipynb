{
 "cells": [
  {
   "cell_type": "code",
   "execution_count": 1,
   "id": "ff6a6d5b",
   "metadata": {},
   "outputs": [],
   "source": [
    "import json as js\n",
    "import pandas as pd\n",
    "from datasets import load_dataset, Dataset\n",
    "from tqdm import tqdm\n",
    "tqdm.pandas()\n",
    "from ast import literal_eval"
   ]
  },
  {
   "cell_type": "code",
   "execution_count": 2,
   "id": "053f2626",
   "metadata": {},
   "outputs": [],
   "source": [
    "with open(\"meta_infos.json\", \"r\") as f:\n",
    "    meta_infos = js.load(f)"
   ]
  },
  {
   "cell_type": "code",
   "execution_count": 3,
   "id": "f4b963e0",
   "metadata": {
    "scrolled": true
   },
   "outputs": [],
   "source": [
    "template_list = list()\n",
    "\n",
    "for task, languages in meta_infos[\"task_language_mapping\"].items():\n",
    "    if len(languages)>1:\n",
    "        languages.append('all')\n",
    "    for lang in languages:\n",
    "        for split in ['train', 'validation', 'test']:\n",
    "            template_list.append({'finetuning_task':task, 'split':split, 'language': lang})\n",
    "template = pd. DataFrame(template_list)\n",
    "#template = template[template.finetuning_task.str.contains('multi_eurlex')==False] # multi_eurlex we need to perform language split"
   ]
  },
  {
   "cell_type": "code",
   "execution_count": 4,
   "id": "bd15366f",
   "metadata": {},
   "outputs": [],
   "source": [
    "def split_into_languages(dataset):\n",
    "    dataset_new = list()\n",
    "\n",
    "    dataset_df = pd.DataFrame(dataset)\n",
    "\n",
    "    for item in dataset_df.to_dict(orient='records'):\n",
    "        labels = item['label']\n",
    "        for language, document in literal_eval(item['input']).items():\n",
    "            if document is not None:\n",
    "                item_new = dict()\n",
    "                item_new['language'] = language\n",
    "                item_new['input'] = str(document)\n",
    "                item_new['label'] = labels\n",
    "                dataset_new.append(item_new)\n",
    "\n",
    "    dataset_new = pd.DataFrame(dataset_new)\n",
    "\n",
    "    dataset_new = Dataset.from_pandas(dataset_new)\n",
    "    \n",
    "    return dataset_new"
   ]
  },
  {
   "cell_type": "code",
   "execution_count": 5,
   "id": "e18bd079",
   "metadata": {
    "scrolled": true
   },
   "outputs": [],
   "source": [
    "def get_sample_size(finetuning_task, split, language):\n",
    "    dataset = load_dataset(\"joelito/lextreme\", finetuning_task, split=split)\n",
    "    \n",
    "    if 'multi_eurlex' in finetuning_task:\n",
    "        dataset = split_into_languages(dataset)\n",
    "    \n",
    "    if language==\"all\":\n",
    "        return len(dataset['input'])\n",
    "    else:\n",
    "        dataset = pd.DataFrame(dataset)\n",
    "        dataset = dataset[dataset.language==language]\n",
    "        return dataset.shape[0]"
   ]
  },
  {
   "cell_type": "code",
   "execution_count": null,
   "id": "683d5719",
   "metadata": {
    "scrolled": true
   },
   "outputs": [
    {
     "name": "stderr",
     "output_type": "stream",
     "text": [
      "  0%|                                                   | 0/441 [00:00<?, ?it/s]Found cached dataset lextreme (/Users/test/.cache/huggingface/datasets/joelito___lextreme/brazilian_court_decisions_judgment/1.0.0/43e5402e22c4ffbf0de470c8e84115dfed02ba82d1f3dad643bbf67fd9b8b415)\n",
      "  0%|▏                                          | 2/441 [00:03<12:33,  1.72s/it]Found cached dataset lextreme (/Users/test/.cache/huggingface/datasets/joelito___lextreme/brazilian_court_decisions_judgment/1.0.0/43e5402e22c4ffbf0de470c8e84115dfed02ba82d1f3dad643bbf67fd9b8b415)\n",
      "  1%|▎                                          | 3/441 [00:06<16:44,  2.29s/it]Found cached dataset lextreme (/Users/test/.cache/huggingface/datasets/joelito___lextreme/brazilian_court_decisions_judgment/1.0.0/43e5402e22c4ffbf0de470c8e84115dfed02ba82d1f3dad643bbf67fd9b8b415)\n",
      "  1%|▍                                          | 4/441 [00:09<18:26,  2.53s/it]Found cached dataset lextreme (/Users/test/.cache/huggingface/datasets/joelito___lextreme/brazilian_court_decisions_unanimity/1.0.0/43e5402e22c4ffbf0de470c8e84115dfed02ba82d1f3dad643bbf67fd9b8b415)\n",
      "  1%|▍                                          | 5/441 [00:12<19:45,  2.72s/it]Found cached dataset lextreme (/Users/test/.cache/huggingface/datasets/joelito___lextreme/brazilian_court_decisions_unanimity/1.0.0/43e5402e22c4ffbf0de470c8e84115dfed02ba82d1f3dad643bbf67fd9b8b415)\n",
      "  1%|▌                                          | 6/441 [00:15<20:14,  2.79s/it]Found cached dataset lextreme (/Users/test/.cache/huggingface/datasets/joelito___lextreme/brazilian_court_decisions_unanimity/1.0.0/43e5402e22c4ffbf0de470c8e84115dfed02ba82d1f3dad643bbf67fd9b8b415)\n",
      "  2%|▋                                          | 7/441 [00:18<20:52,  2.89s/it]Found cached dataset lextreme (/Users/test/.cache/huggingface/datasets/joelito___lextreme/german_argument_mining/1.0.0/43e5402e22c4ffbf0de470c8e84115dfed02ba82d1f3dad643bbf67fd9b8b415)\n",
      "  2%|▊                                          | 8/441 [00:22<22:18,  3.09s/it]Found cached dataset lextreme (/Users/test/.cache/huggingface/datasets/joelito___lextreme/german_argument_mining/1.0.0/43e5402e22c4ffbf0de470c8e84115dfed02ba82d1f3dad643bbf67fd9b8b415)\n",
      "  2%|▉                                          | 9/441 [00:25<22:13,  3.09s/it]Found cached dataset lextreme (/Users/test/.cache/huggingface/datasets/joelito___lextreme/german_argument_mining/1.0.0/43e5402e22c4ffbf0de470c8e84115dfed02ba82d1f3dad643bbf67fd9b8b415)\n",
      "  2%|▉                                         | 10/441 [00:28<22:15,  3.10s/it]Found cached dataset lextreme (/Users/test/.cache/huggingface/datasets/joelito___lextreme/greek_legal_code_chapter/1.0.0/43e5402e22c4ffbf0de470c8e84115dfed02ba82d1f3dad643bbf67fd9b8b415)\n",
      "  2%|█                                         | 11/441 [00:34<28:08,  3.93s/it]Found cached dataset lextreme (/Users/test/.cache/huggingface/datasets/joelito___lextreme/greek_legal_code_chapter/1.0.0/43e5402e22c4ffbf0de470c8e84115dfed02ba82d1f3dad643bbf67fd9b8b415)\n",
      "  3%|█▏                                        | 12/441 [00:38<28:04,  3.93s/it]Found cached dataset lextreme (/Users/test/.cache/huggingface/datasets/joelito___lextreme/greek_legal_code_chapter/1.0.0/43e5402e22c4ffbf0de470c8e84115dfed02ba82d1f3dad643bbf67fd9b8b415)\n",
      "  3%|█▏                                        | 13/441 [00:41<28:00,  3.93s/it]Found cached dataset lextreme (/Users/test/.cache/huggingface/datasets/joelito___lextreme/greek_legal_code_subject/1.0.0/43e5402e22c4ffbf0de470c8e84115dfed02ba82d1f3dad643bbf67fd9b8b415)\n",
      "  3%|█▎                                        | 14/441 [00:47<31:59,  4.50s/it]Found cached dataset lextreme (/Users/test/.cache/huggingface/datasets/joelito___lextreme/greek_legal_code_subject/1.0.0/43e5402e22c4ffbf0de470c8e84115dfed02ba82d1f3dad643bbf67fd9b8b415)\n",
      "  3%|█▍                                        | 15/441 [00:51<30:47,  4.34s/it]Found cached dataset lextreme (/Users/test/.cache/huggingface/datasets/joelito___lextreme/greek_legal_code_subject/1.0.0/43e5402e22c4ffbf0de470c8e84115dfed02ba82d1f3dad643bbf67fd9b8b415)\n",
      "  4%|█▌                                        | 16/441 [00:55<29:58,  4.23s/it]Found cached dataset lextreme (/Users/test/.cache/huggingface/datasets/joelito___lextreme/greek_legal_code_volume/1.0.0/43e5402e22c4ffbf0de470c8e84115dfed02ba82d1f3dad643bbf67fd9b8b415)\n",
      "  4%|█▌                                        | 17/441 [01:01<33:44,  4.78s/it]Found cached dataset lextreme (/Users/test/.cache/huggingface/datasets/joelito___lextreme/greek_legal_code_volume/1.0.0/43e5402e22c4ffbf0de470c8e84115dfed02ba82d1f3dad643bbf67fd9b8b415)\n",
      "  4%|█▋                                        | 18/441 [01:05<31:58,  4.54s/it]Found cached dataset lextreme (/Users/test/.cache/huggingface/datasets/joelito___lextreme/greek_legal_code_volume/1.0.0/43e5402e22c4ffbf0de470c8e84115dfed02ba82d1f3dad643bbf67fd9b8b415)\n",
      "  4%|█▊                                        | 19/441 [01:09<30:41,  4.36s/it]Found cached dataset lextreme (/Users/test/.cache/huggingface/datasets/joelito___lextreme/swiss_judgment_prediction/1.0.0/43e5402e22c4ffbf0de470c8e84115dfed02ba82d1f3dad643bbf67fd9b8b415)\n",
      "  5%|█▉                                        | 20/441 [01:16<34:59,  4.99s/it]Found cached dataset lextreme (/Users/test/.cache/huggingface/datasets/joelito___lextreme/swiss_judgment_prediction/1.0.0/43e5402e22c4ffbf0de470c8e84115dfed02ba82d1f3dad643bbf67fd9b8b415)\n",
      "  5%|██                                        | 21/441 [01:19<31:38,  4.52s/it]Found cached dataset lextreme (/Users/test/.cache/huggingface/datasets/joelito___lextreme/swiss_judgment_prediction/1.0.0/43e5402e22c4ffbf0de470c8e84115dfed02ba82d1f3dad643bbf67fd9b8b415)\n",
      "  5%|██                                        | 22/441 [01:23<30:27,  4.36s/it]Found cached dataset lextreme (/Users/test/.cache/huggingface/datasets/joelito___lextreme/swiss_judgment_prediction/1.0.0/43e5402e22c4ffbf0de470c8e84115dfed02ba82d1f3dad643bbf67fd9b8b415)\n",
      "  5%|██▏                                       | 23/441 [01:28<31:24,  4.51s/it]Found cached dataset lextreme (/Users/test/.cache/huggingface/datasets/joelito___lextreme/swiss_judgment_prediction/1.0.0/43e5402e22c4ffbf0de470c8e84115dfed02ba82d1f3dad643bbf67fd9b8b415)\n",
      "  5%|██▎                                       | 24/441 [01:31<28:45,  4.14s/it]Found cached dataset lextreme (/Users/test/.cache/huggingface/datasets/joelito___lextreme/swiss_judgment_prediction/1.0.0/43e5402e22c4ffbf0de470c8e84115dfed02ba82d1f3dad643bbf67fd9b8b415)\n",
      "  6%|██▍                                       | 25/441 [01:35<28:20,  4.09s/it]Found cached dataset lextreme (/Users/test/.cache/huggingface/datasets/joelito___lextreme/swiss_judgment_prediction/1.0.0/43e5402e22c4ffbf0de470c8e84115dfed02ba82d1f3dad643bbf67fd9b8b415)\n",
      "  6%|██▍                                       | 26/441 [01:40<29:58,  4.33s/it]Found cached dataset lextreme (/Users/test/.cache/huggingface/datasets/joelito___lextreme/swiss_judgment_prediction/1.0.0/43e5402e22c4ffbf0de470c8e84115dfed02ba82d1f3dad643bbf67fd9b8b415)\n",
      "  6%|██▌                                       | 27/441 [01:43<27:35,  4.00s/it]Found cached dataset lextreme (/Users/test/.cache/huggingface/datasets/joelito___lextreme/swiss_judgment_prediction/1.0.0/43e5402e22c4ffbf0de470c8e84115dfed02ba82d1f3dad643bbf67fd9b8b415)\n",
      "  6%|██▋                                       | 28/441 [01:47<27:31,  4.00s/it]Found cached dataset lextreme (/Users/test/.cache/huggingface/datasets/joelito___lextreme/swiss_judgment_prediction/1.0.0/43e5402e22c4ffbf0de470c8e84115dfed02ba82d1f3dad643bbf67fd9b8b415)\n",
      "  7%|██▊                                       | 29/441 [01:51<26:05,  3.80s/it]Found cached dataset lextreme (/Users/test/.cache/huggingface/datasets/joelito___lextreme/swiss_judgment_prediction/1.0.0/43e5402e22c4ffbf0de470c8e84115dfed02ba82d1f3dad643bbf67fd9b8b415)\n",
      "  7%|██▊                                       | 30/441 [01:54<24:21,  3.56s/it]Found cached dataset lextreme (/Users/test/.cache/huggingface/datasets/joelito___lextreme/swiss_judgment_prediction/1.0.0/43e5402e22c4ffbf0de470c8e84115dfed02ba82d1f3dad643bbf67fd9b8b415)\n",
      "  7%|██▉                                       | 31/441 [01:57<23:14,  3.40s/it]Found cached dataset lextreme (/Users/test/.cache/huggingface/datasets/joelito___lextreme/online_terms_of_service_unfairness_levels/1.0.0/43e5402e22c4ffbf0de470c8e84115dfed02ba82d1f3dad643bbf67fd9b8b415)\n"
     ]
    },
    {
     "name": "stderr",
     "output_type": "stream",
     "text": [
      "  7%|███                                       | 32/441 [02:00<22:27,  3.29s/it]Found cached dataset lextreme (/Users/test/.cache/huggingface/datasets/joelito___lextreme/online_terms_of_service_unfairness_levels/1.0.0/43e5402e22c4ffbf0de470c8e84115dfed02ba82d1f3dad643bbf67fd9b8b415)\n",
      "  7%|███▏                                      | 33/441 [02:03<21:45,  3.20s/it]Found cached dataset lextreme (/Users/test/.cache/huggingface/datasets/joelito___lextreme/online_terms_of_service_unfairness_levels/1.0.0/43e5402e22c4ffbf0de470c8e84115dfed02ba82d1f3dad643bbf67fd9b8b415)\n",
      "  8%|███▏                                      | 34/441 [02:06<21:16,  3.14s/it]Found cached dataset lextreme (/Users/test/.cache/huggingface/datasets/joelito___lextreme/online_terms_of_service_unfairness_levels/1.0.0/43e5402e22c4ffbf0de470c8e84115dfed02ba82d1f3dad643bbf67fd9b8b415)\n",
      "  8%|███▎                                      | 35/441 [02:09<20:56,  3.09s/it]Found cached dataset lextreme (/Users/test/.cache/huggingface/datasets/joelito___lextreme/online_terms_of_service_unfairness_levels/1.0.0/43e5402e22c4ffbf0de470c8e84115dfed02ba82d1f3dad643bbf67fd9b8b415)\n",
      "  8%|███▍                                      | 36/441 [02:12<20:40,  3.06s/it]Found cached dataset lextreme (/Users/test/.cache/huggingface/datasets/joelito___lextreme/online_terms_of_service_unfairness_levels/1.0.0/43e5402e22c4ffbf0de470c8e84115dfed02ba82d1f3dad643bbf67fd9b8b415)\n",
      "  8%|███▌                                      | 37/441 [02:15<20:26,  3.03s/it]Found cached dataset lextreme (/Users/test/.cache/huggingface/datasets/joelito___lextreme/online_terms_of_service_unfairness_levels/1.0.0/43e5402e22c4ffbf0de470c8e84115dfed02ba82d1f3dad643bbf67fd9b8b415)\n",
      "  9%|███▌                                      | 38/441 [02:18<20:16,  3.02s/it]Found cached dataset lextreme (/Users/test/.cache/huggingface/datasets/joelito___lextreme/online_terms_of_service_unfairness_levels/1.0.0/43e5402e22c4ffbf0de470c8e84115dfed02ba82d1f3dad643bbf67fd9b8b415)\n",
      "  9%|███▋                                      | 39/441 [02:21<20:05,  3.00s/it]Found cached dataset lextreme (/Users/test/.cache/huggingface/datasets/joelito___lextreme/online_terms_of_service_unfairness_levels/1.0.0/43e5402e22c4ffbf0de470c8e84115dfed02ba82d1f3dad643bbf67fd9b8b415)\n",
      "  9%|███▊                                      | 40/441 [02:24<19:58,  2.99s/it]Found cached dataset lextreme (/Users/test/.cache/huggingface/datasets/joelito___lextreme/online_terms_of_service_unfairness_levels/1.0.0/43e5402e22c4ffbf0de470c8e84115dfed02ba82d1f3dad643bbf67fd9b8b415)\n",
      "  9%|███▉                                      | 41/441 [02:27<19:54,  2.99s/it]Found cached dataset lextreme (/Users/test/.cache/huggingface/datasets/joelito___lextreme/online_terms_of_service_unfairness_levels/1.0.0/43e5402e22c4ffbf0de470c8e84115dfed02ba82d1f3dad643bbf67fd9b8b415)\n",
      " 10%|████                                      | 42/441 [02:29<19:48,  2.98s/it]Found cached dataset lextreme (/Users/test/.cache/huggingface/datasets/joelito___lextreme/online_terms_of_service_unfairness_levels/1.0.0/43e5402e22c4ffbf0de470c8e84115dfed02ba82d1f3dad643bbf67fd9b8b415)\n",
      " 10%|████                                      | 43/441 [02:33<19:52,  3.00s/it]Found cached dataset lextreme (/Users/test/.cache/huggingface/datasets/joelito___lextreme/online_terms_of_service_unfairness_levels/1.0.0/43e5402e22c4ffbf0de470c8e84115dfed02ba82d1f3dad643bbf67fd9b8b415)\n",
      " 10%|████▏                                     | 44/441 [02:35<19:43,  2.98s/it]Found cached dataset lextreme (/Users/test/.cache/huggingface/datasets/joelito___lextreme/online_terms_of_service_unfairness_levels/1.0.0/43e5402e22c4ffbf0de470c8e84115dfed02ba82d1f3dad643bbf67fd9b8b415)\n",
      " 10%|████▎                                     | 45/441 [02:38<19:40,  2.98s/it]Found cached dataset lextreme (/Users/test/.cache/huggingface/datasets/joelito___lextreme/online_terms_of_service_unfairness_levels/1.0.0/43e5402e22c4ffbf0de470c8e84115dfed02ba82d1f3dad643bbf67fd9b8b415)\n",
      " 10%|████▍                                     | 46/441 [02:41<19:29,  2.96s/it]Found cached dataset lextreme (/Users/test/.cache/huggingface/datasets/joelito___lextreme/online_terms_of_service_clause_topics/1.0.0/43e5402e22c4ffbf0de470c8e84115dfed02ba82d1f3dad643bbf67fd9b8b415)\n",
      " 11%|████▍                                     | 47/441 [02:45<20:49,  3.17s/it]Found cached dataset lextreme (/Users/test/.cache/huggingface/datasets/joelito___lextreme/online_terms_of_service_clause_topics/1.0.0/43e5402e22c4ffbf0de470c8e84115dfed02ba82d1f3dad643bbf67fd9b8b415)\n",
      " 11%|████▌                                     | 48/441 [02:48<20:35,  3.14s/it]Found cached dataset lextreme (/Users/test/.cache/huggingface/datasets/joelito___lextreme/online_terms_of_service_clause_topics/1.0.0/43e5402e22c4ffbf0de470c8e84115dfed02ba82d1f3dad643bbf67fd9b8b415)\n",
      " 11%|████▋                                     | 49/441 [02:51<20:26,  3.13s/it]Found cached dataset lextreme (/Users/test/.cache/huggingface/datasets/joelito___lextreme/online_terms_of_service_clause_topics/1.0.0/43e5402e22c4ffbf0de470c8e84115dfed02ba82d1f3dad643bbf67fd9b8b415)\n",
      " 11%|████▊                                     | 50/441 [02:55<21:26,  3.29s/it]Found cached dataset lextreme (/Users/test/.cache/huggingface/datasets/joelito___lextreme/online_terms_of_service_clause_topics/1.0.0/43e5402e22c4ffbf0de470c8e84115dfed02ba82d1f3dad643bbf67fd9b8b415)\n",
      " 12%|████▊                                     | 51/441 [02:58<20:56,  3.22s/it]Found cached dataset lextreme (/Users/test/.cache/huggingface/datasets/joelito___lextreme/online_terms_of_service_clause_topics/1.0.0/43e5402e22c4ffbf0de470c8e84115dfed02ba82d1f3dad643bbf67fd9b8b415)\n",
      " 12%|████▉                                     | 52/441 [03:01<20:31,  3.17s/it]Found cached dataset lextreme (/Users/test/.cache/huggingface/datasets/joelito___lextreme/online_terms_of_service_clause_topics/1.0.0/43e5402e22c4ffbf0de470c8e84115dfed02ba82d1f3dad643bbf67fd9b8b415)\n",
      " 12%|█████                                     | 53/441 [03:05<21:29,  3.32s/it]Found cached dataset lextreme (/Users/test/.cache/huggingface/datasets/joelito___lextreme/online_terms_of_service_clause_topics/1.0.0/43e5402e22c4ffbf0de470c8e84115dfed02ba82d1f3dad643bbf67fd9b8b415)\n",
      " 12%|█████▏                                    | 54/441 [03:08<20:49,  3.23s/it]Found cached dataset lextreme (/Users/test/.cache/huggingface/datasets/joelito___lextreme/online_terms_of_service_clause_topics/1.0.0/43e5402e22c4ffbf0de470c8e84115dfed02ba82d1f3dad643bbf67fd9b8b415)\n",
      " 12%|█████▏                                    | 55/441 [03:11<20:25,  3.17s/it]Found cached dataset lextreme (/Users/test/.cache/huggingface/datasets/joelito___lextreme/online_terms_of_service_clause_topics/1.0.0/43e5402e22c4ffbf0de470c8e84115dfed02ba82d1f3dad643bbf67fd9b8b415)\n",
      " 13%|█████▎                                    | 56/441 [03:14<21:02,  3.28s/it]Found cached dataset lextreme (/Users/test/.cache/huggingface/datasets/joelito___lextreme/online_terms_of_service_clause_topics/1.0.0/43e5402e22c4ffbf0de470c8e84115dfed02ba82d1f3dad643bbf67fd9b8b415)\n",
      " 13%|█████▍                                    | 57/441 [03:17<20:34,  3.21s/it]Found cached dataset lextreme (/Users/test/.cache/huggingface/datasets/joelito___lextreme/online_terms_of_service_clause_topics/1.0.0/43e5402e22c4ffbf0de470c8e84115dfed02ba82d1f3dad643bbf67fd9b8b415)\n",
      " 13%|█████▌                                    | 58/441 [03:20<20:22,  3.19s/it]Found cached dataset lextreme (/Users/test/.cache/huggingface/datasets/joelito___lextreme/online_terms_of_service_clause_topics/1.0.0/43e5402e22c4ffbf0de470c8e84115dfed02ba82d1f3dad643bbf67fd9b8b415)\n",
      " 13%|█████▌                                    | 59/441 [03:23<19:52,  3.12s/it]Found cached dataset lextreme (/Users/test/.cache/huggingface/datasets/joelito___lextreme/online_terms_of_service_clause_topics/1.0.0/43e5402e22c4ffbf0de470c8e84115dfed02ba82d1f3dad643bbf67fd9b8b415)\n",
      " 14%|█████▋                                    | 60/441 [03:26<19:29,  3.07s/it]Found cached dataset lextreme (/Users/test/.cache/huggingface/datasets/joelito___lextreme/online_terms_of_service_clause_topics/1.0.0/43e5402e22c4ffbf0de470c8e84115dfed02ba82d1f3dad643bbf67fd9b8b415)\n"
     ]
    },
    {
     "name": "stderr",
     "output_type": "stream",
     "text": [
      " 14%|█████▊                                    | 61/441 [03:29<19:10,  3.03s/it]Found cached dataset lextreme (/Users/test/.cache/huggingface/datasets/joelito___lextreme/covid19_emergency_event/1.0.0/43e5402e22c4ffbf0de470c8e84115dfed02ba82d1f3dad643bbf67fd9b8b415)\n",
      " 14%|█████▉                                    | 62/441 [03:32<19:10,  3.04s/it]Found cached dataset lextreme (/Users/test/.cache/huggingface/datasets/joelito___lextreme/covid19_emergency_event/1.0.0/43e5402e22c4ffbf0de470c8e84115dfed02ba82d1f3dad643bbf67fd9b8b415)\n",
      " 14%|██████                                    | 63/441 [03:35<18:56,  3.01s/it]Found cached dataset lextreme (/Users/test/.cache/huggingface/datasets/joelito___lextreme/covid19_emergency_event/1.0.0/43e5402e22c4ffbf0de470c8e84115dfed02ba82d1f3dad643bbf67fd9b8b415)\n",
      " 15%|██████                                    | 64/441 [03:38<18:46,  2.99s/it]Found cached dataset lextreme (/Users/test/.cache/huggingface/datasets/joelito___lextreme/covid19_emergency_event/1.0.0/43e5402e22c4ffbf0de470c8e84115dfed02ba82d1f3dad643bbf67fd9b8b415)\n",
      " 15%|██████▏                                   | 65/441 [03:41<18:47,  3.00s/it]Found cached dataset lextreme (/Users/test/.cache/huggingface/datasets/joelito___lextreme/covid19_emergency_event/1.0.0/43e5402e22c4ffbf0de470c8e84115dfed02ba82d1f3dad643bbf67fd9b8b415)\n",
      " 15%|██████▎                                   | 66/441 [03:44<18:38,  2.98s/it]Found cached dataset lextreme (/Users/test/.cache/huggingface/datasets/joelito___lextreme/covid19_emergency_event/1.0.0/43e5402e22c4ffbf0de470c8e84115dfed02ba82d1f3dad643bbf67fd9b8b415)\n",
      " 15%|██████▍                                   | 67/441 [03:47<18:38,  2.99s/it]Found cached dataset lextreme (/Users/test/.cache/huggingface/datasets/joelito___lextreme/covid19_emergency_event/1.0.0/43e5402e22c4ffbf0de470c8e84115dfed02ba82d1f3dad643bbf67fd9b8b415)\n",
      " 15%|██████▍                                   | 68/441 [03:50<18:41,  3.01s/it]Found cached dataset lextreme (/Users/test/.cache/huggingface/datasets/joelito___lextreme/covid19_emergency_event/1.0.0/43e5402e22c4ffbf0de470c8e84115dfed02ba82d1f3dad643bbf67fd9b8b415)\n",
      " 16%|██████▌                                   | 69/441 [03:53<18:34,  3.00s/it]Found cached dataset lextreme (/Users/test/.cache/huggingface/datasets/joelito___lextreme/covid19_emergency_event/1.0.0/43e5402e22c4ffbf0de470c8e84115dfed02ba82d1f3dad643bbf67fd9b8b415)\n",
      " 16%|██████▋                                   | 70/441 [03:56<18:27,  2.98s/it]Found cached dataset lextreme (/Users/test/.cache/huggingface/datasets/joelito___lextreme/covid19_emergency_event/1.0.0/43e5402e22c4ffbf0de470c8e84115dfed02ba82d1f3dad643bbf67fd9b8b415)\n",
      " 16%|██████▊                                   | 71/441 [03:59<18:28,  3.00s/it]Found cached dataset lextreme (/Users/test/.cache/huggingface/datasets/joelito___lextreme/covid19_emergency_event/1.0.0/43e5402e22c4ffbf0de470c8e84115dfed02ba82d1f3dad643bbf67fd9b8b415)\n",
      " 16%|██████▊                                   | 72/441 [04:02<18:20,  2.98s/it]Found cached dataset lextreme (/Users/test/.cache/huggingface/datasets/joelito___lextreme/covid19_emergency_event/1.0.0/43e5402e22c4ffbf0de470c8e84115dfed02ba82d1f3dad643bbf67fd9b8b415)\n",
      " 17%|██████▉                                   | 73/441 [04:05<18:21,  2.99s/it]Found cached dataset lextreme (/Users/test/.cache/huggingface/datasets/joelito___lextreme/covid19_emergency_event/1.0.0/43e5402e22c4ffbf0de470c8e84115dfed02ba82d1f3dad643bbf67fd9b8b415)\n",
      " 17%|███████                                   | 74/441 [04:08<18:25,  3.01s/it]Found cached dataset lextreme (/Users/test/.cache/huggingface/datasets/joelito___lextreme/covid19_emergency_event/1.0.0/43e5402e22c4ffbf0de470c8e84115dfed02ba82d1f3dad643bbf67fd9b8b415)\n",
      " 17%|███████▏                                  | 75/441 [04:11<18:15,  2.99s/it]Found cached dataset lextreme (/Users/test/.cache/huggingface/datasets/joelito___lextreme/covid19_emergency_event/1.0.0/43e5402e22c4ffbf0de470c8e84115dfed02ba82d1f3dad643bbf67fd9b8b415)\n",
      " 17%|███████▏                                  | 76/441 [04:14<18:07,  2.98s/it]Found cached dataset lextreme (/Users/test/.cache/huggingface/datasets/joelito___lextreme/covid19_emergency_event/1.0.0/43e5402e22c4ffbf0de470c8e84115dfed02ba82d1f3dad643bbf67fd9b8b415)\n",
      " 17%|███████▎                                  | 77/441 [04:17<18:12,  3.00s/it]Found cached dataset lextreme (/Users/test/.cache/huggingface/datasets/joelito___lextreme/covid19_emergency_event/1.0.0/43e5402e22c4ffbf0de470c8e84115dfed02ba82d1f3dad643bbf67fd9b8b415)\n",
      " 18%|███████▍                                  | 78/441 [04:20<18:07,  3.00s/it]Found cached dataset lextreme (/Users/test/.cache/huggingface/datasets/joelito___lextreme/covid19_emergency_event/1.0.0/43e5402e22c4ffbf0de470c8e84115dfed02ba82d1f3dad643bbf67fd9b8b415)\n",
      " 18%|███████▌                                  | 79/441 [04:23<17:59,  2.98s/it]Found cached dataset lextreme (/Users/test/.cache/huggingface/datasets/joelito___lextreme/covid19_emergency_event/1.0.0/43e5402e22c4ffbf0de470c8e84115dfed02ba82d1f3dad643bbf67fd9b8b415)\n",
      " 18%|███████▌                                  | 80/441 [04:26<18:02,  3.00s/it]Found cached dataset lextreme (/Users/test/.cache/huggingface/datasets/joelito___lextreme/covid19_emergency_event/1.0.0/43e5402e22c4ffbf0de470c8e84115dfed02ba82d1f3dad643bbf67fd9b8b415)\n",
      " 18%|███████▋                                  | 81/441 [04:29<17:58,  3.00s/it]Found cached dataset lextreme (/Users/test/.cache/huggingface/datasets/joelito___lextreme/covid19_emergency_event/1.0.0/43e5402e22c4ffbf0de470c8e84115dfed02ba82d1f3dad643bbf67fd9b8b415)\n",
      " 19%|███████▊                                  | 82/441 [04:32<17:50,  2.98s/it]Found cached dataset lextreme (/Users/test/.cache/huggingface/datasets/joelito___lextreme/covid19_emergency_event/1.0.0/43e5402e22c4ffbf0de470c8e84115dfed02ba82d1f3dad643bbf67fd9b8b415)\n",
      " 19%|███████▉                                  | 83/441 [04:35<17:43,  2.97s/it]Found cached dataset lextreme (/Users/test/.cache/huggingface/datasets/joelito___lextreme/covid19_emergency_event/1.0.0/43e5402e22c4ffbf0de470c8e84115dfed02ba82d1f3dad643bbf67fd9b8b415)\n",
      " 19%|████████                                  | 84/441 [04:38<17:39,  2.97s/it]Found cached dataset lextreme (/Users/test/.cache/huggingface/datasets/joelito___lextreme/covid19_emergency_event/1.0.0/43e5402e22c4ffbf0de470c8e84115dfed02ba82d1f3dad643bbf67fd9b8b415)\n",
      " 19%|████████                                  | 85/441 [04:41<17:33,  2.96s/it]Found cached dataset lextreme (/Users/test/.cache/huggingface/datasets/joelito___lextreme/multi_eurlex_level_1/1.0.0/43e5402e22c4ffbf0de470c8e84115dfed02ba82d1f3dad643bbf67fd9b8b415)\n",
      " 20%|███████▍                              | 86/441 [16:04<20:24:54, 207.03s/it]Found cached dataset lextreme (/Users/test/.cache/huggingface/datasets/joelito___lextreme/multi_eurlex_level_1/1.0.0/43e5402e22c4ffbf0de470c8e84115dfed02ba82d1f3dad643bbf67fd9b8b415)\n",
      " 20%|███████▍                              | 87/441 [16:55<15:45:05, 160.18s/it]Found cached dataset lextreme (/Users/test/.cache/huggingface/datasets/joelito___lextreme/multi_eurlex_level_1/1.0.0/43e5402e22c4ffbf0de470c8e84115dfed02ba82d1f3dad643bbf67fd9b8b415)\n",
      " 20%|███████▌                              | 88/441 [18:14<13:19:15, 135.85s/it]Found cached dataset lextreme (/Users/test/.cache/huggingface/datasets/joelito___lextreme/multi_eurlex_level_1/1.0.0/43e5402e22c4ffbf0de470c8e84115dfed02ba82d1f3dad643bbf67fd9b8b415)\n",
      " 20%|███████▋                              | 89/441 [30:50<31:27:53, 321.80s/it]Found cached dataset lextreme (/Users/test/.cache/huggingface/datasets/joelito___lextreme/multi_eurlex_level_1/1.0.0/43e5402e22c4ffbf0de470c8e84115dfed02ba82d1f3dad643bbf67fd9b8b415)\n",
      " 20%|███████▊                              | 90/441 [31:42<23:30:18, 241.08s/it]Found cached dataset lextreme (/Users/test/.cache/huggingface/datasets/joelito___lextreme/multi_eurlex_level_1/1.0.0/43e5402e22c4ffbf0de470c8e84115dfed02ba82d1f3dad643bbf67fd9b8b415)\n",
      " 21%|███████▊                              | 91/441 [33:10<18:57:29, 195.00s/it]Found cached dataset lextreme (/Users/test/.cache/huggingface/datasets/joelito___lextreme/multi_eurlex_level_1/1.0.0/43e5402e22c4ffbf0de470c8e84115dfed02ba82d1f3dad643bbf67fd9b8b415)\n"
     ]
    },
    {
     "name": "stderr",
     "output_type": "stream",
     "text": [
      " 21%|███████▉                              | 92/441 [45:25<34:36:55, 357.06s/it]Found cached dataset lextreme (/Users/test/.cache/huggingface/datasets/joelito___lextreme/multi_eurlex_level_1/1.0.0/43e5402e22c4ffbf0de470c8e84115dfed02ba82d1f3dad643bbf67fd9b8b415)\n",
      " 21%|████████                              | 93/441 [46:15<25:36:27, 264.91s/it]Found cached dataset lextreme (/Users/test/.cache/huggingface/datasets/joelito___lextreme/multi_eurlex_level_1/1.0.0/43e5402e22c4ffbf0de470c8e84115dfed02ba82d1f3dad643bbf67fd9b8b415)\n",
      " 21%|████████                              | 94/441 [47:30<20:02:57, 208.01s/it]Found cached dataset lextreme (/Users/test/.cache/huggingface/datasets/joelito___lextreme/multi_eurlex_level_1/1.0.0/43e5402e22c4ffbf0de470c8e84115dfed02ba82d1f3dad643bbf67fd9b8b415)\n",
      " 22%|████████▏                             | 95/441 [59:10<34:09:38, 355.43s/it]Found cached dataset lextreme (/Users/test/.cache/huggingface/datasets/joelito___lextreme/multi_eurlex_level_1/1.0.0/43e5402e22c4ffbf0de470c8e84115dfed02ba82d1f3dad643bbf67fd9b8b415)\n",
      " 22%|████████▎                             | 96/441 [59:58<25:13:09, 263.16s/it]Found cached dataset lextreme (/Users/test/.cache/huggingface/datasets/joelito___lextreme/multi_eurlex_level_1/1.0.0/43e5402e22c4ffbf0de470c8e84115dfed02ba82d1f3dad643bbf67fd9b8b415)\n",
      " 22%|███████▉                            | 97/441 [1:01:10<19:41:32, 206.08s/it]Found cached dataset lextreme (/Users/test/.cache/huggingface/datasets/joelito___lextreme/multi_eurlex_level_1/1.0.0/43e5402e22c4ffbf0de470c8e84115dfed02ba82d1f3dad643bbf67fd9b8b415)\n",
      " 22%|████████                            | 98/441 [1:12:31<33:12:23, 348.52s/it]Found cached dataset lextreme (/Users/test/.cache/huggingface/datasets/joelito___lextreme/multi_eurlex_level_1/1.0.0/43e5402e22c4ffbf0de470c8e84115dfed02ba82d1f3dad643bbf67fd9b8b415)\n",
      " 22%|████████                            | 99/441 [1:13:19<24:31:23, 258.14s/it]Found cached dataset lextreme (/Users/test/.cache/huggingface/datasets/joelito___lextreme/multi_eurlex_level_1/1.0.0/43e5402e22c4ffbf0de470c8e84115dfed02ba82d1f3dad643bbf67fd9b8b415)\n",
      " 23%|███████▉                           | 100/441 [1:14:31<19:10:08, 202.37s/it]Found cached dataset lextreme (/Users/test/.cache/huggingface/datasets/joelito___lextreme/multi_eurlex_level_1/1.0.0/43e5402e22c4ffbf0de470c8e84115dfed02ba82d1f3dad643bbf67fd9b8b415)\n",
      " 23%|████████                           | 101/441 [1:26:09<33:09:55, 351.16s/it]Found cached dataset lextreme (/Users/test/.cache/huggingface/datasets/joelito___lextreme/multi_eurlex_level_1/1.0.0/43e5402e22c4ffbf0de470c8e84115dfed02ba82d1f3dad643bbf67fd9b8b415)\n",
      " 23%|████████                           | 102/441 [1:26:58<24:30:56, 260.34s/it]Found cached dataset lextreme (/Users/test/.cache/huggingface/datasets/joelito___lextreme/multi_eurlex_level_1/1.0.0/43e5402e22c4ffbf0de470c8e84115dfed02ba82d1f3dad643bbf67fd9b8b415)\n",
      " 23%|████████▏                          | 103/441 [1:28:09<19:07:58, 203.78s/it]Found cached dataset lextreme (/Users/test/.cache/huggingface/datasets/joelito___lextreme/multi_eurlex_level_1/1.0.0/43e5402e22c4ffbf0de470c8e84115dfed02ba82d1f3dad643bbf67fd9b8b415)\n",
      " 24%|████████▎                          | 104/441 [1:39:31<32:29:27, 347.08s/it]Found cached dataset lextreme (/Users/test/.cache/huggingface/datasets/joelito___lextreme/multi_eurlex_level_1/1.0.0/43e5402e22c4ffbf0de470c8e84115dfed02ba82d1f3dad643bbf67fd9b8b415)\n",
      " 24%|████████▎                          | 105/441 [1:40:18<24:00:18, 257.20s/it]Found cached dataset lextreme (/Users/test/.cache/huggingface/datasets/joelito___lextreme/multi_eurlex_level_1/1.0.0/43e5402e22c4ffbf0de470c8e84115dfed02ba82d1f3dad643bbf67fd9b8b415)\n",
      " 24%|████████▍                          | 106/441 [1:41:35<18:53:49, 203.07s/it]Found cached dataset lextreme (/Users/test/.cache/huggingface/datasets/joelito___lextreme/multi_eurlex_level_1/1.0.0/43e5402e22c4ffbf0de470c8e84115dfed02ba82d1f3dad643bbf67fd9b8b415)\n",
      " 24%|████████▍                          | 107/441 [1:53:16<32:41:01, 352.28s/it]Found cached dataset lextreme (/Users/test/.cache/huggingface/datasets/joelito___lextreme/multi_eurlex_level_1/1.0.0/43e5402e22c4ffbf0de470c8e84115dfed02ba82d1f3dad643bbf67fd9b8b415)\n",
      " 24%|████████▌                          | 108/441 [1:54:03<24:06:58, 260.71s/it]Found cached dataset lextreme (/Users/test/.cache/huggingface/datasets/joelito___lextreme/multi_eurlex_level_1/1.0.0/43e5402e22c4ffbf0de470c8e84115dfed02ba82d1f3dad643bbf67fd9b8b415)\n",
      " 25%|████████▋                          | 109/441 [1:55:16<18:51:03, 204.41s/it]Found cached dataset lextreme (/Users/test/.cache/huggingface/datasets/joelito___lextreme/multi_eurlex_level_1/1.0.0/43e5402e22c4ffbf0de470c8e84115dfed02ba82d1f3dad643bbf67fd9b8b415)\n",
      " 25%|████████▋                          | 110/441 [2:06:45<32:10:13, 349.89s/it]Found cached dataset lextreme (/Users/test/.cache/huggingface/datasets/joelito___lextreme/multi_eurlex_level_1/1.0.0/43e5402e22c4ffbf0de470c8e84115dfed02ba82d1f3dad643bbf67fd9b8b415)\n",
      " 25%|████████▊                          | 111/441 [2:07:36<23:50:59, 260.18s/it]Found cached dataset lextreme (/Users/test/.cache/huggingface/datasets/joelito___lextreme/multi_eurlex_level_1/1.0.0/43e5402e22c4ffbf0de470c8e84115dfed02ba82d1f3dad643bbf67fd9b8b415)\n",
      " 25%|████████▉                          | 112/441 [2:08:49<18:39:00, 204.07s/it]Found cached dataset lextreme (/Users/test/.cache/huggingface/datasets/joelito___lextreme/multi_eurlex_level_1/1.0.0/43e5402e22c4ffbf0de470c8e84115dfed02ba82d1f3dad643bbf67fd9b8b415)\n",
      " 26%|████████▉                          | 113/441 [2:20:00<31:21:03, 344.10s/it]Found cached dataset lextreme (/Users/test/.cache/huggingface/datasets/joelito___lextreme/multi_eurlex_level_1/1.0.0/43e5402e22c4ffbf0de470c8e84115dfed02ba82d1f3dad643bbf67fd9b8b415)\n",
      " 26%|█████████                          | 114/441 [2:20:49<23:12:35, 255.52s/it]Found cached dataset lextreme (/Users/test/.cache/huggingface/datasets/joelito___lextreme/multi_eurlex_level_1/1.0.0/43e5402e22c4ffbf0de470c8e84115dfed02ba82d1f3dad643bbf67fd9b8b415)\n",
      " 26%|█████████▏                         | 115/441 [2:22:03<18:12:40, 201.11s/it]Found cached dataset lextreme (/Users/test/.cache/huggingface/datasets/joelito___lextreme/multi_eurlex_level_1/1.0.0/43e5402e22c4ffbf0de470c8e84115dfed02ba82d1f3dad643bbf67fd9b8b415)\n",
      " 26%|█████████▏                         | 116/441 [2:33:52<31:54:13, 353.40s/it]Found cached dataset lextreme (/Users/test/.cache/huggingface/datasets/joelito___lextreme/multi_eurlex_level_1/1.0.0/43e5402e22c4ffbf0de470c8e84115dfed02ba82d1f3dad643bbf67fd9b8b415)\n",
      " 27%|█████████▎                         | 117/441 [2:34:40<23:34:59, 262.04s/it]Found cached dataset lextreme (/Users/test/.cache/huggingface/datasets/joelito___lextreme/multi_eurlex_level_1/1.0.0/43e5402e22c4ffbf0de470c8e84115dfed02ba82d1f3dad643bbf67fd9b8b415)\n",
      " 27%|█████████▎                         | 118/441 [2:35:55<18:28:22, 205.89s/it]Found cached dataset lextreme (/Users/test/.cache/huggingface/datasets/joelito___lextreme/multi_eurlex_level_1/1.0.0/43e5402e22c4ffbf0de470c8e84115dfed02ba82d1f3dad643bbf67fd9b8b415)\n",
      " 27%|█████████▍                         | 119/441 [2:47:42<31:51:29, 356.18s/it]Found cached dataset lextreme (/Users/test/.cache/huggingface/datasets/joelito___lextreme/multi_eurlex_level_1/1.0.0/43e5402e22c4ffbf0de470c8e84115dfed02ba82d1f3dad643bbf67fd9b8b415)\n",
      " 27%|█████████▌                         | 120/441 [2:48:31<23:31:53, 263.90s/it]Found cached dataset lextreme (/Users/test/.cache/huggingface/datasets/joelito___lextreme/multi_eurlex_level_1/1.0.0/43e5402e22c4ffbf0de470c8e84115dfed02ba82d1f3dad643bbf67fd9b8b415)\n",
      " 27%|█████████▌                         | 121/441 [2:49:46<18:25:05, 207.20s/it]Found cached dataset lextreme (/Users/test/.cache/huggingface/datasets/joelito___lextreme/multi_eurlex_level_1/1.0.0/43e5402e22c4ffbf0de470c8e84115dfed02ba82d1f3dad643bbf67fd9b8b415)\n",
      " 28%|█████████▋                         | 122/441 [3:01:27<31:29:44, 355.44s/it]Found cached dataset lextreme (/Users/test/.cache/huggingface/datasets/joelito___lextreme/multi_eurlex_level_1/1.0.0/43e5402e22c4ffbf0de470c8e84115dfed02ba82d1f3dad643bbf67fd9b8b415)\n"
     ]
    },
    {
     "name": "stderr",
     "output_type": "stream",
     "text": [
      " 28%|█████████▊                         | 123/441 [3:02:20<23:23:20, 264.78s/it]Found cached dataset lextreme (/Users/test/.cache/huggingface/datasets/joelito___lextreme/multi_eurlex_level_1/1.0.0/43e5402e22c4ffbf0de470c8e84115dfed02ba82d1f3dad643bbf67fd9b8b415)\n",
      " 28%|█████████▊                         | 124/441 [3:03:31<18:11:25, 206.58s/it]Found cached dataset lextreme (/Users/test/.cache/huggingface/datasets/joelito___lextreme/multi_eurlex_level_1/1.0.0/43e5402e22c4ffbf0de470c8e84115dfed02ba82d1f3dad643bbf67fd9b8b415)\n",
      " 28%|█████████▉                         | 125/441 [3:14:58<30:47:51, 350.86s/it]Found cached dataset lextreme (/Users/test/.cache/huggingface/datasets/joelito___lextreme/multi_eurlex_level_1/1.0.0/43e5402e22c4ffbf0de470c8e84115dfed02ba82d1f3dad643bbf67fd9b8b415)\n",
      " 29%|██████████                         | 126/441 [3:15:47<22:46:30, 260.29s/it]Found cached dataset lextreme (/Users/test/.cache/huggingface/datasets/joelito___lextreme/multi_eurlex_level_1/1.0.0/43e5402e22c4ffbf0de470c8e84115dfed02ba82d1f3dad643bbf67fd9b8b415)\n",
      " 29%|██████████                         | 127/441 [3:17:06<17:56:14, 205.65s/it]Found cached dataset lextreme (/Users/test/.cache/huggingface/datasets/joelito___lextreme/multi_eurlex_level_1/1.0.0/43e5402e22c4ffbf0de470c8e84115dfed02ba82d1f3dad643bbf67fd9b8b415)\n",
      " 29%|██████████▏                        | 128/441 [3:28:52<30:57:13, 356.02s/it]Found cached dataset lextreme (/Users/test/.cache/huggingface/datasets/joelito___lextreme/multi_eurlex_level_1/1.0.0/43e5402e22c4ffbf0de470c8e84115dfed02ba82d1f3dad643bbf67fd9b8b415)\n",
      " 29%|██████████▏                        | 129/441 [3:29:40<22:50:27, 263.55s/it]Found cached dataset lextreme (/Users/test/.cache/huggingface/datasets/joelito___lextreme/multi_eurlex_level_1/1.0.0/43e5402e22c4ffbf0de470c8e84115dfed02ba82d1f3dad643bbf67fd9b8b415)\n",
      " 29%|██████████▎                        | 130/441 [3:30:54<17:50:35, 206.55s/it]Found cached dataset lextreme (/Users/test/.cache/huggingface/datasets/joelito___lextreme/multi_eurlex_level_1/1.0.0/43e5402e22c4ffbf0de470c8e84115dfed02ba82d1f3dad643bbf67fd9b8b415)\n",
      " 30%|██████████▍                        | 131/441 [3:42:21<30:11:29, 350.61s/it]Found cached dataset lextreme (/Users/test/.cache/huggingface/datasets/joelito___lextreme/multi_eurlex_level_1/1.0.0/43e5402e22c4ffbf0de470c8e84115dfed02ba82d1f3dad643bbf67fd9b8b415)\n",
      " 30%|██████████▍                        | 132/441 [3:43:08<22:17:54, 259.79s/it]Found cached dataset lextreme (/Users/test/.cache/huggingface/datasets/joelito___lextreme/multi_eurlex_level_1/1.0.0/43e5402e22c4ffbf0de470c8e84115dfed02ba82d1f3dad643bbf67fd9b8b415)\n",
      " 30%|██████████▌                        | 133/441 [3:44:20<17:23:20, 203.25s/it]Found cached dataset lextreme (/Users/test/.cache/huggingface/datasets/joelito___lextreme/multi_eurlex_level_1/1.0.0/43e5402e22c4ffbf0de470c8e84115dfed02ba82d1f3dad643bbf67fd9b8b415)\n",
      " 30%|██████████▋                        | 134/441 [3:56:05<30:10:23, 353.82s/it]Found cached dataset lextreme (/Users/test/.cache/huggingface/datasets/joelito___lextreme/multi_eurlex_level_1/1.0.0/43e5402e22c4ffbf0de470c8e84115dfed02ba82d1f3dad643bbf67fd9b8b415)\n",
      " 31%|██████████▋                        | 135/441 [3:56:54<22:18:28, 262.45s/it]Found cached dataset lextreme (/Users/test/.cache/huggingface/datasets/joelito___lextreme/multi_eurlex_level_1/1.0.0/43e5402e22c4ffbf0de470c8e84115dfed02ba82d1f3dad643bbf67fd9b8b415)\n",
      " 31%|██████████▊                        | 136/441 [3:58:08<17:25:58, 205.76s/it]Found cached dataset lextreme (/Users/test/.cache/huggingface/datasets/joelito___lextreme/multi_eurlex_level_1/1.0.0/43e5402e22c4ffbf0de470c8e84115dfed02ba82d1f3dad643bbf67fd9b8b415)\n",
      " 31%|██████████▊                        | 137/441 [4:09:39<29:40:10, 351.35s/it]Found cached dataset lextreme (/Users/test/.cache/huggingface/datasets/joelito___lextreme/multi_eurlex_level_1/1.0.0/43e5402e22c4ffbf0de470c8e84115dfed02ba82d1f3dad643bbf67fd9b8b415)\n",
      " 31%|██████████▉                        | 138/441 [4:10:28<21:56:00, 260.60s/it]Found cached dataset lextreme (/Users/test/.cache/huggingface/datasets/joelito___lextreme/multi_eurlex_level_1/1.0.0/43e5402e22c4ffbf0de470c8e84115dfed02ba82d1f3dad643bbf67fd9b8b415)\n",
      " 32%|███████████                        | 139/441 [4:11:42<17:10:24, 204.72s/it]Found cached dataset lextreme (/Users/test/.cache/huggingface/datasets/joelito___lextreme/multi_eurlex_level_1/1.0.0/43e5402e22c4ffbf0de470c8e84115dfed02ba82d1f3dad643bbf67fd9b8b415)\n",
      " 32%|███████████                        | 140/441 [4:23:35<29:52:33, 357.32s/it]Found cached dataset lextreme (/Users/test/.cache/huggingface/datasets/joelito___lextreme/multi_eurlex_level_1/1.0.0/43e5402e22c4ffbf0de470c8e84115dfed02ba82d1f3dad643bbf67fd9b8b415)\n",
      " 32%|███████████▏                       | 141/441 [4:24:24<22:03:42, 264.74s/it]Found cached dataset lextreme (/Users/test/.cache/huggingface/datasets/joelito___lextreme/multi_eurlex_level_1/1.0.0/43e5402e22c4ffbf0de470c8e84115dfed02ba82d1f3dad643bbf67fd9b8b415)\n",
      " 32%|███████████▎                       | 142/441 [4:25:38<17:14:50, 207.66s/it]Found cached dataset lextreme (/Users/test/.cache/huggingface/datasets/joelito___lextreme/multi_eurlex_level_1/1.0.0/43e5402e22c4ffbf0de470c8e84115dfed02ba82d1f3dad643bbf67fd9b8b415)\n",
      " 32%|███████████▎                       | 143/441 [4:37:14<29:17:37, 353.89s/it]Found cached dataset lextreme (/Users/test/.cache/huggingface/datasets/joelito___lextreme/multi_eurlex_level_1/1.0.0/43e5402e22c4ffbf0de470c8e84115dfed02ba82d1f3dad643bbf67fd9b8b415)\n",
      " 33%|███████████▍                       | 144/441 [4:38:02<21:38:49, 262.39s/it]Found cached dataset lextreme (/Users/test/.cache/huggingface/datasets/joelito___lextreme/multi_eurlex_level_1/1.0.0/43e5402e22c4ffbf0de470c8e84115dfed02ba82d1f3dad643bbf67fd9b8b415)\n",
      " 33%|███████████▌                       | 145/441 [4:39:20<17:01:17, 207.02s/it]Found cached dataset lextreme (/Users/test/.cache/huggingface/datasets/joelito___lextreme/multi_eurlex_level_1/1.0.0/43e5402e22c4ffbf0de470c8e84115dfed02ba82d1f3dad643bbf67fd9b8b415)\n",
      " 33%|███████████▌                       | 146/441 [4:50:49<28:48:30, 351.56s/it]Found cached dataset lextreme (/Users/test/.cache/huggingface/datasets/joelito___lextreme/multi_eurlex_level_1/1.0.0/43e5402e22c4ffbf0de470c8e84115dfed02ba82d1f3dad643bbf67fd9b8b415)\n",
      " 33%|███████████▋                       | 147/441 [4:51:37<21:16:09, 260.44s/it]Found cached dataset lextreme (/Users/test/.cache/huggingface/datasets/joelito___lextreme/multi_eurlex_level_1/1.0.0/43e5402e22c4ffbf0de470c8e84115dfed02ba82d1f3dad643bbf67fd9b8b415)\n",
      " 34%|███████████▋                       | 148/441 [4:52:50<16:36:46, 204.12s/it]Found cached dataset lextreme (/Users/test/.cache/huggingface/datasets/joelito___lextreme/multi_eurlex_level_1/1.0.0/43e5402e22c4ffbf0de470c8e84115dfed02ba82d1f3dad643bbf67fd9b8b415)\n",
      " 34%|███████████▊                       | 149/441 [5:04:10<28:08:49, 347.02s/it]Found cached dataset lextreme (/Users/test/.cache/huggingface/datasets/joelito___lextreme/multi_eurlex_level_1/1.0.0/43e5402e22c4ffbf0de470c8e84115dfed02ba82d1f3dad643bbf67fd9b8b415)\n",
      " 34%|███████████▉                       | 150/441 [5:04:59<20:49:17, 257.59s/it]Found cached dataset lextreme (/Users/test/.cache/huggingface/datasets/joelito___lextreme/multi_eurlex_level_1/1.0.0/43e5402e22c4ffbf0de470c8e84115dfed02ba82d1f3dad643bbf67fd9b8b415)\n",
      " 34%|███████████▉                       | 151/441 [5:06:13<16:19:32, 202.66s/it]Found cached dataset lextreme (/Users/test/.cache/huggingface/datasets/joelito___lextreme/multi_eurlex_level_1/1.0.0/43e5402e22c4ffbf0de470c8e84115dfed02ba82d1f3dad643bbf67fd9b8b415)\n",
      " 34%|████████████                       | 152/441 [5:17:58<28:21:18, 353.21s/it]Found cached dataset lextreme (/Users/test/.cache/huggingface/datasets/joelito___lextreme/multi_eurlex_level_1/1.0.0/43e5402e22c4ffbf0de470c8e84115dfed02ba82d1f3dad643bbf67fd9b8b415)\n",
      " 35%|████████████▏                      | 153/441 [5:18:47<20:56:57, 261.86s/it]Found cached dataset lextreme (/Users/test/.cache/huggingface/datasets/joelito___lextreme/multi_eurlex_level_1/1.0.0/43e5402e22c4ffbf0de470c8e84115dfed02ba82d1f3dad643bbf67fd9b8b415)\n"
     ]
    },
    {
     "name": "stderr",
     "output_type": "stream",
     "text": [
      " 35%|████████████▏                      | 154/441 [5:20:00<16:22:19, 205.36s/it]Found cached dataset lextreme (/Users/test/.cache/huggingface/datasets/joelito___lextreme/multi_eurlex_level_1/1.0.0/43e5402e22c4ffbf0de470c8e84115dfed02ba82d1f3dad643bbf67fd9b8b415)\n",
      " 35%|████████████▎                      | 155/441 [5:30:45<26:47:12, 337.18s/it]Found cached dataset lextreme (/Users/test/.cache/huggingface/datasets/joelito___lextreme/multi_eurlex_level_1/1.0.0/43e5402e22c4ffbf0de470c8e84115dfed02ba82d1f3dad643bbf67fd9b8b415)\n",
      " 35%|████████████▍                      | 156/441 [5:31:33<19:49:36, 250.45s/it]Found cached dataset lextreme (/Users/test/.cache/huggingface/datasets/joelito___lextreme/multi_eurlex_level_1/1.0.0/43e5402e22c4ffbf0de470c8e84115dfed02ba82d1f3dad643bbf67fd9b8b415)\n",
      " 36%|████████████▍                      | 157/441 [5:32:42<15:27:38, 195.98s/it]"
     ]
    },
    {
     "name": "stdout",
     "output_type": "stream",
     "text": [
      "Downloading and preparing dataset lextreme/multi_eurlex_level_2 to /Users/test/.cache/huggingface/datasets/joelito___lextreme/multi_eurlex_level_2/1.0.0/43e5402e22c4ffbf0de470c8e84115dfed02ba82d1f3dad643bbf67fd9b8b415...\n"
     ]
    },
    {
     "data": {
      "application/vnd.jupyter.widget-view+json": {
       "model_id": "",
       "version_major": 2,
       "version_minor": 0
      },
      "text/plain": [
       "Generating train split: 0 examples [00:00, ? examples/s]"
      ]
     },
     "metadata": {},
     "output_type": "display_data"
    },
    {
     "name": "stderr",
     "output_type": "stream",
     "text": [
      "Found cached dataset multi_eurlex (/Users/test/.cache/huggingface/datasets/multi_eurlex/all_languages/1.0.0/e50b15921a24b8e33941240fe19542e492392357f145d933bd497812181d610d)\n"
     ]
    },
    {
     "data": {
      "application/vnd.jupyter.widget-view+json": {
       "model_id": "",
       "version_major": 2,
       "version_minor": 0
      },
      "text/plain": [
       "Generating validation split: 0 examples [00:00, ? examples/s]"
      ]
     },
     "metadata": {},
     "output_type": "display_data"
    },
    {
     "name": "stderr",
     "output_type": "stream",
     "text": [
      "Found cached dataset multi_eurlex (/Users/test/.cache/huggingface/datasets/multi_eurlex/all_languages/1.0.0/e50b15921a24b8e33941240fe19542e492392357f145d933bd497812181d610d)\n"
     ]
    },
    {
     "data": {
      "application/vnd.jupyter.widget-view+json": {
       "model_id": "",
       "version_major": 2,
       "version_minor": 0
      },
      "text/plain": [
       "Generating test split: 0 examples [00:00, ? examples/s]"
      ]
     },
     "metadata": {},
     "output_type": "display_data"
    },
    {
     "name": "stderr",
     "output_type": "stream",
     "text": [
      "Found cached dataset multi_eurlex (/Users/test/.cache/huggingface/datasets/multi_eurlex/all_languages/1.0.0/e50b15921a24b8e33941240fe19542e492392357f145d933bd497812181d610d)\n"
     ]
    },
    {
     "name": "stdout",
     "output_type": "stream",
     "text": [
      "Dataset lextreme downloaded and prepared to /Users/test/.cache/huggingface/datasets/joelito___lextreme/multi_eurlex_level_2/1.0.0/43e5402e22c4ffbf0de470c8e84115dfed02ba82d1f3dad643bbf67fd9b8b415. Subsequent calls will reuse this data.\n"
     ]
    },
    {
     "name": "stderr",
     "output_type": "stream",
     "text": [
      " 36%|████████████▌                      | 158/441 [5:48:27<33:04:06, 420.66s/it]Found cached dataset lextreme (/Users/test/.cache/huggingface/datasets/joelito___lextreme/multi_eurlex_level_2/1.0.0/43e5402e22c4ffbf0de470c8e84115dfed02ba82d1f3dad643bbf67fd9b8b415)\n",
      " 36%|████████████▌                      | 159/441 [5:49:15<24:11:56, 308.92s/it]Found cached dataset lextreme (/Users/test/.cache/huggingface/datasets/joelito___lextreme/multi_eurlex_level_2/1.0.0/43e5402e22c4ffbf0de470c8e84115dfed02ba82d1f3dad643bbf67fd9b8b415)\n",
      " 36%|████████████▋                      | 160/441 [5:50:40<18:52:39, 241.85s/it]Found cached dataset lextreme (/Users/test/.cache/huggingface/datasets/joelito___lextreme/multi_eurlex_level_2/1.0.0/43e5402e22c4ffbf0de470c8e84115dfed02ba82d1f3dad643bbf67fd9b8b415)\n"
     ]
    }
   ],
   "source": [
    "template['number_of_samples'] = template.progress_apply(lambda x: get_sample_size(x[\"finetuning_task\"], x[\"split\"], x[\"language\"]), axis=1)"
   ]
  },
  {
   "cell_type": "code",
   "execution_count": null,
   "id": "1ebfb7d0",
   "metadata": {},
   "outputs": [],
   "source": [
    "template.to_excel('/Users/test/Downloads/overview_sizes.xlsx', index=False)"
   ]
  },
  {
   "cell_type": "code",
   "execution_count": null,
   "id": "fbe2c372",
   "metadata": {},
   "outputs": [],
   "source": []
  },
  {
   "cell_type": "code",
   "execution_count": null,
   "id": "a762c414",
   "metadata": {},
   "outputs": [],
   "source": []
  }
 ],
 "metadata": {
  "kernelspec": {
   "display_name": "Python 3 (ipykernel)",
   "language": "python",
   "name": "python3"
  },
  "language_info": {
   "codemirror_mode": {
    "name": "ipython",
    "version": 3
   },
   "file_extension": ".py",
   "mimetype": "text/x-python",
   "name": "python",
   "nbconvert_exporter": "python",
   "pygments_lexer": "ipython3",
   "version": "3.9.12"
  }
 },
 "nbformat": 4,
 "nbformat_minor": 5
}
